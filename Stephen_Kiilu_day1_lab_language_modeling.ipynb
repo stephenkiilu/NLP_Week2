{
  "nbformat": 4,
  "nbformat_minor": 0,
  "metadata": {
    "colab": {
      "name": "Stephen Kiilu day1-lab-language-modeling.ipynb",
      "provenance": [],
      "collapsed_sections": [],
      "include_colab_link": true
    },
    "kernelspec": {
      "name": "python3",
      "display_name": "Python 3"
    },
    "language_info": {
      "name": "python"
    },
    "accelerator": "GPU",
    "widgets": {
      "application/vnd.jupyter.widget-state+json": {
        "ce19da80d13846cfa30ee1e4750d8f42": {
          "model_module": "@jupyter-widgets/controls",
          "model_name": "HBoxModel",
          "model_module_version": "1.5.0",
          "state": {
            "_dom_classes": [],
            "_model_module": "@jupyter-widgets/controls",
            "_model_module_version": "1.5.0",
            "_model_name": "HBoxModel",
            "_view_count": null,
            "_view_module": "@jupyter-widgets/controls",
            "_view_module_version": "1.5.0",
            "_view_name": "HBoxView",
            "box_style": "",
            "children": [
              "IPY_MODEL_3977b9f5f1f248fdaee9f9450d80de36",
              "IPY_MODEL_5e922b667c34436c91025643e31dba8e",
              "IPY_MODEL_c7a33fd295ea449c9359b92177075629"
            ],
            "layout": "IPY_MODEL_efb43706395741f0acf99be0be433b87"
          }
        },
        "3977b9f5f1f248fdaee9f9450d80de36": {
          "model_module": "@jupyter-widgets/controls",
          "model_name": "HTMLModel",
          "model_module_version": "1.5.0",
          "state": {
            "_dom_classes": [],
            "_model_module": "@jupyter-widgets/controls",
            "_model_module_version": "1.5.0",
            "_model_name": "HTMLModel",
            "_view_count": null,
            "_view_module": "@jupyter-widgets/controls",
            "_view_module_version": "1.5.0",
            "_view_name": "HTMLView",
            "description": "",
            "description_tooltip": null,
            "layout": "IPY_MODEL_da3345de64ad40d299b452c686cd0c11",
            "placeholder": "​",
            "style": "IPY_MODEL_b037fb253671472db885cd99050a3ad8",
            "value": "100%"
          }
        },
        "5e922b667c34436c91025643e31dba8e": {
          "model_module": "@jupyter-widgets/controls",
          "model_name": "FloatProgressModel",
          "model_module_version": "1.5.0",
          "state": {
            "_dom_classes": [],
            "_model_module": "@jupyter-widgets/controls",
            "_model_module_version": "1.5.0",
            "_model_name": "FloatProgressModel",
            "_view_count": null,
            "_view_module": "@jupyter-widgets/controls",
            "_view_module_version": "1.5.0",
            "_view_name": "ProgressView",
            "bar_style": "success",
            "description": "",
            "description_tooltip": null,
            "layout": "IPY_MODEL_348beaa88df042808296c8f15b6ebcf4",
            "max": 133176,
            "min": 0,
            "orientation": "horizontal",
            "style": "IPY_MODEL_880348fb509d46c9a6b1685b571c1b69",
            "value": 133176
          }
        },
        "c7a33fd295ea449c9359b92177075629": {
          "model_module": "@jupyter-widgets/controls",
          "model_name": "HTMLModel",
          "model_module_version": "1.5.0",
          "state": {
            "_dom_classes": [],
            "_model_module": "@jupyter-widgets/controls",
            "_model_module_version": "1.5.0",
            "_model_name": "HTMLModel",
            "_view_count": null,
            "_view_module": "@jupyter-widgets/controls",
            "_view_module_version": "1.5.0",
            "_view_name": "HTMLView",
            "description": "",
            "description_tooltip": null,
            "layout": "IPY_MODEL_16ff6d497b1847bdb12befc53fdd2b6e",
            "placeholder": "​",
            "style": "IPY_MODEL_d0280a8650c04b44abdb96b763248f25",
            "value": " 133176/133176 [00:00&lt;00:00, 559048.72it/s]"
          }
        },
        "efb43706395741f0acf99be0be433b87": {
          "model_module": "@jupyter-widgets/base",
          "model_name": "LayoutModel",
          "model_module_version": "1.2.0",
          "state": {
            "_model_module": "@jupyter-widgets/base",
            "_model_module_version": "1.2.0",
            "_model_name": "LayoutModel",
            "_view_count": null,
            "_view_module": "@jupyter-widgets/base",
            "_view_module_version": "1.2.0",
            "_view_name": "LayoutView",
            "align_content": null,
            "align_items": null,
            "align_self": null,
            "border": null,
            "bottom": null,
            "display": null,
            "flex": null,
            "flex_flow": null,
            "grid_area": null,
            "grid_auto_columns": null,
            "grid_auto_flow": null,
            "grid_auto_rows": null,
            "grid_column": null,
            "grid_gap": null,
            "grid_row": null,
            "grid_template_areas": null,
            "grid_template_columns": null,
            "grid_template_rows": null,
            "height": null,
            "justify_content": null,
            "justify_items": null,
            "left": null,
            "margin": null,
            "max_height": null,
            "max_width": null,
            "min_height": null,
            "min_width": null,
            "object_fit": null,
            "object_position": null,
            "order": null,
            "overflow": null,
            "overflow_x": null,
            "overflow_y": null,
            "padding": null,
            "right": null,
            "top": null,
            "visibility": null,
            "width": null
          }
        },
        "da3345de64ad40d299b452c686cd0c11": {
          "model_module": "@jupyter-widgets/base",
          "model_name": "LayoutModel",
          "model_module_version": "1.2.0",
          "state": {
            "_model_module": "@jupyter-widgets/base",
            "_model_module_version": "1.2.0",
            "_model_name": "LayoutModel",
            "_view_count": null,
            "_view_module": "@jupyter-widgets/base",
            "_view_module_version": "1.2.0",
            "_view_name": "LayoutView",
            "align_content": null,
            "align_items": null,
            "align_self": null,
            "border": null,
            "bottom": null,
            "display": null,
            "flex": null,
            "flex_flow": null,
            "grid_area": null,
            "grid_auto_columns": null,
            "grid_auto_flow": null,
            "grid_auto_rows": null,
            "grid_column": null,
            "grid_gap": null,
            "grid_row": null,
            "grid_template_areas": null,
            "grid_template_columns": null,
            "grid_template_rows": null,
            "height": null,
            "justify_content": null,
            "justify_items": null,
            "left": null,
            "margin": null,
            "max_height": null,
            "max_width": null,
            "min_height": null,
            "min_width": null,
            "object_fit": null,
            "object_position": null,
            "order": null,
            "overflow": null,
            "overflow_x": null,
            "overflow_y": null,
            "padding": null,
            "right": null,
            "top": null,
            "visibility": null,
            "width": null
          }
        },
        "b037fb253671472db885cd99050a3ad8": {
          "model_module": "@jupyter-widgets/controls",
          "model_name": "DescriptionStyleModel",
          "model_module_version": "1.5.0",
          "state": {
            "_model_module": "@jupyter-widgets/controls",
            "_model_module_version": "1.5.0",
            "_model_name": "DescriptionStyleModel",
            "_view_count": null,
            "_view_module": "@jupyter-widgets/base",
            "_view_module_version": "1.2.0",
            "_view_name": "StyleView",
            "description_width": ""
          }
        },
        "348beaa88df042808296c8f15b6ebcf4": {
          "model_module": "@jupyter-widgets/base",
          "model_name": "LayoutModel",
          "model_module_version": "1.2.0",
          "state": {
            "_model_module": "@jupyter-widgets/base",
            "_model_module_version": "1.2.0",
            "_model_name": "LayoutModel",
            "_view_count": null,
            "_view_module": "@jupyter-widgets/base",
            "_view_module_version": "1.2.0",
            "_view_name": "LayoutView",
            "align_content": null,
            "align_items": null,
            "align_self": null,
            "border": null,
            "bottom": null,
            "display": null,
            "flex": null,
            "flex_flow": null,
            "grid_area": null,
            "grid_auto_columns": null,
            "grid_auto_flow": null,
            "grid_auto_rows": null,
            "grid_column": null,
            "grid_gap": null,
            "grid_row": null,
            "grid_template_areas": null,
            "grid_template_columns": null,
            "grid_template_rows": null,
            "height": null,
            "justify_content": null,
            "justify_items": null,
            "left": null,
            "margin": null,
            "max_height": null,
            "max_width": null,
            "min_height": null,
            "min_width": null,
            "object_fit": null,
            "object_position": null,
            "order": null,
            "overflow": null,
            "overflow_x": null,
            "overflow_y": null,
            "padding": null,
            "right": null,
            "top": null,
            "visibility": null,
            "width": null
          }
        },
        "880348fb509d46c9a6b1685b571c1b69": {
          "model_module": "@jupyter-widgets/controls",
          "model_name": "ProgressStyleModel",
          "model_module_version": "1.5.0",
          "state": {
            "_model_module": "@jupyter-widgets/controls",
            "_model_module_version": "1.5.0",
            "_model_name": "ProgressStyleModel",
            "_view_count": null,
            "_view_module": "@jupyter-widgets/base",
            "_view_module_version": "1.2.0",
            "_view_name": "StyleView",
            "bar_color": null,
            "description_width": ""
          }
        },
        "16ff6d497b1847bdb12befc53fdd2b6e": {
          "model_module": "@jupyter-widgets/base",
          "model_name": "LayoutModel",
          "model_module_version": "1.2.0",
          "state": {
            "_model_module": "@jupyter-widgets/base",
            "_model_module_version": "1.2.0",
            "_model_name": "LayoutModel",
            "_view_count": null,
            "_view_module": "@jupyter-widgets/base",
            "_view_module_version": "1.2.0",
            "_view_name": "LayoutView",
            "align_content": null,
            "align_items": null,
            "align_self": null,
            "border": null,
            "bottom": null,
            "display": null,
            "flex": null,
            "flex_flow": null,
            "grid_area": null,
            "grid_auto_columns": null,
            "grid_auto_flow": null,
            "grid_auto_rows": null,
            "grid_column": null,
            "grid_gap": null,
            "grid_row": null,
            "grid_template_areas": null,
            "grid_template_columns": null,
            "grid_template_rows": null,
            "height": null,
            "justify_content": null,
            "justify_items": null,
            "left": null,
            "margin": null,
            "max_height": null,
            "max_width": null,
            "min_height": null,
            "min_width": null,
            "object_fit": null,
            "object_position": null,
            "order": null,
            "overflow": null,
            "overflow_x": null,
            "overflow_y": null,
            "padding": null,
            "right": null,
            "top": null,
            "visibility": null,
            "width": null
          }
        },
        "d0280a8650c04b44abdb96b763248f25": {
          "model_module": "@jupyter-widgets/controls",
          "model_name": "DescriptionStyleModel",
          "model_module_version": "1.5.0",
          "state": {
            "_model_module": "@jupyter-widgets/controls",
            "_model_module_version": "1.5.0",
            "_model_name": "DescriptionStyleModel",
            "_view_count": null,
            "_view_module": "@jupyter-widgets/base",
            "_view_module_version": "1.2.0",
            "_view_name": "StyleView",
            "description_width": ""
          }
        },
        "764d98af2eef41698234e4a24f2e85b2": {
          "model_module": "@jupyter-widgets/controls",
          "model_name": "HBoxModel",
          "model_module_version": "1.5.0",
          "state": {
            "_dom_classes": [],
            "_model_module": "@jupyter-widgets/controls",
            "_model_module_version": "1.5.0",
            "_model_name": "HBoxModel",
            "_view_count": null,
            "_view_module": "@jupyter-widgets/controls",
            "_view_module_version": "1.5.0",
            "_view_name": "HBoxView",
            "box_style": "",
            "children": [
              "IPY_MODEL_f3dd3032358a4ae2bf1700dd587974cd",
              "IPY_MODEL_cd0e700ceb9740f0b13f7dda5ba82443",
              "IPY_MODEL_0e70783a9e97488fa32145180067289c"
            ],
            "layout": "IPY_MODEL_e33f2b84b79d4546b971e4eaee81fa3a"
          }
        },
        "f3dd3032358a4ae2bf1700dd587974cd": {
          "model_module": "@jupyter-widgets/controls",
          "model_name": "HTMLModel",
          "model_module_version": "1.5.0",
          "state": {
            "_dom_classes": [],
            "_model_module": "@jupyter-widgets/controls",
            "_model_module_version": "1.5.0",
            "_model_name": "HTMLModel",
            "_view_count": null,
            "_view_module": "@jupyter-widgets/controls",
            "_view_module_version": "1.5.0",
            "_view_name": "HTMLView",
            "description": "",
            "description_tooltip": null,
            "layout": "IPY_MODEL_c8402592957447b4946edcfcce293d39",
            "placeholder": "​",
            "style": "IPY_MODEL_df7fbd69989c4e898463b9b9e02287e5",
            "value": "Downloading: 100%"
          }
        },
        "cd0e700ceb9740f0b13f7dda5ba82443": {
          "model_module": "@jupyter-widgets/controls",
          "model_name": "FloatProgressModel",
          "model_module_version": "1.5.0",
          "state": {
            "_dom_classes": [],
            "_model_module": "@jupyter-widgets/controls",
            "_model_module_version": "1.5.0",
            "_model_name": "FloatProgressModel",
            "_view_count": null,
            "_view_module": "@jupyter-widgets/controls",
            "_view_module_version": "1.5.0",
            "_view_name": "ProgressView",
            "bar_style": "success",
            "description": "",
            "description_tooltip": null,
            "layout": "IPY_MODEL_6420d1cd2afd407c8dab6b347f1159a3",
            "max": 1173,
            "min": 0,
            "orientation": "horizontal",
            "style": "IPY_MODEL_67d81b5ec71e4963ab532549aad3370d",
            "value": 1173
          }
        },
        "0e70783a9e97488fa32145180067289c": {
          "model_module": "@jupyter-widgets/controls",
          "model_name": "HTMLModel",
          "model_module_version": "1.5.0",
          "state": {
            "_dom_classes": [],
            "_model_module": "@jupyter-widgets/controls",
            "_model_module_version": "1.5.0",
            "_model_name": "HTMLModel",
            "_view_count": null,
            "_view_module": "@jupyter-widgets/controls",
            "_view_module_version": "1.5.0",
            "_view_name": "HTMLView",
            "description": "",
            "description_tooltip": null,
            "layout": "IPY_MODEL_5a4afb40fb544df1ac3396078e05fba2",
            "placeholder": "​",
            "style": "IPY_MODEL_ab5ea21dde9b46e68aacf2955b87962d",
            "value": " 1.17k/1.17k [00:00&lt;00:00, 21.6kB/s]"
          }
        },
        "e33f2b84b79d4546b971e4eaee81fa3a": {
          "model_module": "@jupyter-widgets/base",
          "model_name": "LayoutModel",
          "model_module_version": "1.2.0",
          "state": {
            "_model_module": "@jupyter-widgets/base",
            "_model_module_version": "1.2.0",
            "_model_name": "LayoutModel",
            "_view_count": null,
            "_view_module": "@jupyter-widgets/base",
            "_view_module_version": "1.2.0",
            "_view_name": "LayoutView",
            "align_content": null,
            "align_items": null,
            "align_self": null,
            "border": null,
            "bottom": null,
            "display": null,
            "flex": null,
            "flex_flow": null,
            "grid_area": null,
            "grid_auto_columns": null,
            "grid_auto_flow": null,
            "grid_auto_rows": null,
            "grid_column": null,
            "grid_gap": null,
            "grid_row": null,
            "grid_template_areas": null,
            "grid_template_columns": null,
            "grid_template_rows": null,
            "height": null,
            "justify_content": null,
            "justify_items": null,
            "left": null,
            "margin": null,
            "max_height": null,
            "max_width": null,
            "min_height": null,
            "min_width": null,
            "object_fit": null,
            "object_position": null,
            "order": null,
            "overflow": null,
            "overflow_x": null,
            "overflow_y": null,
            "padding": null,
            "right": null,
            "top": null,
            "visibility": null,
            "width": null
          }
        },
        "c8402592957447b4946edcfcce293d39": {
          "model_module": "@jupyter-widgets/base",
          "model_name": "LayoutModel",
          "model_module_version": "1.2.0",
          "state": {
            "_model_module": "@jupyter-widgets/base",
            "_model_module_version": "1.2.0",
            "_model_name": "LayoutModel",
            "_view_count": null,
            "_view_module": "@jupyter-widgets/base",
            "_view_module_version": "1.2.0",
            "_view_name": "LayoutView",
            "align_content": null,
            "align_items": null,
            "align_self": null,
            "border": null,
            "bottom": null,
            "display": null,
            "flex": null,
            "flex_flow": null,
            "grid_area": null,
            "grid_auto_columns": null,
            "grid_auto_flow": null,
            "grid_auto_rows": null,
            "grid_column": null,
            "grid_gap": null,
            "grid_row": null,
            "grid_template_areas": null,
            "grid_template_columns": null,
            "grid_template_rows": null,
            "height": null,
            "justify_content": null,
            "justify_items": null,
            "left": null,
            "margin": null,
            "max_height": null,
            "max_width": null,
            "min_height": null,
            "min_width": null,
            "object_fit": null,
            "object_position": null,
            "order": null,
            "overflow": null,
            "overflow_x": null,
            "overflow_y": null,
            "padding": null,
            "right": null,
            "top": null,
            "visibility": null,
            "width": null
          }
        },
        "df7fbd69989c4e898463b9b9e02287e5": {
          "model_module": "@jupyter-widgets/controls",
          "model_name": "DescriptionStyleModel",
          "model_module_version": "1.5.0",
          "state": {
            "_model_module": "@jupyter-widgets/controls",
            "_model_module_version": "1.5.0",
            "_model_name": "DescriptionStyleModel",
            "_view_count": null,
            "_view_module": "@jupyter-widgets/base",
            "_view_module_version": "1.2.0",
            "_view_name": "StyleView",
            "description_width": ""
          }
        },
        "6420d1cd2afd407c8dab6b347f1159a3": {
          "model_module": "@jupyter-widgets/base",
          "model_name": "LayoutModel",
          "model_module_version": "1.2.0",
          "state": {
            "_model_module": "@jupyter-widgets/base",
            "_model_module_version": "1.2.0",
            "_model_name": "LayoutModel",
            "_view_count": null,
            "_view_module": "@jupyter-widgets/base",
            "_view_module_version": "1.2.0",
            "_view_name": "LayoutView",
            "align_content": null,
            "align_items": null,
            "align_self": null,
            "border": null,
            "bottom": null,
            "display": null,
            "flex": null,
            "flex_flow": null,
            "grid_area": null,
            "grid_auto_columns": null,
            "grid_auto_flow": null,
            "grid_auto_rows": null,
            "grid_column": null,
            "grid_gap": null,
            "grid_row": null,
            "grid_template_areas": null,
            "grid_template_columns": null,
            "grid_template_rows": null,
            "height": null,
            "justify_content": null,
            "justify_items": null,
            "left": null,
            "margin": null,
            "max_height": null,
            "max_width": null,
            "min_height": null,
            "min_width": null,
            "object_fit": null,
            "object_position": null,
            "order": null,
            "overflow": null,
            "overflow_x": null,
            "overflow_y": null,
            "padding": null,
            "right": null,
            "top": null,
            "visibility": null,
            "width": null
          }
        },
        "67d81b5ec71e4963ab532549aad3370d": {
          "model_module": "@jupyter-widgets/controls",
          "model_name": "ProgressStyleModel",
          "model_module_version": "1.5.0",
          "state": {
            "_model_module": "@jupyter-widgets/controls",
            "_model_module_version": "1.5.0",
            "_model_name": "ProgressStyleModel",
            "_view_count": null,
            "_view_module": "@jupyter-widgets/base",
            "_view_module_version": "1.2.0",
            "_view_name": "StyleView",
            "bar_color": null,
            "description_width": ""
          }
        },
        "5a4afb40fb544df1ac3396078e05fba2": {
          "model_module": "@jupyter-widgets/base",
          "model_name": "LayoutModel",
          "model_module_version": "1.2.0",
          "state": {
            "_model_module": "@jupyter-widgets/base",
            "_model_module_version": "1.2.0",
            "_model_name": "LayoutModel",
            "_view_count": null,
            "_view_module": "@jupyter-widgets/base",
            "_view_module_version": "1.2.0",
            "_view_name": "LayoutView",
            "align_content": null,
            "align_items": null,
            "align_self": null,
            "border": null,
            "bottom": null,
            "display": null,
            "flex": null,
            "flex_flow": null,
            "grid_area": null,
            "grid_auto_columns": null,
            "grid_auto_flow": null,
            "grid_auto_rows": null,
            "grid_column": null,
            "grid_gap": null,
            "grid_row": null,
            "grid_template_areas": null,
            "grid_template_columns": null,
            "grid_template_rows": null,
            "height": null,
            "justify_content": null,
            "justify_items": null,
            "left": null,
            "margin": null,
            "max_height": null,
            "max_width": null,
            "min_height": null,
            "min_width": null,
            "object_fit": null,
            "object_position": null,
            "order": null,
            "overflow": null,
            "overflow_x": null,
            "overflow_y": null,
            "padding": null,
            "right": null,
            "top": null,
            "visibility": null,
            "width": null
          }
        },
        "ab5ea21dde9b46e68aacf2955b87962d": {
          "model_module": "@jupyter-widgets/controls",
          "model_name": "DescriptionStyleModel",
          "model_module_version": "1.5.0",
          "state": {
            "_model_module": "@jupyter-widgets/controls",
            "_model_module_version": "1.5.0",
            "_model_name": "DescriptionStyleModel",
            "_view_count": null,
            "_view_module": "@jupyter-widgets/base",
            "_view_module_version": "1.2.0",
            "_view_name": "StyleView",
            "description_width": ""
          }
        },
        "ece1e018b97d456890e0bb758e205e9d": {
          "model_module": "@jupyter-widgets/controls",
          "model_name": "HBoxModel",
          "model_module_version": "1.5.0",
          "state": {
            "_dom_classes": [],
            "_model_module": "@jupyter-widgets/controls",
            "_model_module_version": "1.5.0",
            "_model_name": "HBoxModel",
            "_view_count": null,
            "_view_module": "@jupyter-widgets/controls",
            "_view_module_version": "1.5.0",
            "_view_name": "HBoxView",
            "box_style": "",
            "children": [
              "IPY_MODEL_aea6c0cb6c96439fbf3c48e860c3d96d",
              "IPY_MODEL_ba61fa87081943ed97ae82260158427c",
              "IPY_MODEL_d9159c86b5414a1ba9faef52a6c18329"
            ],
            "layout": "IPY_MODEL_e0c4f93742b54f4783f9aea9dc9479cd"
          }
        },
        "aea6c0cb6c96439fbf3c48e860c3d96d": {
          "model_module": "@jupyter-widgets/controls",
          "model_name": "HTMLModel",
          "model_module_version": "1.5.0",
          "state": {
            "_dom_classes": [],
            "_model_module": "@jupyter-widgets/controls",
            "_model_module_version": "1.5.0",
            "_model_name": "HTMLModel",
            "_view_count": null,
            "_view_module": "@jupyter-widgets/controls",
            "_view_module_version": "1.5.0",
            "_view_name": "HTMLView",
            "description": "",
            "description_tooltip": null,
            "layout": "IPY_MODEL_69ac68db5b844aaaba0f6996dc355cb5",
            "placeholder": "​",
            "style": "IPY_MODEL_24fcdbb3f060456bb2b3fd4ef773b45c",
            "value": "Downloading: 100%"
          }
        },
        "ba61fa87081943ed97ae82260158427c": {
          "model_module": "@jupyter-widgets/controls",
          "model_name": "FloatProgressModel",
          "model_module_version": "1.5.0",
          "state": {
            "_dom_classes": [],
            "_model_module": "@jupyter-widgets/controls",
            "_model_module_version": "1.5.0",
            "_model_name": "FloatProgressModel",
            "_view_count": null,
            "_view_module": "@jupyter-widgets/controls",
            "_view_module_version": "1.5.0",
            "_view_name": "ProgressView",
            "bar_style": "success",
            "description": "",
            "description_tooltip": null,
            "layout": "IPY_MODEL_922efc89c92e46c4b16c15b3ec86d43f",
            "max": 9058,
            "min": 0,
            "orientation": "horizontal",
            "style": "IPY_MODEL_3d356ac4f57840fc92551d31d92cefa4",
            "value": 9058
          }
        },
        "d9159c86b5414a1ba9faef52a6c18329": {
          "model_module": "@jupyter-widgets/controls",
          "model_name": "HTMLModel",
          "model_module_version": "1.5.0",
          "state": {
            "_dom_classes": [],
            "_model_module": "@jupyter-widgets/controls",
            "_model_module_version": "1.5.0",
            "_model_name": "HTMLModel",
            "_view_count": null,
            "_view_module": "@jupyter-widgets/controls",
            "_view_module_version": "1.5.0",
            "_view_name": "HTMLView",
            "description": "",
            "description_tooltip": null,
            "layout": "IPY_MODEL_57db7a43139e4535af682cfb8f674052",
            "placeholder": "​",
            "style": "IPY_MODEL_ce3cc286f3854f89bc7aec05f5a04e29",
            "value": " 9.06k/9.06k [00:00&lt;00:00, 170kB/s]"
          }
        },
        "e0c4f93742b54f4783f9aea9dc9479cd": {
          "model_module": "@jupyter-widgets/base",
          "model_name": "LayoutModel",
          "model_module_version": "1.2.0",
          "state": {
            "_model_module": "@jupyter-widgets/base",
            "_model_module_version": "1.2.0",
            "_model_name": "LayoutModel",
            "_view_count": null,
            "_view_module": "@jupyter-widgets/base",
            "_view_module_version": "1.2.0",
            "_view_name": "LayoutView",
            "align_content": null,
            "align_items": null,
            "align_self": null,
            "border": null,
            "bottom": null,
            "display": null,
            "flex": null,
            "flex_flow": null,
            "grid_area": null,
            "grid_auto_columns": null,
            "grid_auto_flow": null,
            "grid_auto_rows": null,
            "grid_column": null,
            "grid_gap": null,
            "grid_row": null,
            "grid_template_areas": null,
            "grid_template_columns": null,
            "grid_template_rows": null,
            "height": null,
            "justify_content": null,
            "justify_items": null,
            "left": null,
            "margin": null,
            "max_height": null,
            "max_width": null,
            "min_height": null,
            "min_width": null,
            "object_fit": null,
            "object_position": null,
            "order": null,
            "overflow": null,
            "overflow_x": null,
            "overflow_y": null,
            "padding": null,
            "right": null,
            "top": null,
            "visibility": null,
            "width": null
          }
        },
        "69ac68db5b844aaaba0f6996dc355cb5": {
          "model_module": "@jupyter-widgets/base",
          "model_name": "LayoutModel",
          "model_module_version": "1.2.0",
          "state": {
            "_model_module": "@jupyter-widgets/base",
            "_model_module_version": "1.2.0",
            "_model_name": "LayoutModel",
            "_view_count": null,
            "_view_module": "@jupyter-widgets/base",
            "_view_module_version": "1.2.0",
            "_view_name": "LayoutView",
            "align_content": null,
            "align_items": null,
            "align_self": null,
            "border": null,
            "bottom": null,
            "display": null,
            "flex": null,
            "flex_flow": null,
            "grid_area": null,
            "grid_auto_columns": null,
            "grid_auto_flow": null,
            "grid_auto_rows": null,
            "grid_column": null,
            "grid_gap": null,
            "grid_row": null,
            "grid_template_areas": null,
            "grid_template_columns": null,
            "grid_template_rows": null,
            "height": null,
            "justify_content": null,
            "justify_items": null,
            "left": null,
            "margin": null,
            "max_height": null,
            "max_width": null,
            "min_height": null,
            "min_width": null,
            "object_fit": null,
            "object_position": null,
            "order": null,
            "overflow": null,
            "overflow_x": null,
            "overflow_y": null,
            "padding": null,
            "right": null,
            "top": null,
            "visibility": null,
            "width": null
          }
        },
        "24fcdbb3f060456bb2b3fd4ef773b45c": {
          "model_module": "@jupyter-widgets/controls",
          "model_name": "DescriptionStyleModel",
          "model_module_version": "1.5.0",
          "state": {
            "_model_module": "@jupyter-widgets/controls",
            "_model_module_version": "1.5.0",
            "_model_name": "DescriptionStyleModel",
            "_view_count": null,
            "_view_module": "@jupyter-widgets/base",
            "_view_module_version": "1.2.0",
            "_view_name": "StyleView",
            "description_width": ""
          }
        },
        "922efc89c92e46c4b16c15b3ec86d43f": {
          "model_module": "@jupyter-widgets/base",
          "model_name": "LayoutModel",
          "model_module_version": "1.2.0",
          "state": {
            "_model_module": "@jupyter-widgets/base",
            "_model_module_version": "1.2.0",
            "_model_name": "LayoutModel",
            "_view_count": null,
            "_view_module": "@jupyter-widgets/base",
            "_view_module_version": "1.2.0",
            "_view_name": "LayoutView",
            "align_content": null,
            "align_items": null,
            "align_self": null,
            "border": null,
            "bottom": null,
            "display": null,
            "flex": null,
            "flex_flow": null,
            "grid_area": null,
            "grid_auto_columns": null,
            "grid_auto_flow": null,
            "grid_auto_rows": null,
            "grid_column": null,
            "grid_gap": null,
            "grid_row": null,
            "grid_template_areas": null,
            "grid_template_columns": null,
            "grid_template_rows": null,
            "height": null,
            "justify_content": null,
            "justify_items": null,
            "left": null,
            "margin": null,
            "max_height": null,
            "max_width": null,
            "min_height": null,
            "min_width": null,
            "object_fit": null,
            "object_position": null,
            "order": null,
            "overflow": null,
            "overflow_x": null,
            "overflow_y": null,
            "padding": null,
            "right": null,
            "top": null,
            "visibility": null,
            "width": null
          }
        },
        "3d356ac4f57840fc92551d31d92cefa4": {
          "model_module": "@jupyter-widgets/controls",
          "model_name": "ProgressStyleModel",
          "model_module_version": "1.5.0",
          "state": {
            "_model_module": "@jupyter-widgets/controls",
            "_model_module_version": "1.5.0",
            "_model_name": "ProgressStyleModel",
            "_view_count": null,
            "_view_module": "@jupyter-widgets/base",
            "_view_module_version": "1.2.0",
            "_view_name": "StyleView",
            "bar_color": null,
            "description_width": ""
          }
        },
        "57db7a43139e4535af682cfb8f674052": {
          "model_module": "@jupyter-widgets/base",
          "model_name": "LayoutModel",
          "model_module_version": "1.2.0",
          "state": {
            "_model_module": "@jupyter-widgets/base",
            "_model_module_version": "1.2.0",
            "_model_name": "LayoutModel",
            "_view_count": null,
            "_view_module": "@jupyter-widgets/base",
            "_view_module_version": "1.2.0",
            "_view_name": "LayoutView",
            "align_content": null,
            "align_items": null,
            "align_self": null,
            "border": null,
            "bottom": null,
            "display": null,
            "flex": null,
            "flex_flow": null,
            "grid_area": null,
            "grid_auto_columns": null,
            "grid_auto_flow": null,
            "grid_auto_rows": null,
            "grid_column": null,
            "grid_gap": null,
            "grid_row": null,
            "grid_template_areas": null,
            "grid_template_columns": null,
            "grid_template_rows": null,
            "height": null,
            "justify_content": null,
            "justify_items": null,
            "left": null,
            "margin": null,
            "max_height": null,
            "max_width": null,
            "min_height": null,
            "min_width": null,
            "object_fit": null,
            "object_position": null,
            "order": null,
            "overflow": null,
            "overflow_x": null,
            "overflow_y": null,
            "padding": null,
            "right": null,
            "top": null,
            "visibility": null,
            "width": null
          }
        },
        "ce3cc286f3854f89bc7aec05f5a04e29": {
          "model_module": "@jupyter-widgets/controls",
          "model_name": "DescriptionStyleModel",
          "model_module_version": "1.5.0",
          "state": {
            "_model_module": "@jupyter-widgets/controls",
            "_model_module_version": "1.5.0",
            "_model_name": "DescriptionStyleModel",
            "_view_count": null,
            "_view_module": "@jupyter-widgets/base",
            "_view_module_version": "1.2.0",
            "_view_name": "StyleView",
            "description_width": ""
          }
        },
        "54333c121f7c46da8f1aa01928492483": {
          "model_module": "@jupyter-widgets/controls",
          "model_name": "HBoxModel",
          "model_module_version": "1.5.0",
          "state": {
            "_dom_classes": [],
            "_model_module": "@jupyter-widgets/controls",
            "_model_module_version": "1.5.0",
            "_model_name": "HBoxModel",
            "_view_count": null,
            "_view_module": "@jupyter-widgets/controls",
            "_view_module_version": "1.5.0",
            "_view_name": "HBoxView",
            "box_style": "",
            "children": [
              "IPY_MODEL_045b1adcb2134b24b963bbb500de212f",
              "IPY_MODEL_5ad581ce4c794eeb92c6b49871c955ee",
              "IPY_MODEL_f68d087fb0014e0fac432cea9d713d36"
            ],
            "layout": "IPY_MODEL_f91ac592d1714d4f86a983c261e0d101"
          }
        },
        "045b1adcb2134b24b963bbb500de212f": {
          "model_module": "@jupyter-widgets/controls",
          "model_name": "HTMLModel",
          "model_module_version": "1.5.0",
          "state": {
            "_dom_classes": [],
            "_model_module": "@jupyter-widgets/controls",
            "_model_module_version": "1.5.0",
            "_model_name": "HTMLModel",
            "_view_count": null,
            "_view_module": "@jupyter-widgets/controls",
            "_view_module_version": "1.5.0",
            "_view_name": "HTMLView",
            "description": "",
            "description_tooltip": null,
            "layout": "IPY_MODEL_d0e356bff74a45b393c12e8c652bc891",
            "placeholder": "​",
            "style": "IPY_MODEL_aa2ba6e4ecb54cb981bd08744bfb64da",
            "value": "Downloading: 100%"
          }
        },
        "5ad581ce4c794eeb92c6b49871c955ee": {
          "model_module": "@jupyter-widgets/controls",
          "model_name": "FloatProgressModel",
          "model_module_version": "1.5.0",
          "state": {
            "_dom_classes": [],
            "_model_module": "@jupyter-widgets/controls",
            "_model_module_version": "1.5.0",
            "_model_name": "FloatProgressModel",
            "_view_count": null,
            "_view_module": "@jupyter-widgets/controls",
            "_view_module_version": "1.5.0",
            "_view_name": "ProgressView",
            "bar_style": "success",
            "description": "",
            "description_tooltip": null,
            "layout": "IPY_MODEL_3393b554b13b401aaaa888e0f5f52789",
            "max": 614,
            "min": 0,
            "orientation": "horizontal",
            "style": "IPY_MODEL_9f1300d272cc4508aadd3cee65c12a96",
            "value": 614
          }
        },
        "f68d087fb0014e0fac432cea9d713d36": {
          "model_module": "@jupyter-widgets/controls",
          "model_name": "HTMLModel",
          "model_module_version": "1.5.0",
          "state": {
            "_dom_classes": [],
            "_model_module": "@jupyter-widgets/controls",
            "_model_module_version": "1.5.0",
            "_model_name": "HTMLModel",
            "_view_count": null,
            "_view_module": "@jupyter-widgets/controls",
            "_view_module_version": "1.5.0",
            "_view_name": "HTMLView",
            "description": "",
            "description_tooltip": null,
            "layout": "IPY_MODEL_e2fdd682880e49b2a2a55fec47232fc3",
            "placeholder": "​",
            "style": "IPY_MODEL_65c0c77eb5d147749cdf147a0b09f465",
            "value": " 614/614 [00:00&lt;00:00, 8.07kB/s]"
          }
        },
        "f91ac592d1714d4f86a983c261e0d101": {
          "model_module": "@jupyter-widgets/base",
          "model_name": "LayoutModel",
          "model_module_version": "1.2.0",
          "state": {
            "_model_module": "@jupyter-widgets/base",
            "_model_module_version": "1.2.0",
            "_model_name": "LayoutModel",
            "_view_count": null,
            "_view_module": "@jupyter-widgets/base",
            "_view_module_version": "1.2.0",
            "_view_name": "LayoutView",
            "align_content": null,
            "align_items": null,
            "align_self": null,
            "border": null,
            "bottom": null,
            "display": null,
            "flex": null,
            "flex_flow": null,
            "grid_area": null,
            "grid_auto_columns": null,
            "grid_auto_flow": null,
            "grid_auto_rows": null,
            "grid_column": null,
            "grid_gap": null,
            "grid_row": null,
            "grid_template_areas": null,
            "grid_template_columns": null,
            "grid_template_rows": null,
            "height": null,
            "justify_content": null,
            "justify_items": null,
            "left": null,
            "margin": null,
            "max_height": null,
            "max_width": null,
            "min_height": null,
            "min_width": null,
            "object_fit": null,
            "object_position": null,
            "order": null,
            "overflow": null,
            "overflow_x": null,
            "overflow_y": null,
            "padding": null,
            "right": null,
            "top": null,
            "visibility": null,
            "width": null
          }
        },
        "d0e356bff74a45b393c12e8c652bc891": {
          "model_module": "@jupyter-widgets/base",
          "model_name": "LayoutModel",
          "model_module_version": "1.2.0",
          "state": {
            "_model_module": "@jupyter-widgets/base",
            "_model_module_version": "1.2.0",
            "_model_name": "LayoutModel",
            "_view_count": null,
            "_view_module": "@jupyter-widgets/base",
            "_view_module_version": "1.2.0",
            "_view_name": "LayoutView",
            "align_content": null,
            "align_items": null,
            "align_self": null,
            "border": null,
            "bottom": null,
            "display": null,
            "flex": null,
            "flex_flow": null,
            "grid_area": null,
            "grid_auto_columns": null,
            "grid_auto_flow": null,
            "grid_auto_rows": null,
            "grid_column": null,
            "grid_gap": null,
            "grid_row": null,
            "grid_template_areas": null,
            "grid_template_columns": null,
            "grid_template_rows": null,
            "height": null,
            "justify_content": null,
            "justify_items": null,
            "left": null,
            "margin": null,
            "max_height": null,
            "max_width": null,
            "min_height": null,
            "min_width": null,
            "object_fit": null,
            "object_position": null,
            "order": null,
            "overflow": null,
            "overflow_x": null,
            "overflow_y": null,
            "padding": null,
            "right": null,
            "top": null,
            "visibility": null,
            "width": null
          }
        },
        "aa2ba6e4ecb54cb981bd08744bfb64da": {
          "model_module": "@jupyter-widgets/controls",
          "model_name": "DescriptionStyleModel",
          "model_module_version": "1.5.0",
          "state": {
            "_model_module": "@jupyter-widgets/controls",
            "_model_module_version": "1.5.0",
            "_model_name": "DescriptionStyleModel",
            "_view_count": null,
            "_view_module": "@jupyter-widgets/base",
            "_view_module_version": "1.2.0",
            "_view_name": "StyleView",
            "description_width": ""
          }
        },
        "3393b554b13b401aaaa888e0f5f52789": {
          "model_module": "@jupyter-widgets/base",
          "model_name": "LayoutModel",
          "model_module_version": "1.2.0",
          "state": {
            "_model_module": "@jupyter-widgets/base",
            "_model_module_version": "1.2.0",
            "_model_name": "LayoutModel",
            "_view_count": null,
            "_view_module": "@jupyter-widgets/base",
            "_view_module_version": "1.2.0",
            "_view_name": "LayoutView",
            "align_content": null,
            "align_items": null,
            "align_self": null,
            "border": null,
            "bottom": null,
            "display": null,
            "flex": null,
            "flex_flow": null,
            "grid_area": null,
            "grid_auto_columns": null,
            "grid_auto_flow": null,
            "grid_auto_rows": null,
            "grid_column": null,
            "grid_gap": null,
            "grid_row": null,
            "grid_template_areas": null,
            "grid_template_columns": null,
            "grid_template_rows": null,
            "height": null,
            "justify_content": null,
            "justify_items": null,
            "left": null,
            "margin": null,
            "max_height": null,
            "max_width": null,
            "min_height": null,
            "min_width": null,
            "object_fit": null,
            "object_position": null,
            "order": null,
            "overflow": null,
            "overflow_x": null,
            "overflow_y": null,
            "padding": null,
            "right": null,
            "top": null,
            "visibility": null,
            "width": null
          }
        },
        "9f1300d272cc4508aadd3cee65c12a96": {
          "model_module": "@jupyter-widgets/controls",
          "model_name": "ProgressStyleModel",
          "model_module_version": "1.5.0",
          "state": {
            "_model_module": "@jupyter-widgets/controls",
            "_model_module_version": "1.5.0",
            "_model_name": "ProgressStyleModel",
            "_view_count": null,
            "_view_module": "@jupyter-widgets/base",
            "_view_module_version": "1.2.0",
            "_view_name": "StyleView",
            "bar_color": null,
            "description_width": ""
          }
        },
        "e2fdd682880e49b2a2a55fec47232fc3": {
          "model_module": "@jupyter-widgets/base",
          "model_name": "LayoutModel",
          "model_module_version": "1.2.0",
          "state": {
            "_model_module": "@jupyter-widgets/base",
            "_model_module_version": "1.2.0",
            "_model_name": "LayoutModel",
            "_view_count": null,
            "_view_module": "@jupyter-widgets/base",
            "_view_module_version": "1.2.0",
            "_view_name": "LayoutView",
            "align_content": null,
            "align_items": null,
            "align_self": null,
            "border": null,
            "bottom": null,
            "display": null,
            "flex": null,
            "flex_flow": null,
            "grid_area": null,
            "grid_auto_columns": null,
            "grid_auto_flow": null,
            "grid_auto_rows": null,
            "grid_column": null,
            "grid_gap": null,
            "grid_row": null,
            "grid_template_areas": null,
            "grid_template_columns": null,
            "grid_template_rows": null,
            "height": null,
            "justify_content": null,
            "justify_items": null,
            "left": null,
            "margin": null,
            "max_height": null,
            "max_width": null,
            "min_height": null,
            "min_width": null,
            "object_fit": null,
            "object_position": null,
            "order": null,
            "overflow": null,
            "overflow_x": null,
            "overflow_y": null,
            "padding": null,
            "right": null,
            "top": null,
            "visibility": null,
            "width": null
          }
        },
        "65c0c77eb5d147749cdf147a0b09f465": {
          "model_module": "@jupyter-widgets/controls",
          "model_name": "DescriptionStyleModel",
          "model_module_version": "1.5.0",
          "state": {
            "_model_module": "@jupyter-widgets/controls",
            "_model_module_version": "1.5.0",
            "_model_name": "DescriptionStyleModel",
            "_view_count": null,
            "_view_module": "@jupyter-widgets/base",
            "_view_module_version": "1.2.0",
            "_view_name": "StyleView",
            "description_width": ""
          }
        },
        "a00591f6d5ea4093b906daefa3096aab": {
          "model_module": "@jupyter-widgets/controls",
          "model_name": "HBoxModel",
          "model_module_version": "1.5.0",
          "state": {
            "_dom_classes": [],
            "_model_module": "@jupyter-widgets/controls",
            "_model_module_version": "1.5.0",
            "_model_name": "HBoxModel",
            "_view_count": null,
            "_view_module": "@jupyter-widgets/controls",
            "_view_module_version": "1.5.0",
            "_view_name": "HBoxView",
            "box_style": "",
            "children": [
              "IPY_MODEL_ef316ac596ad4ee0ba52d73a9d30b268",
              "IPY_MODEL_68780ba4f94a4fa080d74780268e3537",
              "IPY_MODEL_d96c40150128471795ca453fe0813b87"
            ],
            "layout": "IPY_MODEL_617603ddbc2745ccaf3a302fe729274a"
          }
        },
        "ef316ac596ad4ee0ba52d73a9d30b268": {
          "model_module": "@jupyter-widgets/controls",
          "model_name": "HTMLModel",
          "model_module_version": "1.5.0",
          "state": {
            "_dom_classes": [],
            "_model_module": "@jupyter-widgets/controls",
            "_model_module_version": "1.5.0",
            "_model_name": "HTMLModel",
            "_view_count": null,
            "_view_module": "@jupyter-widgets/controls",
            "_view_module_version": "1.5.0",
            "_view_name": "HTMLView",
            "description": "",
            "description_tooltip": null,
            "layout": "IPY_MODEL_f338f307da7f40d0af6028b916d87ed1",
            "placeholder": "​",
            "style": "IPY_MODEL_c389fe83cd634bd1bde382f9834381e3",
            "value": "Downloading: 100%"
          }
        },
        "68780ba4f94a4fa080d74780268e3537": {
          "model_module": "@jupyter-widgets/controls",
          "model_name": "FloatProgressModel",
          "model_module_version": "1.5.0",
          "state": {
            "_dom_classes": [],
            "_model_module": "@jupyter-widgets/controls",
            "_model_module_version": "1.5.0",
            "_model_name": "FloatProgressModel",
            "_view_count": null,
            "_view_module": "@jupyter-widgets/controls",
            "_view_module_version": "1.5.0",
            "_view_name": "ProgressView",
            "bar_style": "success",
            "description": "",
            "description_tooltip": null,
            "layout": "IPY_MODEL_f3da839a6cfc481e9bdb7ca4e5d276c1",
            "max": 456318,
            "min": 0,
            "orientation": "horizontal",
            "style": "IPY_MODEL_75af18d080254bbc92c3a254c724b26c",
            "value": 456318
          }
        },
        "d96c40150128471795ca453fe0813b87": {
          "model_module": "@jupyter-widgets/controls",
          "model_name": "HTMLModel",
          "model_module_version": "1.5.0",
          "state": {
            "_dom_classes": [],
            "_model_module": "@jupyter-widgets/controls",
            "_model_module_version": "1.5.0",
            "_model_name": "HTMLModel",
            "_view_count": null,
            "_view_module": "@jupyter-widgets/controls",
            "_view_module_version": "1.5.0",
            "_view_name": "HTMLView",
            "description": "",
            "description_tooltip": null,
            "layout": "IPY_MODEL_6c3ecc8a1bc04d34a1f895741a3f7df9",
            "placeholder": "​",
            "style": "IPY_MODEL_4c90845bbb154b1ba746fbe768345423",
            "value": " 456k/456k [00:00&lt;00:00, 1.22MB/s]"
          }
        },
        "617603ddbc2745ccaf3a302fe729274a": {
          "model_module": "@jupyter-widgets/base",
          "model_name": "LayoutModel",
          "model_module_version": "1.2.0",
          "state": {
            "_model_module": "@jupyter-widgets/base",
            "_model_module_version": "1.2.0",
            "_model_name": "LayoutModel",
            "_view_count": null,
            "_view_module": "@jupyter-widgets/base",
            "_view_module_version": "1.2.0",
            "_view_name": "LayoutView",
            "align_content": null,
            "align_items": null,
            "align_self": null,
            "border": null,
            "bottom": null,
            "display": null,
            "flex": null,
            "flex_flow": null,
            "grid_area": null,
            "grid_auto_columns": null,
            "grid_auto_flow": null,
            "grid_auto_rows": null,
            "grid_column": null,
            "grid_gap": null,
            "grid_row": null,
            "grid_template_areas": null,
            "grid_template_columns": null,
            "grid_template_rows": null,
            "height": null,
            "justify_content": null,
            "justify_items": null,
            "left": null,
            "margin": null,
            "max_height": null,
            "max_width": null,
            "min_height": null,
            "min_width": null,
            "object_fit": null,
            "object_position": null,
            "order": null,
            "overflow": null,
            "overflow_x": null,
            "overflow_y": null,
            "padding": null,
            "right": null,
            "top": null,
            "visibility": null,
            "width": null
          }
        },
        "f338f307da7f40d0af6028b916d87ed1": {
          "model_module": "@jupyter-widgets/base",
          "model_name": "LayoutModel",
          "model_module_version": "1.2.0",
          "state": {
            "_model_module": "@jupyter-widgets/base",
            "_model_module_version": "1.2.0",
            "_model_name": "LayoutModel",
            "_view_count": null,
            "_view_module": "@jupyter-widgets/base",
            "_view_module_version": "1.2.0",
            "_view_name": "LayoutView",
            "align_content": null,
            "align_items": null,
            "align_self": null,
            "border": null,
            "bottom": null,
            "display": null,
            "flex": null,
            "flex_flow": null,
            "grid_area": null,
            "grid_auto_columns": null,
            "grid_auto_flow": null,
            "grid_auto_rows": null,
            "grid_column": null,
            "grid_gap": null,
            "grid_row": null,
            "grid_template_areas": null,
            "grid_template_columns": null,
            "grid_template_rows": null,
            "height": null,
            "justify_content": null,
            "justify_items": null,
            "left": null,
            "margin": null,
            "max_height": null,
            "max_width": null,
            "min_height": null,
            "min_width": null,
            "object_fit": null,
            "object_position": null,
            "order": null,
            "overflow": null,
            "overflow_x": null,
            "overflow_y": null,
            "padding": null,
            "right": null,
            "top": null,
            "visibility": null,
            "width": null
          }
        },
        "c389fe83cd634bd1bde382f9834381e3": {
          "model_module": "@jupyter-widgets/controls",
          "model_name": "DescriptionStyleModel",
          "model_module_version": "1.5.0",
          "state": {
            "_model_module": "@jupyter-widgets/controls",
            "_model_module_version": "1.5.0",
            "_model_name": "DescriptionStyleModel",
            "_view_count": null,
            "_view_module": "@jupyter-widgets/base",
            "_view_module_version": "1.2.0",
            "_view_name": "StyleView",
            "description_width": ""
          }
        },
        "f3da839a6cfc481e9bdb7ca4e5d276c1": {
          "model_module": "@jupyter-widgets/base",
          "model_name": "LayoutModel",
          "model_module_version": "1.2.0",
          "state": {
            "_model_module": "@jupyter-widgets/base",
            "_model_module_version": "1.2.0",
            "_model_name": "LayoutModel",
            "_view_count": null,
            "_view_module": "@jupyter-widgets/base",
            "_view_module_version": "1.2.0",
            "_view_name": "LayoutView",
            "align_content": null,
            "align_items": null,
            "align_self": null,
            "border": null,
            "bottom": null,
            "display": null,
            "flex": null,
            "flex_flow": null,
            "grid_area": null,
            "grid_auto_columns": null,
            "grid_auto_flow": null,
            "grid_auto_rows": null,
            "grid_column": null,
            "grid_gap": null,
            "grid_row": null,
            "grid_template_areas": null,
            "grid_template_columns": null,
            "grid_template_rows": null,
            "height": null,
            "justify_content": null,
            "justify_items": null,
            "left": null,
            "margin": null,
            "max_height": null,
            "max_width": null,
            "min_height": null,
            "min_width": null,
            "object_fit": null,
            "object_position": null,
            "order": null,
            "overflow": null,
            "overflow_x": null,
            "overflow_y": null,
            "padding": null,
            "right": null,
            "top": null,
            "visibility": null,
            "width": null
          }
        },
        "75af18d080254bbc92c3a254c724b26c": {
          "model_module": "@jupyter-widgets/controls",
          "model_name": "ProgressStyleModel",
          "model_module_version": "1.5.0",
          "state": {
            "_model_module": "@jupyter-widgets/controls",
            "_model_module_version": "1.5.0",
            "_model_name": "ProgressStyleModel",
            "_view_count": null,
            "_view_module": "@jupyter-widgets/base",
            "_view_module_version": "1.2.0",
            "_view_name": "StyleView",
            "bar_color": null,
            "description_width": ""
          }
        },
        "6c3ecc8a1bc04d34a1f895741a3f7df9": {
          "model_module": "@jupyter-widgets/base",
          "model_name": "LayoutModel",
          "model_module_version": "1.2.0",
          "state": {
            "_model_module": "@jupyter-widgets/base",
            "_model_module_version": "1.2.0",
            "_model_name": "LayoutModel",
            "_view_count": null,
            "_view_module": "@jupyter-widgets/base",
            "_view_module_version": "1.2.0",
            "_view_name": "LayoutView",
            "align_content": null,
            "align_items": null,
            "align_self": null,
            "border": null,
            "bottom": null,
            "display": null,
            "flex": null,
            "flex_flow": null,
            "grid_area": null,
            "grid_auto_columns": null,
            "grid_auto_flow": null,
            "grid_auto_rows": null,
            "grid_column": null,
            "grid_gap": null,
            "grid_row": null,
            "grid_template_areas": null,
            "grid_template_columns": null,
            "grid_template_rows": null,
            "height": null,
            "justify_content": null,
            "justify_items": null,
            "left": null,
            "margin": null,
            "max_height": null,
            "max_width": null,
            "min_height": null,
            "min_width": null,
            "object_fit": null,
            "object_position": null,
            "order": null,
            "overflow": null,
            "overflow_x": null,
            "overflow_y": null,
            "padding": null,
            "right": null,
            "top": null,
            "visibility": null,
            "width": null
          }
        },
        "4c90845bbb154b1ba746fbe768345423": {
          "model_module": "@jupyter-widgets/controls",
          "model_name": "DescriptionStyleModel",
          "model_module_version": "1.5.0",
          "state": {
            "_model_module": "@jupyter-widgets/controls",
            "_model_module_version": "1.5.0",
            "_model_name": "DescriptionStyleModel",
            "_view_count": null,
            "_view_module": "@jupyter-widgets/base",
            "_view_module_version": "1.2.0",
            "_view_name": "StyleView",
            "description_width": ""
          }
        },
        "3d9a87ed8f9041f58a1ef600582868fd": {
          "model_module": "@jupyter-widgets/controls",
          "model_name": "HBoxModel",
          "model_module_version": "1.5.0",
          "state": {
            "_dom_classes": [],
            "_model_module": "@jupyter-widgets/controls",
            "_model_module_version": "1.5.0",
            "_model_name": "HBoxModel",
            "_view_count": null,
            "_view_module": "@jupyter-widgets/controls",
            "_view_module_version": "1.5.0",
            "_view_name": "HBoxView",
            "box_style": "",
            "children": [
              "IPY_MODEL_a7b7f8cc607e4067ac29557186ab933a",
              "IPY_MODEL_ffea496258844d6b8d8e270273cf7f6e",
              "IPY_MODEL_4297c98f518747f9a0ce1b91684939e3"
            ],
            "layout": "IPY_MODEL_75827421cb654f60b46dbad2626bdf4e"
          }
        },
        "a7b7f8cc607e4067ac29557186ab933a": {
          "model_module": "@jupyter-widgets/controls",
          "model_name": "HTMLModel",
          "model_module_version": "1.5.0",
          "state": {
            "_dom_classes": [],
            "_model_module": "@jupyter-widgets/controls",
            "_model_module_version": "1.5.0",
            "_model_name": "HTMLModel",
            "_view_count": null,
            "_view_module": "@jupyter-widgets/controls",
            "_view_module_version": "1.5.0",
            "_view_name": "HTMLView",
            "description": "",
            "description_tooltip": null,
            "layout": "IPY_MODEL_4c3ace129fea46a8b45888451cf10143",
            "placeholder": "​",
            "style": "IPY_MODEL_42478695ad7b4a9a87609bdb3f409be5",
            "value": "Downloading: 100%"
          }
        },
        "ffea496258844d6b8d8e270273cf7f6e": {
          "model_module": "@jupyter-widgets/controls",
          "model_name": "FloatProgressModel",
          "model_module_version": "1.5.0",
          "state": {
            "_dom_classes": [],
            "_model_module": "@jupyter-widgets/controls",
            "_model_module_version": "1.5.0",
            "_model_name": "FloatProgressModel",
            "_view_count": null,
            "_view_module": "@jupyter-widgets/controls",
            "_view_module_version": "1.5.0",
            "_view_name": "ProgressView",
            "bar_style": "success",
            "description": "",
            "description_tooltip": null,
            "layout": "IPY_MODEL_d1183ffead2a4140a03699ead1906b7d",
            "max": 5303345453,
            "min": 0,
            "orientation": "horizontal",
            "style": "IPY_MODEL_84f4e47dae8a47549b33baccc74eb3e6",
            "value": 5303345453
          }
        },
        "4297c98f518747f9a0ce1b91684939e3": {
          "model_module": "@jupyter-widgets/controls",
          "model_name": "HTMLModel",
          "model_module_version": "1.5.0",
          "state": {
            "_dom_classes": [],
            "_model_module": "@jupyter-widgets/controls",
            "_model_module_version": "1.5.0",
            "_model_name": "HTMLModel",
            "_view_count": null,
            "_view_module": "@jupyter-widgets/controls",
            "_view_module_version": "1.5.0",
            "_view_name": "HTMLView",
            "description": "",
            "description_tooltip": null,
            "layout": "IPY_MODEL_40c731330d9742da99e3af0449cd28d2",
            "placeholder": "​",
            "style": "IPY_MODEL_6d710ee81b094df7957a5c10392a314a",
            "value": " 5.30G/5.30G [03:14&lt;00:00, 42.7MB/s]"
          }
        },
        "75827421cb654f60b46dbad2626bdf4e": {
          "model_module": "@jupyter-widgets/base",
          "model_name": "LayoutModel",
          "model_module_version": "1.2.0",
          "state": {
            "_model_module": "@jupyter-widgets/base",
            "_model_module_version": "1.2.0",
            "_model_name": "LayoutModel",
            "_view_count": null,
            "_view_module": "@jupyter-widgets/base",
            "_view_module_version": "1.2.0",
            "_view_name": "LayoutView",
            "align_content": null,
            "align_items": null,
            "align_self": null,
            "border": null,
            "bottom": null,
            "display": null,
            "flex": null,
            "flex_flow": null,
            "grid_area": null,
            "grid_auto_columns": null,
            "grid_auto_flow": null,
            "grid_auto_rows": null,
            "grid_column": null,
            "grid_gap": null,
            "grid_row": null,
            "grid_template_areas": null,
            "grid_template_columns": null,
            "grid_template_rows": null,
            "height": null,
            "justify_content": null,
            "justify_items": null,
            "left": null,
            "margin": null,
            "max_height": null,
            "max_width": null,
            "min_height": null,
            "min_width": null,
            "object_fit": null,
            "object_position": null,
            "order": null,
            "overflow": null,
            "overflow_x": null,
            "overflow_y": null,
            "padding": null,
            "right": null,
            "top": null,
            "visibility": null,
            "width": null
          }
        },
        "4c3ace129fea46a8b45888451cf10143": {
          "model_module": "@jupyter-widgets/base",
          "model_name": "LayoutModel",
          "model_module_version": "1.2.0",
          "state": {
            "_model_module": "@jupyter-widgets/base",
            "_model_module_version": "1.2.0",
            "_model_name": "LayoutModel",
            "_view_count": null,
            "_view_module": "@jupyter-widgets/base",
            "_view_module_version": "1.2.0",
            "_view_name": "LayoutView",
            "align_content": null,
            "align_items": null,
            "align_self": null,
            "border": null,
            "bottom": null,
            "display": null,
            "flex": null,
            "flex_flow": null,
            "grid_area": null,
            "grid_auto_columns": null,
            "grid_auto_flow": null,
            "grid_auto_rows": null,
            "grid_column": null,
            "grid_gap": null,
            "grid_row": null,
            "grid_template_areas": null,
            "grid_template_columns": null,
            "grid_template_rows": null,
            "height": null,
            "justify_content": null,
            "justify_items": null,
            "left": null,
            "margin": null,
            "max_height": null,
            "max_width": null,
            "min_height": null,
            "min_width": null,
            "object_fit": null,
            "object_position": null,
            "order": null,
            "overflow": null,
            "overflow_x": null,
            "overflow_y": null,
            "padding": null,
            "right": null,
            "top": null,
            "visibility": null,
            "width": null
          }
        },
        "42478695ad7b4a9a87609bdb3f409be5": {
          "model_module": "@jupyter-widgets/controls",
          "model_name": "DescriptionStyleModel",
          "model_module_version": "1.5.0",
          "state": {
            "_model_module": "@jupyter-widgets/controls",
            "_model_module_version": "1.5.0",
            "_model_name": "DescriptionStyleModel",
            "_view_count": null,
            "_view_module": "@jupyter-widgets/base",
            "_view_module_version": "1.2.0",
            "_view_name": "StyleView",
            "description_width": ""
          }
        },
        "d1183ffead2a4140a03699ead1906b7d": {
          "model_module": "@jupyter-widgets/base",
          "model_name": "LayoutModel",
          "model_module_version": "1.2.0",
          "state": {
            "_model_module": "@jupyter-widgets/base",
            "_model_module_version": "1.2.0",
            "_model_name": "LayoutModel",
            "_view_count": null,
            "_view_module": "@jupyter-widgets/base",
            "_view_module_version": "1.2.0",
            "_view_name": "LayoutView",
            "align_content": null,
            "align_items": null,
            "align_self": null,
            "border": null,
            "bottom": null,
            "display": null,
            "flex": null,
            "flex_flow": null,
            "grid_area": null,
            "grid_auto_columns": null,
            "grid_auto_flow": null,
            "grid_auto_rows": null,
            "grid_column": null,
            "grid_gap": null,
            "grid_row": null,
            "grid_template_areas": null,
            "grid_template_columns": null,
            "grid_template_rows": null,
            "height": null,
            "justify_content": null,
            "justify_items": null,
            "left": null,
            "margin": null,
            "max_height": null,
            "max_width": null,
            "min_height": null,
            "min_width": null,
            "object_fit": null,
            "object_position": null,
            "order": null,
            "overflow": null,
            "overflow_x": null,
            "overflow_y": null,
            "padding": null,
            "right": null,
            "top": null,
            "visibility": null,
            "width": null
          }
        },
        "84f4e47dae8a47549b33baccc74eb3e6": {
          "model_module": "@jupyter-widgets/controls",
          "model_name": "ProgressStyleModel",
          "model_module_version": "1.5.0",
          "state": {
            "_model_module": "@jupyter-widgets/controls",
            "_model_module_version": "1.5.0",
            "_model_name": "ProgressStyleModel",
            "_view_count": null,
            "_view_module": "@jupyter-widgets/base",
            "_view_module_version": "1.2.0",
            "_view_name": "StyleView",
            "bar_color": null,
            "description_width": ""
          }
        },
        "40c731330d9742da99e3af0449cd28d2": {
          "model_module": "@jupyter-widgets/base",
          "model_name": "LayoutModel",
          "model_module_version": "1.2.0",
          "state": {
            "_model_module": "@jupyter-widgets/base",
            "_model_module_version": "1.2.0",
            "_model_name": "LayoutModel",
            "_view_count": null,
            "_view_module": "@jupyter-widgets/base",
            "_view_module_version": "1.2.0",
            "_view_name": "LayoutView",
            "align_content": null,
            "align_items": null,
            "align_self": null,
            "border": null,
            "bottom": null,
            "display": null,
            "flex": null,
            "flex_flow": null,
            "grid_area": null,
            "grid_auto_columns": null,
            "grid_auto_flow": null,
            "grid_auto_rows": null,
            "grid_column": null,
            "grid_gap": null,
            "grid_row": null,
            "grid_template_areas": null,
            "grid_template_columns": null,
            "grid_template_rows": null,
            "height": null,
            "justify_content": null,
            "justify_items": null,
            "left": null,
            "margin": null,
            "max_height": null,
            "max_width": null,
            "min_height": null,
            "min_width": null,
            "object_fit": null,
            "object_position": null,
            "order": null,
            "overflow": null,
            "overflow_x": null,
            "overflow_y": null,
            "padding": null,
            "right": null,
            "top": null,
            "visibility": null,
            "width": null
          }
        },
        "6d710ee81b094df7957a5c10392a314a": {
          "model_module": "@jupyter-widgets/controls",
          "model_name": "DescriptionStyleModel",
          "model_module_version": "1.5.0",
          "state": {
            "_model_module": "@jupyter-widgets/controls",
            "_model_module_version": "1.5.0",
            "_model_name": "DescriptionStyleModel",
            "_view_count": null,
            "_view_module": "@jupyter-widgets/base",
            "_view_module_version": "1.2.0",
            "_view_name": "StyleView",
            "description_width": ""
          }
        },
        "71f9eda96db14e608d841b4ab08f300a": {
          "model_module": "@jupyter-widgets/controls",
          "model_name": "HBoxModel",
          "model_module_version": "1.5.0",
          "state": {
            "_dom_classes": [],
            "_model_module": "@jupyter-widgets/controls",
            "_model_module_version": "1.5.0",
            "_model_name": "HBoxModel",
            "_view_count": null,
            "_view_module": "@jupyter-widgets/controls",
            "_view_module_version": "1.5.0",
            "_view_name": "HBoxView",
            "box_style": "",
            "children": [
              "IPY_MODEL_773792377bc841578ae8eeebcb626697",
              "IPY_MODEL_49ec1e83d9ed4129bf39d22d6a448454",
              "IPY_MODEL_ff4bd3145730401b9c979d099e5c772d"
            ],
            "layout": "IPY_MODEL_7ae17e24f13b44aa9eaa10e4ee1ac169"
          }
        },
        "773792377bc841578ae8eeebcb626697": {
          "model_module": "@jupyter-widgets/controls",
          "model_name": "HTMLModel",
          "model_module_version": "1.5.0",
          "state": {
            "_dom_classes": [],
            "_model_module": "@jupyter-widgets/controls",
            "_model_module_version": "1.5.0",
            "_model_name": "HTMLModel",
            "_view_count": null,
            "_view_module": "@jupyter-widgets/controls",
            "_view_module_version": "1.5.0",
            "_view_name": "HTMLView",
            "description": "",
            "description_tooltip": null,
            "layout": "IPY_MODEL_d8f3980062004be0bc6697260f2e3928",
            "placeholder": "​",
            "style": "IPY_MODEL_53a3a1e092f84e94846c54d59015ab8b",
            "value": "Downloading: 100%"
          }
        },
        "49ec1e83d9ed4129bf39d22d6a448454": {
          "model_module": "@jupyter-widgets/controls",
          "model_name": "FloatProgressModel",
          "model_module_version": "1.5.0",
          "state": {
            "_dom_classes": [],
            "_model_module": "@jupyter-widgets/controls",
            "_model_module_version": "1.5.0",
            "_model_name": "FloatProgressModel",
            "_view_count": null,
            "_view_module": "@jupyter-widgets/controls",
            "_view_module_version": "1.5.0",
            "_view_name": "ProgressView",
            "bar_style": "success",
            "description": "",
            "description_tooltip": null,
            "layout": "IPY_MODEL_a71a101d91084ae281ba0094cac8041c",
            "max": 441,
            "min": 0,
            "orientation": "horizontal",
            "style": "IPY_MODEL_4ad1d8e32533448f84110fa283b943de",
            "value": 441
          }
        },
        "ff4bd3145730401b9c979d099e5c772d": {
          "model_module": "@jupyter-widgets/controls",
          "model_name": "HTMLModel",
          "model_module_version": "1.5.0",
          "state": {
            "_dom_classes": [],
            "_model_module": "@jupyter-widgets/controls",
            "_model_module_version": "1.5.0",
            "_model_name": "HTMLModel",
            "_view_count": null,
            "_view_module": "@jupyter-widgets/controls",
            "_view_module_version": "1.5.0",
            "_view_name": "HTMLView",
            "description": "",
            "description_tooltip": null,
            "layout": "IPY_MODEL_f4ee7e2608fb49399fb2b0e2cd4bdf0b",
            "placeholder": "​",
            "style": "IPY_MODEL_ea8637f930a947ecb63fdd49a2a845da",
            "value": " 441/441 [00:00&lt;00:00, 11.1kB/s]"
          }
        },
        "7ae17e24f13b44aa9eaa10e4ee1ac169": {
          "model_module": "@jupyter-widgets/base",
          "model_name": "LayoutModel",
          "model_module_version": "1.2.0",
          "state": {
            "_model_module": "@jupyter-widgets/base",
            "_model_module_version": "1.2.0",
            "_model_name": "LayoutModel",
            "_view_count": null,
            "_view_module": "@jupyter-widgets/base",
            "_view_module_version": "1.2.0",
            "_view_name": "LayoutView",
            "align_content": null,
            "align_items": null,
            "align_self": null,
            "border": null,
            "bottom": null,
            "display": null,
            "flex": null,
            "flex_flow": null,
            "grid_area": null,
            "grid_auto_columns": null,
            "grid_auto_flow": null,
            "grid_auto_rows": null,
            "grid_column": null,
            "grid_gap": null,
            "grid_row": null,
            "grid_template_areas": null,
            "grid_template_columns": null,
            "grid_template_rows": null,
            "height": null,
            "justify_content": null,
            "justify_items": null,
            "left": null,
            "margin": null,
            "max_height": null,
            "max_width": null,
            "min_height": null,
            "min_width": null,
            "object_fit": null,
            "object_position": null,
            "order": null,
            "overflow": null,
            "overflow_x": null,
            "overflow_y": null,
            "padding": null,
            "right": null,
            "top": null,
            "visibility": null,
            "width": null
          }
        },
        "d8f3980062004be0bc6697260f2e3928": {
          "model_module": "@jupyter-widgets/base",
          "model_name": "LayoutModel",
          "model_module_version": "1.2.0",
          "state": {
            "_model_module": "@jupyter-widgets/base",
            "_model_module_version": "1.2.0",
            "_model_name": "LayoutModel",
            "_view_count": null,
            "_view_module": "@jupyter-widgets/base",
            "_view_module_version": "1.2.0",
            "_view_name": "LayoutView",
            "align_content": null,
            "align_items": null,
            "align_self": null,
            "border": null,
            "bottom": null,
            "display": null,
            "flex": null,
            "flex_flow": null,
            "grid_area": null,
            "grid_auto_columns": null,
            "grid_auto_flow": null,
            "grid_auto_rows": null,
            "grid_column": null,
            "grid_gap": null,
            "grid_row": null,
            "grid_template_areas": null,
            "grid_template_columns": null,
            "grid_template_rows": null,
            "height": null,
            "justify_content": null,
            "justify_items": null,
            "left": null,
            "margin": null,
            "max_height": null,
            "max_width": null,
            "min_height": null,
            "min_width": null,
            "object_fit": null,
            "object_position": null,
            "order": null,
            "overflow": null,
            "overflow_x": null,
            "overflow_y": null,
            "padding": null,
            "right": null,
            "top": null,
            "visibility": null,
            "width": null
          }
        },
        "53a3a1e092f84e94846c54d59015ab8b": {
          "model_module": "@jupyter-widgets/controls",
          "model_name": "DescriptionStyleModel",
          "model_module_version": "1.5.0",
          "state": {
            "_model_module": "@jupyter-widgets/controls",
            "_model_module_version": "1.5.0",
            "_model_name": "DescriptionStyleModel",
            "_view_count": null,
            "_view_module": "@jupyter-widgets/base",
            "_view_module_version": "1.2.0",
            "_view_name": "StyleView",
            "description_width": ""
          }
        },
        "a71a101d91084ae281ba0094cac8041c": {
          "model_module": "@jupyter-widgets/base",
          "model_name": "LayoutModel",
          "model_module_version": "1.2.0",
          "state": {
            "_model_module": "@jupyter-widgets/base",
            "_model_module_version": "1.2.0",
            "_model_name": "LayoutModel",
            "_view_count": null,
            "_view_module": "@jupyter-widgets/base",
            "_view_module_version": "1.2.0",
            "_view_name": "LayoutView",
            "align_content": null,
            "align_items": null,
            "align_self": null,
            "border": null,
            "bottom": null,
            "display": null,
            "flex": null,
            "flex_flow": null,
            "grid_area": null,
            "grid_auto_columns": null,
            "grid_auto_flow": null,
            "grid_auto_rows": null,
            "grid_column": null,
            "grid_gap": null,
            "grid_row": null,
            "grid_template_areas": null,
            "grid_template_columns": null,
            "grid_template_rows": null,
            "height": null,
            "justify_content": null,
            "justify_items": null,
            "left": null,
            "margin": null,
            "max_height": null,
            "max_width": null,
            "min_height": null,
            "min_width": null,
            "object_fit": null,
            "object_position": null,
            "order": null,
            "overflow": null,
            "overflow_x": null,
            "overflow_y": null,
            "padding": null,
            "right": null,
            "top": null,
            "visibility": null,
            "width": null
          }
        },
        "4ad1d8e32533448f84110fa283b943de": {
          "model_module": "@jupyter-widgets/controls",
          "model_name": "ProgressStyleModel",
          "model_module_version": "1.5.0",
          "state": {
            "_model_module": "@jupyter-widgets/controls",
            "_model_module_version": "1.5.0",
            "_model_name": "ProgressStyleModel",
            "_view_count": null,
            "_view_module": "@jupyter-widgets/base",
            "_view_module_version": "1.2.0",
            "_view_name": "StyleView",
            "bar_color": null,
            "description_width": ""
          }
        },
        "f4ee7e2608fb49399fb2b0e2cd4bdf0b": {
          "model_module": "@jupyter-widgets/base",
          "model_name": "LayoutModel",
          "model_module_version": "1.2.0",
          "state": {
            "_model_module": "@jupyter-widgets/base",
            "_model_module_version": "1.2.0",
            "_model_name": "LayoutModel",
            "_view_count": null,
            "_view_module": "@jupyter-widgets/base",
            "_view_module_version": "1.2.0",
            "_view_name": "LayoutView",
            "align_content": null,
            "align_items": null,
            "align_self": null,
            "border": null,
            "bottom": null,
            "display": null,
            "flex": null,
            "flex_flow": null,
            "grid_area": null,
            "grid_auto_columns": null,
            "grid_auto_flow": null,
            "grid_auto_rows": null,
            "grid_column": null,
            "grid_gap": null,
            "grid_row": null,
            "grid_template_areas": null,
            "grid_template_columns": null,
            "grid_template_rows": null,
            "height": null,
            "justify_content": null,
            "justify_items": null,
            "left": null,
            "margin": null,
            "max_height": null,
            "max_width": null,
            "min_height": null,
            "min_width": null,
            "object_fit": null,
            "object_position": null,
            "order": null,
            "overflow": null,
            "overflow_x": null,
            "overflow_y": null,
            "padding": null,
            "right": null,
            "top": null,
            "visibility": null,
            "width": null
          }
        },
        "ea8637f930a947ecb63fdd49a2a845da": {
          "model_module": "@jupyter-widgets/controls",
          "model_name": "DescriptionStyleModel",
          "model_module_version": "1.5.0",
          "state": {
            "_model_module": "@jupyter-widgets/controls",
            "_model_module_version": "1.5.0",
            "_model_name": "DescriptionStyleModel",
            "_view_count": null,
            "_view_module": "@jupyter-widgets/base",
            "_view_module_version": "1.2.0",
            "_view_name": "StyleView",
            "description_width": ""
          }
        },
        "a3064a3c73484572ba0a0d86318816f2": {
          "model_module": "@jupyter-widgets/controls",
          "model_name": "HBoxModel",
          "model_module_version": "1.5.0",
          "state": {
            "_dom_classes": [],
            "_model_module": "@jupyter-widgets/controls",
            "_model_module_version": "1.5.0",
            "_model_name": "HBoxModel",
            "_view_count": null,
            "_view_module": "@jupyter-widgets/controls",
            "_view_module_version": "1.5.0",
            "_view_name": "HBoxView",
            "box_style": "",
            "children": [
              "IPY_MODEL_cf109a14c81d49c89a306f1d6212cc07",
              "IPY_MODEL_8c108fa9bbd74974b2e272dfe67c71ca",
              "IPY_MODEL_ec980b44bd754365be03a3f972d540e8"
            ],
            "layout": "IPY_MODEL_80f28218d2064b14a52ce8341b72a16b"
          }
        },
        "cf109a14c81d49c89a306f1d6212cc07": {
          "model_module": "@jupyter-widgets/controls",
          "model_name": "HTMLModel",
          "model_module_version": "1.5.0",
          "state": {
            "_dom_classes": [],
            "_model_module": "@jupyter-widgets/controls",
            "_model_module_version": "1.5.0",
            "_model_name": "HTMLModel",
            "_view_count": null,
            "_view_module": "@jupyter-widgets/controls",
            "_view_module_version": "1.5.0",
            "_view_name": "HTMLView",
            "description": "",
            "description_tooltip": null,
            "layout": "IPY_MODEL_624a97e859fd4de1b2f8f2597e69e949",
            "placeholder": "​",
            "style": "IPY_MODEL_7c458783263e4e26873e836080a35b4c",
            "value": "Downloading: 100%"
          }
        },
        "8c108fa9bbd74974b2e272dfe67c71ca": {
          "model_module": "@jupyter-widgets/controls",
          "model_name": "FloatProgressModel",
          "model_module_version": "1.5.0",
          "state": {
            "_dom_classes": [],
            "_model_module": "@jupyter-widgets/controls",
            "_model_module_version": "1.5.0",
            "_model_name": "FloatProgressModel",
            "_view_count": null,
            "_view_module": "@jupyter-widgets/controls",
            "_view_module_version": "1.5.0",
            "_view_name": "ProgressView",
            "bar_style": "success",
            "description": "",
            "description_tooltip": null,
            "layout": "IPY_MODEL_3302cee5f9be4fa0919321298199916f",
            "max": 685,
            "min": 0,
            "orientation": "horizontal",
            "style": "IPY_MODEL_4f5e74bfe90347fea0ae68e22d556804",
            "value": 685
          }
        },
        "ec980b44bd754365be03a3f972d540e8": {
          "model_module": "@jupyter-widgets/controls",
          "model_name": "HTMLModel",
          "model_module_version": "1.5.0",
          "state": {
            "_dom_classes": [],
            "_model_module": "@jupyter-widgets/controls",
            "_model_module_version": "1.5.0",
            "_model_name": "HTMLModel",
            "_view_count": null,
            "_view_module": "@jupyter-widgets/controls",
            "_view_module_version": "1.5.0",
            "_view_name": "HTMLView",
            "description": "",
            "description_tooltip": null,
            "layout": "IPY_MODEL_6c8ad88ea286427f8523335c237c3f99",
            "placeholder": "​",
            "style": "IPY_MODEL_df8d2eefd43e42f0a6bda001317730ea",
            "value": " 685/685 [00:00&lt;00:00, 17.3kB/s]"
          }
        },
        "80f28218d2064b14a52ce8341b72a16b": {
          "model_module": "@jupyter-widgets/base",
          "model_name": "LayoutModel",
          "model_module_version": "1.2.0",
          "state": {
            "_model_module": "@jupyter-widgets/base",
            "_model_module_version": "1.2.0",
            "_model_name": "LayoutModel",
            "_view_count": null,
            "_view_module": "@jupyter-widgets/base",
            "_view_module_version": "1.2.0",
            "_view_name": "LayoutView",
            "align_content": null,
            "align_items": null,
            "align_self": null,
            "border": null,
            "bottom": null,
            "display": null,
            "flex": null,
            "flex_flow": null,
            "grid_area": null,
            "grid_auto_columns": null,
            "grid_auto_flow": null,
            "grid_auto_rows": null,
            "grid_column": null,
            "grid_gap": null,
            "grid_row": null,
            "grid_template_areas": null,
            "grid_template_columns": null,
            "grid_template_rows": null,
            "height": null,
            "justify_content": null,
            "justify_items": null,
            "left": null,
            "margin": null,
            "max_height": null,
            "max_width": null,
            "min_height": null,
            "min_width": null,
            "object_fit": null,
            "object_position": null,
            "order": null,
            "overflow": null,
            "overflow_x": null,
            "overflow_y": null,
            "padding": null,
            "right": null,
            "top": null,
            "visibility": null,
            "width": null
          }
        },
        "624a97e859fd4de1b2f8f2597e69e949": {
          "model_module": "@jupyter-widgets/base",
          "model_name": "LayoutModel",
          "model_module_version": "1.2.0",
          "state": {
            "_model_module": "@jupyter-widgets/base",
            "_model_module_version": "1.2.0",
            "_model_name": "LayoutModel",
            "_view_count": null,
            "_view_module": "@jupyter-widgets/base",
            "_view_module_version": "1.2.0",
            "_view_name": "LayoutView",
            "align_content": null,
            "align_items": null,
            "align_self": null,
            "border": null,
            "bottom": null,
            "display": null,
            "flex": null,
            "flex_flow": null,
            "grid_area": null,
            "grid_auto_columns": null,
            "grid_auto_flow": null,
            "grid_auto_rows": null,
            "grid_column": null,
            "grid_gap": null,
            "grid_row": null,
            "grid_template_areas": null,
            "grid_template_columns": null,
            "grid_template_rows": null,
            "height": null,
            "justify_content": null,
            "justify_items": null,
            "left": null,
            "margin": null,
            "max_height": null,
            "max_width": null,
            "min_height": null,
            "min_width": null,
            "object_fit": null,
            "object_position": null,
            "order": null,
            "overflow": null,
            "overflow_x": null,
            "overflow_y": null,
            "padding": null,
            "right": null,
            "top": null,
            "visibility": null,
            "width": null
          }
        },
        "7c458783263e4e26873e836080a35b4c": {
          "model_module": "@jupyter-widgets/controls",
          "model_name": "DescriptionStyleModel",
          "model_module_version": "1.5.0",
          "state": {
            "_model_module": "@jupyter-widgets/controls",
            "_model_module_version": "1.5.0",
            "_model_name": "DescriptionStyleModel",
            "_view_count": null,
            "_view_module": "@jupyter-widgets/base",
            "_view_module_version": "1.2.0",
            "_view_name": "StyleView",
            "description_width": ""
          }
        },
        "3302cee5f9be4fa0919321298199916f": {
          "model_module": "@jupyter-widgets/base",
          "model_name": "LayoutModel",
          "model_module_version": "1.2.0",
          "state": {
            "_model_module": "@jupyter-widgets/base",
            "_model_module_version": "1.2.0",
            "_model_name": "LayoutModel",
            "_view_count": null,
            "_view_module": "@jupyter-widgets/base",
            "_view_module_version": "1.2.0",
            "_view_name": "LayoutView",
            "align_content": null,
            "align_items": null,
            "align_self": null,
            "border": null,
            "bottom": null,
            "display": null,
            "flex": null,
            "flex_flow": null,
            "grid_area": null,
            "grid_auto_columns": null,
            "grid_auto_flow": null,
            "grid_auto_rows": null,
            "grid_column": null,
            "grid_gap": null,
            "grid_row": null,
            "grid_template_areas": null,
            "grid_template_columns": null,
            "grid_template_rows": null,
            "height": null,
            "justify_content": null,
            "justify_items": null,
            "left": null,
            "margin": null,
            "max_height": null,
            "max_width": null,
            "min_height": null,
            "min_width": null,
            "object_fit": null,
            "object_position": null,
            "order": null,
            "overflow": null,
            "overflow_x": null,
            "overflow_y": null,
            "padding": null,
            "right": null,
            "top": null,
            "visibility": null,
            "width": null
          }
        },
        "4f5e74bfe90347fea0ae68e22d556804": {
          "model_module": "@jupyter-widgets/controls",
          "model_name": "ProgressStyleModel",
          "model_module_version": "1.5.0",
          "state": {
            "_model_module": "@jupyter-widgets/controls",
            "_model_module_version": "1.5.0",
            "_model_name": "ProgressStyleModel",
            "_view_count": null,
            "_view_module": "@jupyter-widgets/base",
            "_view_module_version": "1.2.0",
            "_view_name": "StyleView",
            "bar_color": null,
            "description_width": ""
          }
        },
        "6c8ad88ea286427f8523335c237c3f99": {
          "model_module": "@jupyter-widgets/base",
          "model_name": "LayoutModel",
          "model_module_version": "1.2.0",
          "state": {
            "_model_module": "@jupyter-widgets/base",
            "_model_module_version": "1.2.0",
            "_model_name": "LayoutModel",
            "_view_count": null,
            "_view_module": "@jupyter-widgets/base",
            "_view_module_version": "1.2.0",
            "_view_name": "LayoutView",
            "align_content": null,
            "align_items": null,
            "align_self": null,
            "border": null,
            "bottom": null,
            "display": null,
            "flex": null,
            "flex_flow": null,
            "grid_area": null,
            "grid_auto_columns": null,
            "grid_auto_flow": null,
            "grid_auto_rows": null,
            "grid_column": null,
            "grid_gap": null,
            "grid_row": null,
            "grid_template_areas": null,
            "grid_template_columns": null,
            "grid_template_rows": null,
            "height": null,
            "justify_content": null,
            "justify_items": null,
            "left": null,
            "margin": null,
            "max_height": null,
            "max_width": null,
            "min_height": null,
            "min_width": null,
            "object_fit": null,
            "object_position": null,
            "order": null,
            "overflow": null,
            "overflow_x": null,
            "overflow_y": null,
            "padding": null,
            "right": null,
            "top": null,
            "visibility": null,
            "width": null
          }
        },
        "df8d2eefd43e42f0a6bda001317730ea": {
          "model_module": "@jupyter-widgets/controls",
          "model_name": "DescriptionStyleModel",
          "model_module_version": "1.5.0",
          "state": {
            "_model_module": "@jupyter-widgets/controls",
            "_model_module_version": "1.5.0",
            "_model_name": "DescriptionStyleModel",
            "_view_count": null,
            "_view_module": "@jupyter-widgets/base",
            "_view_module_version": "1.2.0",
            "_view_name": "StyleView",
            "description_width": ""
          }
        },
        "11aeb85615ce432b8b343cbd40fbe241": {
          "model_module": "@jupyter-widgets/controls",
          "model_name": "HBoxModel",
          "model_module_version": "1.5.0",
          "state": {
            "_dom_classes": [],
            "_model_module": "@jupyter-widgets/controls",
            "_model_module_version": "1.5.0",
            "_model_name": "HBoxModel",
            "_view_count": null,
            "_view_module": "@jupyter-widgets/controls",
            "_view_module_version": "1.5.0",
            "_view_name": "HBoxView",
            "box_style": "",
            "children": [
              "IPY_MODEL_7a8401eb61784cbcb5b953346829a99e",
              "IPY_MODEL_95c7cc866c35421fb20b6c37ce70b543",
              "IPY_MODEL_e008417f683e468699c3553a9efb296b"
            ],
            "layout": "IPY_MODEL_858090c4983d437bb5f97eedd1ed71dc"
          }
        },
        "7a8401eb61784cbcb5b953346829a99e": {
          "model_module": "@jupyter-widgets/controls",
          "model_name": "HTMLModel",
          "model_module_version": "1.5.0",
          "state": {
            "_dom_classes": [],
            "_model_module": "@jupyter-widgets/controls",
            "_model_module_version": "1.5.0",
            "_model_name": "HTMLModel",
            "_view_count": null,
            "_view_module": "@jupyter-widgets/controls",
            "_view_module_version": "1.5.0",
            "_view_name": "HTMLView",
            "description": "",
            "description_tooltip": null,
            "layout": "IPY_MODEL_a10d6392b7f74645888bb667e2a8a990",
            "placeholder": "​",
            "style": "IPY_MODEL_ca55836a96b64c9b8b690d88b09495b0",
            "value": "Downloading: 100%"
          }
        },
        "95c7cc866c35421fb20b6c37ce70b543": {
          "model_module": "@jupyter-widgets/controls",
          "model_name": "FloatProgressModel",
          "model_module_version": "1.5.0",
          "state": {
            "_dom_classes": [],
            "_model_module": "@jupyter-widgets/controls",
            "_model_module_version": "1.5.0",
            "_model_name": "FloatProgressModel",
            "_view_count": null,
            "_view_module": "@jupyter-widgets/controls",
            "_view_module_version": "1.5.0",
            "_view_name": "ProgressView",
            "bar_style": "success",
            "description": "",
            "description_tooltip": null,
            "layout": "IPY_MODEL_64db98fbf9f340aeb81a7dae899bcc8a",
            "max": 898822,
            "min": 0,
            "orientation": "horizontal",
            "style": "IPY_MODEL_9ce027adbb874031bcddd7efa674f96e",
            "value": 898822
          }
        },
        "e008417f683e468699c3553a9efb296b": {
          "model_module": "@jupyter-widgets/controls",
          "model_name": "HTMLModel",
          "model_module_version": "1.5.0",
          "state": {
            "_dom_classes": [],
            "_model_module": "@jupyter-widgets/controls",
            "_model_module_version": "1.5.0",
            "_model_name": "HTMLModel",
            "_view_count": null,
            "_view_module": "@jupyter-widgets/controls",
            "_view_module_version": "1.5.0",
            "_view_name": "HTMLView",
            "description": "",
            "description_tooltip": null,
            "layout": "IPY_MODEL_c7adf04242e64c68b154aba1086f1b1e",
            "placeholder": "​",
            "style": "IPY_MODEL_8999be2f564d44838a95cbc065038473",
            "value": " 899k/899k [00:00&lt;00:00, 2.82MB/s]"
          }
        },
        "858090c4983d437bb5f97eedd1ed71dc": {
          "model_module": "@jupyter-widgets/base",
          "model_name": "LayoutModel",
          "model_module_version": "1.2.0",
          "state": {
            "_model_module": "@jupyter-widgets/base",
            "_model_module_version": "1.2.0",
            "_model_name": "LayoutModel",
            "_view_count": null,
            "_view_module": "@jupyter-widgets/base",
            "_view_module_version": "1.2.0",
            "_view_name": "LayoutView",
            "align_content": null,
            "align_items": null,
            "align_self": null,
            "border": null,
            "bottom": null,
            "display": null,
            "flex": null,
            "flex_flow": null,
            "grid_area": null,
            "grid_auto_columns": null,
            "grid_auto_flow": null,
            "grid_auto_rows": null,
            "grid_column": null,
            "grid_gap": null,
            "grid_row": null,
            "grid_template_areas": null,
            "grid_template_columns": null,
            "grid_template_rows": null,
            "height": null,
            "justify_content": null,
            "justify_items": null,
            "left": null,
            "margin": null,
            "max_height": null,
            "max_width": null,
            "min_height": null,
            "min_width": null,
            "object_fit": null,
            "object_position": null,
            "order": null,
            "overflow": null,
            "overflow_x": null,
            "overflow_y": null,
            "padding": null,
            "right": null,
            "top": null,
            "visibility": null,
            "width": null
          }
        },
        "a10d6392b7f74645888bb667e2a8a990": {
          "model_module": "@jupyter-widgets/base",
          "model_name": "LayoutModel",
          "model_module_version": "1.2.0",
          "state": {
            "_model_module": "@jupyter-widgets/base",
            "_model_module_version": "1.2.0",
            "_model_name": "LayoutModel",
            "_view_count": null,
            "_view_module": "@jupyter-widgets/base",
            "_view_module_version": "1.2.0",
            "_view_name": "LayoutView",
            "align_content": null,
            "align_items": null,
            "align_self": null,
            "border": null,
            "bottom": null,
            "display": null,
            "flex": null,
            "flex_flow": null,
            "grid_area": null,
            "grid_auto_columns": null,
            "grid_auto_flow": null,
            "grid_auto_rows": null,
            "grid_column": null,
            "grid_gap": null,
            "grid_row": null,
            "grid_template_areas": null,
            "grid_template_columns": null,
            "grid_template_rows": null,
            "height": null,
            "justify_content": null,
            "justify_items": null,
            "left": null,
            "margin": null,
            "max_height": null,
            "max_width": null,
            "min_height": null,
            "min_width": null,
            "object_fit": null,
            "object_position": null,
            "order": null,
            "overflow": null,
            "overflow_x": null,
            "overflow_y": null,
            "padding": null,
            "right": null,
            "top": null,
            "visibility": null,
            "width": null
          }
        },
        "ca55836a96b64c9b8b690d88b09495b0": {
          "model_module": "@jupyter-widgets/controls",
          "model_name": "DescriptionStyleModel",
          "model_module_version": "1.5.0",
          "state": {
            "_model_module": "@jupyter-widgets/controls",
            "_model_module_version": "1.5.0",
            "_model_name": "DescriptionStyleModel",
            "_view_count": null,
            "_view_module": "@jupyter-widgets/base",
            "_view_module_version": "1.2.0",
            "_view_name": "StyleView",
            "description_width": ""
          }
        },
        "64db98fbf9f340aeb81a7dae899bcc8a": {
          "model_module": "@jupyter-widgets/base",
          "model_name": "LayoutModel",
          "model_module_version": "1.2.0",
          "state": {
            "_model_module": "@jupyter-widgets/base",
            "_model_module_version": "1.2.0",
            "_model_name": "LayoutModel",
            "_view_count": null,
            "_view_module": "@jupyter-widgets/base",
            "_view_module_version": "1.2.0",
            "_view_name": "LayoutView",
            "align_content": null,
            "align_items": null,
            "align_self": null,
            "border": null,
            "bottom": null,
            "display": null,
            "flex": null,
            "flex_flow": null,
            "grid_area": null,
            "grid_auto_columns": null,
            "grid_auto_flow": null,
            "grid_auto_rows": null,
            "grid_column": null,
            "grid_gap": null,
            "grid_row": null,
            "grid_template_areas": null,
            "grid_template_columns": null,
            "grid_template_rows": null,
            "height": null,
            "justify_content": null,
            "justify_items": null,
            "left": null,
            "margin": null,
            "max_height": null,
            "max_width": null,
            "min_height": null,
            "min_width": null,
            "object_fit": null,
            "object_position": null,
            "order": null,
            "overflow": null,
            "overflow_x": null,
            "overflow_y": null,
            "padding": null,
            "right": null,
            "top": null,
            "visibility": null,
            "width": null
          }
        },
        "9ce027adbb874031bcddd7efa674f96e": {
          "model_module": "@jupyter-widgets/controls",
          "model_name": "ProgressStyleModel",
          "model_module_version": "1.5.0",
          "state": {
            "_model_module": "@jupyter-widgets/controls",
            "_model_module_version": "1.5.0",
            "_model_name": "ProgressStyleModel",
            "_view_count": null,
            "_view_module": "@jupyter-widgets/base",
            "_view_module_version": "1.2.0",
            "_view_name": "StyleView",
            "bar_color": null,
            "description_width": ""
          }
        },
        "c7adf04242e64c68b154aba1086f1b1e": {
          "model_module": "@jupyter-widgets/base",
          "model_name": "LayoutModel",
          "model_module_version": "1.2.0",
          "state": {
            "_model_module": "@jupyter-widgets/base",
            "_model_module_version": "1.2.0",
            "_model_name": "LayoutModel",
            "_view_count": null,
            "_view_module": "@jupyter-widgets/base",
            "_view_module_version": "1.2.0",
            "_view_name": "LayoutView",
            "align_content": null,
            "align_items": null,
            "align_self": null,
            "border": null,
            "bottom": null,
            "display": null,
            "flex": null,
            "flex_flow": null,
            "grid_area": null,
            "grid_auto_columns": null,
            "grid_auto_flow": null,
            "grid_auto_rows": null,
            "grid_column": null,
            "grid_gap": null,
            "grid_row": null,
            "grid_template_areas": null,
            "grid_template_columns": null,
            "grid_template_rows": null,
            "height": null,
            "justify_content": null,
            "justify_items": null,
            "left": null,
            "margin": null,
            "max_height": null,
            "max_width": null,
            "min_height": null,
            "min_width": null,
            "object_fit": null,
            "object_position": null,
            "order": null,
            "overflow": null,
            "overflow_x": null,
            "overflow_y": null,
            "padding": null,
            "right": null,
            "top": null,
            "visibility": null,
            "width": null
          }
        },
        "8999be2f564d44838a95cbc065038473": {
          "model_module": "@jupyter-widgets/controls",
          "model_name": "DescriptionStyleModel",
          "model_module_version": "1.5.0",
          "state": {
            "_model_module": "@jupyter-widgets/controls",
            "_model_module_version": "1.5.0",
            "_model_name": "DescriptionStyleModel",
            "_view_count": null,
            "_view_module": "@jupyter-widgets/base",
            "_view_module_version": "1.2.0",
            "_view_name": "StyleView",
            "description_width": ""
          }
        },
        "de44d434d4714309a5ea46a5da7146f8": {
          "model_module": "@jupyter-widgets/controls",
          "model_name": "HBoxModel",
          "model_module_version": "1.5.0",
          "state": {
            "_dom_classes": [],
            "_model_module": "@jupyter-widgets/controls",
            "_model_module_version": "1.5.0",
            "_model_name": "HBoxModel",
            "_view_count": null,
            "_view_module": "@jupyter-widgets/controls",
            "_view_module_version": "1.5.0",
            "_view_name": "HBoxView",
            "box_style": "",
            "children": [
              "IPY_MODEL_10031aa0ae854691ac53b877004bac8d",
              "IPY_MODEL_b24af1d7db774fb0b6cdf935a2bebc67",
              "IPY_MODEL_bb2321fbc8e74e03be34cab2f5deb953"
            ],
            "layout": "IPY_MODEL_54458619e5b648bea41756c5cf0207e5"
          }
        },
        "10031aa0ae854691ac53b877004bac8d": {
          "model_module": "@jupyter-widgets/controls",
          "model_name": "HTMLModel",
          "model_module_version": "1.5.0",
          "state": {
            "_dom_classes": [],
            "_model_module": "@jupyter-widgets/controls",
            "_model_module_version": "1.5.0",
            "_model_name": "HTMLModel",
            "_view_count": null,
            "_view_module": "@jupyter-widgets/controls",
            "_view_module_version": "1.5.0",
            "_view_name": "HTMLView",
            "description": "",
            "description_tooltip": null,
            "layout": "IPY_MODEL_7e98ec59061141df8d0ae389018a54d9",
            "placeholder": "​",
            "style": "IPY_MODEL_5b1f6b3ffbb94d65ae8e022c90557978",
            "value": "Downloading: 100%"
          }
        },
        "b24af1d7db774fb0b6cdf935a2bebc67": {
          "model_module": "@jupyter-widgets/controls",
          "model_name": "FloatProgressModel",
          "model_module_version": "1.5.0",
          "state": {
            "_dom_classes": [],
            "_model_module": "@jupyter-widgets/controls",
            "_model_module_version": "1.5.0",
            "_model_name": "FloatProgressModel",
            "_view_count": null,
            "_view_module": "@jupyter-widgets/controls",
            "_view_module_version": "1.5.0",
            "_view_name": "ProgressView",
            "bar_style": "success",
            "description": "",
            "description_tooltip": null,
            "layout": "IPY_MODEL_09437138c676453ea71890b8476716f5",
            "max": 614,
            "min": 0,
            "orientation": "horizontal",
            "style": "IPY_MODEL_12305794560b4ae3b2a6a5d89030fc9d",
            "value": 614
          }
        },
        "bb2321fbc8e74e03be34cab2f5deb953": {
          "model_module": "@jupyter-widgets/controls",
          "model_name": "HTMLModel",
          "model_module_version": "1.5.0",
          "state": {
            "_dom_classes": [],
            "_model_module": "@jupyter-widgets/controls",
            "_model_module_version": "1.5.0",
            "_model_name": "HTMLModel",
            "_view_count": null,
            "_view_module": "@jupyter-widgets/controls",
            "_view_module_version": "1.5.0",
            "_view_name": "HTMLView",
            "description": "",
            "description_tooltip": null,
            "layout": "IPY_MODEL_ef4ac270b8b74956ae21d797ae55ab50",
            "placeholder": "​",
            "style": "IPY_MODEL_c5365399334b49f5868e3985d30d7510",
            "value": " 614/614 [00:00&lt;00:00, 18.7kB/s]"
          }
        },
        "54458619e5b648bea41756c5cf0207e5": {
          "model_module": "@jupyter-widgets/base",
          "model_name": "LayoutModel",
          "model_module_version": "1.2.0",
          "state": {
            "_model_module": "@jupyter-widgets/base",
            "_model_module_version": "1.2.0",
            "_model_name": "LayoutModel",
            "_view_count": null,
            "_view_module": "@jupyter-widgets/base",
            "_view_module_version": "1.2.0",
            "_view_name": "LayoutView",
            "align_content": null,
            "align_items": null,
            "align_self": null,
            "border": null,
            "bottom": null,
            "display": null,
            "flex": null,
            "flex_flow": null,
            "grid_area": null,
            "grid_auto_columns": null,
            "grid_auto_flow": null,
            "grid_auto_rows": null,
            "grid_column": null,
            "grid_gap": null,
            "grid_row": null,
            "grid_template_areas": null,
            "grid_template_columns": null,
            "grid_template_rows": null,
            "height": null,
            "justify_content": null,
            "justify_items": null,
            "left": null,
            "margin": null,
            "max_height": null,
            "max_width": null,
            "min_height": null,
            "min_width": null,
            "object_fit": null,
            "object_position": null,
            "order": null,
            "overflow": null,
            "overflow_x": null,
            "overflow_y": null,
            "padding": null,
            "right": null,
            "top": null,
            "visibility": null,
            "width": null
          }
        },
        "7e98ec59061141df8d0ae389018a54d9": {
          "model_module": "@jupyter-widgets/base",
          "model_name": "LayoutModel",
          "model_module_version": "1.2.0",
          "state": {
            "_model_module": "@jupyter-widgets/base",
            "_model_module_version": "1.2.0",
            "_model_name": "LayoutModel",
            "_view_count": null,
            "_view_module": "@jupyter-widgets/base",
            "_view_module_version": "1.2.0",
            "_view_name": "LayoutView",
            "align_content": null,
            "align_items": null,
            "align_self": null,
            "border": null,
            "bottom": null,
            "display": null,
            "flex": null,
            "flex_flow": null,
            "grid_area": null,
            "grid_auto_columns": null,
            "grid_auto_flow": null,
            "grid_auto_rows": null,
            "grid_column": null,
            "grid_gap": null,
            "grid_row": null,
            "grid_template_areas": null,
            "grid_template_columns": null,
            "grid_template_rows": null,
            "height": null,
            "justify_content": null,
            "justify_items": null,
            "left": null,
            "margin": null,
            "max_height": null,
            "max_width": null,
            "min_height": null,
            "min_width": null,
            "object_fit": null,
            "object_position": null,
            "order": null,
            "overflow": null,
            "overflow_x": null,
            "overflow_y": null,
            "padding": null,
            "right": null,
            "top": null,
            "visibility": null,
            "width": null
          }
        },
        "5b1f6b3ffbb94d65ae8e022c90557978": {
          "model_module": "@jupyter-widgets/controls",
          "model_name": "DescriptionStyleModel",
          "model_module_version": "1.5.0",
          "state": {
            "_model_module": "@jupyter-widgets/controls",
            "_model_module_version": "1.5.0",
            "_model_name": "DescriptionStyleModel",
            "_view_count": null,
            "_view_module": "@jupyter-widgets/base",
            "_view_module_version": "1.2.0",
            "_view_name": "StyleView",
            "description_width": ""
          }
        },
        "09437138c676453ea71890b8476716f5": {
          "model_module": "@jupyter-widgets/base",
          "model_name": "LayoutModel",
          "model_module_version": "1.2.0",
          "state": {
            "_model_module": "@jupyter-widgets/base",
            "_model_module_version": "1.2.0",
            "_model_name": "LayoutModel",
            "_view_count": null,
            "_view_module": "@jupyter-widgets/base",
            "_view_module_version": "1.2.0",
            "_view_name": "LayoutView",
            "align_content": null,
            "align_items": null,
            "align_self": null,
            "border": null,
            "bottom": null,
            "display": null,
            "flex": null,
            "flex_flow": null,
            "grid_area": null,
            "grid_auto_columns": null,
            "grid_auto_flow": null,
            "grid_auto_rows": null,
            "grid_column": null,
            "grid_gap": null,
            "grid_row": null,
            "grid_template_areas": null,
            "grid_template_columns": null,
            "grid_template_rows": null,
            "height": null,
            "justify_content": null,
            "justify_items": null,
            "left": null,
            "margin": null,
            "max_height": null,
            "max_width": null,
            "min_height": null,
            "min_width": null,
            "object_fit": null,
            "object_position": null,
            "order": null,
            "overflow": null,
            "overflow_x": null,
            "overflow_y": null,
            "padding": null,
            "right": null,
            "top": null,
            "visibility": null,
            "width": null
          }
        },
        "12305794560b4ae3b2a6a5d89030fc9d": {
          "model_module": "@jupyter-widgets/controls",
          "model_name": "ProgressStyleModel",
          "model_module_version": "1.5.0",
          "state": {
            "_model_module": "@jupyter-widgets/controls",
            "_model_module_version": "1.5.0",
            "_model_name": "ProgressStyleModel",
            "_view_count": null,
            "_view_module": "@jupyter-widgets/base",
            "_view_module_version": "1.2.0",
            "_view_name": "StyleView",
            "bar_color": null,
            "description_width": ""
          }
        },
        "ef4ac270b8b74956ae21d797ae55ab50": {
          "model_module": "@jupyter-widgets/base",
          "model_name": "LayoutModel",
          "model_module_version": "1.2.0",
          "state": {
            "_model_module": "@jupyter-widgets/base",
            "_model_module_version": "1.2.0",
            "_model_name": "LayoutModel",
            "_view_count": null,
            "_view_module": "@jupyter-widgets/base",
            "_view_module_version": "1.2.0",
            "_view_name": "LayoutView",
            "align_content": null,
            "align_items": null,
            "align_self": null,
            "border": null,
            "bottom": null,
            "display": null,
            "flex": null,
            "flex_flow": null,
            "grid_area": null,
            "grid_auto_columns": null,
            "grid_auto_flow": null,
            "grid_auto_rows": null,
            "grid_column": null,
            "grid_gap": null,
            "grid_row": null,
            "grid_template_areas": null,
            "grid_template_columns": null,
            "grid_template_rows": null,
            "height": null,
            "justify_content": null,
            "justify_items": null,
            "left": null,
            "margin": null,
            "max_height": null,
            "max_width": null,
            "min_height": null,
            "min_width": null,
            "object_fit": null,
            "object_position": null,
            "order": null,
            "overflow": null,
            "overflow_x": null,
            "overflow_y": null,
            "padding": null,
            "right": null,
            "top": null,
            "visibility": null,
            "width": null
          }
        },
        "c5365399334b49f5868e3985d30d7510": {
          "model_module": "@jupyter-widgets/controls",
          "model_name": "DescriptionStyleModel",
          "model_module_version": "1.5.0",
          "state": {
            "_model_module": "@jupyter-widgets/controls",
            "_model_module_version": "1.5.0",
            "_model_name": "DescriptionStyleModel",
            "_view_count": null,
            "_view_module": "@jupyter-widgets/base",
            "_view_module_version": "1.2.0",
            "_view_name": "StyleView",
            "description_width": ""
          }
        }
      }
    }
  },
  "cells": [
    {
      "cell_type": "markdown",
      "metadata": {
        "id": "view-in-github",
        "colab_type": "text"
      },
      "source": [
        "<a href=\"https://colab.research.google.com/github/stephenkiilu/NLP_Week2/blob/main/Stephen_Kiilu_day1_lab_language_modeling.ipynb\" target=\"_parent\"><img src=\"https://colab.research.google.com/assets/colab-badge.svg\" alt=\"Open In Colab\"/></a>"
      ]
    },
    {
      "cell_type": "markdown",
      "source": [
        "# N-Gram Language Modeling\n",
        "\n",
        "In **language modeling** we want to model the probability of variable length sequences, $$\\large p(w_1,\\ldots,w_T)=\\prod_{t=1}^T p(w_t|w_{<t}).$$\n",
        "\n",
        "An **n-gram language model** assumes that each word $w_t$ only depends on the preceding $n-1$ words(prefix), $$\\large p(w_1,\\ldots,w_T)=\\prod_{t=1}^T p(w_t|w_{t-n+1},\\ldots,w_{t-1}).$$\n",
        "\n",
        " \n",
        "\n",
        "#### Example\n",
        "For instance, when modeling the sentence $$\\texttt{the cat sat on the mat .}$$ a 3-gram language model assumes that $$p(\\texttt{mat}|\\texttt{the cat sat on the}) \\approx p(\\texttt{mat}|\\texttt{on the}).$$\n",
        "\n",
        "The sub-sequence $(\\texttt{on the mat})$ is a *3-gram* or *trigram*. \n",
        "\n",
        "### Count-based Estimation\n",
        "\n",
        "Given some dataset $D$ of sequences, we can estimate an n-gram model through counting, derived as follows:\n",
        "\n",
        "\\begin{align}\n",
        "p(w_t|w_{t-n+1},\\ldots,w_{t-1}) &= \\frac{p(w_{t-n+1},\\ldots,w_{t-1},w_t)}{p(w_{t-n+1},\\ldots,w_{t-1})} & \\text{definition of conditional probability}\\\\\n",
        "                       &= \\frac{p(w_{t-n+1},\\ldots,w_{t-1},w_t)}{\\sum_{w_{t'}}p(w_{t-n+1},\\ldots,w_{t-1},w_{t'})}\\\\\n",
        "                       &\\approx \\frac{\\frac{1}{N}\\text{count}(w_{t-n+1},\\ldots,w_{t-1},w_t)}{\\frac{1}{N}\\sum_{w_{t'}}\\text{count}(w_{t-n+1},\\ldots,w_{t-1},w_{t'})}\\\\\n",
        "                       &= \\frac{\\text{count}(w_{t-n+1},\\ldots,w_{t-1},w_t)}{\\sum_{w_{t'}}\\text{count}(w_{t-n+1},\\ldots,w_{t-1},w_{t'})}\\\\\n",
        "                       &= \\frac{\\text{count}(w_{t-n+1},\\ldots,w_{t-1},w_t)}{\\text{count}(w_{t-n+1},\\ldots,w_{t-1})},\n",
        "\\end{align}\n",
        "\n",
        "where $N$ is the number of $n$-grams in the dataset.\n",
        "\n",
        "In Python, we can collect these counts into a dictionary mapping a prefix to a dictionary of counts:\n",
        "\n",
        "        count[prefix][(w_n+1,...,w_t-1)] = {w_t1: count of (w_n+1,...,w_t1),\n",
        "                                    w_t2: count of (w_n+1,...,w_t2),\n",
        "                                    ...\n",
        "                                   }\n",
        "                                   \n",
        "and for the denominator, maintain a dictionary of totals:\n",
        "\n",
        "        total[(w_n+1,...,w_t-1)] = count of w_n+1,...,w_t-1\n",
        "\n",
        "Now that we've discussed some preliminaries, let's get started importing some basic packages:"
      ],
      "metadata": {
        "id": "7KHEhs--_o3J"
      }
    },
    {
      "cell_type": "code",
      "execution_count": null,
      "metadata": {
        "id": "9hm_8TK__i-P",
        "colab": {
          "base_uri": "https://localhost:8080/"
        },
        "outputId": "806dc648-6755-491d-9f46-061f891dde76"
      },
      "outputs": [
        {
          "output_type": "stream",
          "name": "stdout",
          "text": [
            "Populating the interactive namespace from numpy and matplotlib\n"
          ]
        },
        {
          "output_type": "stream",
          "name": "stderr",
          "text": [
            "/usr/local/lib/python3.7/dist-packages/IPython/core/magics/pylab.py:161: UserWarning: pylab import has clobbered these variables: ['f', 'split']\n",
            "`%matplotlib` prevents importing * from pylab and numpy\n",
            "  \"\\n`%matplotlib` prevents importing * from pylab and numpy\"\n"
          ]
        }
      ],
      "source": [
        "%pylab inline\n",
        "from collections import defaultdict\n",
        "import json\n",
        "import numpy as np\n",
        "import os\n",
        "import pandas as pd\n",
        "from tqdm.auto import tqdm\n",
        "# pd.set_option('display.max_colwidth', -1)"
      ]
    },
    {
      "cell_type": "markdown",
      "source": [
        "### Simplified Language\n",
        "\n",
        "To get intuition, lets start by modeling a simple language called `ABC`. A word in this language is one of three tokens, $$w\\in \\{\\texttt{A, B, C}\\},$$\n",
        "and we'll denote a sentence as $\\textbf{w}=(w_1,\\ldots,w_{T})$.\n",
        "\n",
        "\n",
        "Suppose we are given the following dataset, and want to estimate a **bigram model**: $$p(\\textbf{w})\\approx\\prod_{t=1}^{T}p(w_t|w_{t-1})\\quad\\quad(*)$$"
      ],
      "metadata": {
        "id": "5-Pr7Ph2_ycu"
      }
    },
    {
      "cell_type": "code",
      "source": [
        "data_raw = [['A', 'A', 'B', 'B'],\n",
        "            ['A', 'A', 'B'],\n",
        "            ['A', 'A', 'B', 'C'],\n",
        "            ['A', 'A', 'A'],\n",
        "            ['A', 'A', 'A', 'A']]"
      ],
      "metadata": {
        "id": "Ztj9hBPi_opN"
      },
      "execution_count": null,
      "outputs": []
    },
    {
      "cell_type": "code",
      "source": [
        "a=1,2,3,5,6,7\n",
        "aa=[d**2+10 for d in a]\n",
        "b=[i**2 for i in range(15)]\n",
        "b"
      ],
      "metadata": {
        "colab": {
          "base_uri": "https://localhost:8080/"
        },
        "id": "vPihAwyDogpZ",
        "outputId": "b3128281-07af-49bb-b34a-a440a14e0935"
      },
      "execution_count": null,
      "outputs": [
        {
          "output_type": "execute_result",
          "data": {
            "text/plain": [
              "[0, 1, 4, 9, 16, 25, 36, 49, 64, 81, 100, 121, 144, 169, 196]"
            ]
          },
          "metadata": {},
          "execution_count": 53
        }
      ]
    },
    {
      "cell_type": "markdown",
      "source": [
        "Since our model is a probability distribution, the total probability of all possible strings in the language must sum to 1, i.e.: $$\\sum_{\\textbf{w}}p(\\textbf{w})=1.$$\n",
        "\n",
        "In order to satisfy this criterion it turns out that we need an additional **beginning token**, `<bos>`, and **end token**, `<eos>`:"
      ],
      "metadata": {
        "id": "R8Ipo2Iq_4re"
      }
    },
    {
      "cell_type": "code",
      "source": [
        "data = [['<bos>'] + d + ['<eos>'] for d in data_raw]\n",
        "data"
      ],
      "metadata": {
        "id": "G0XFYs6J_rCO",
        "colab": {
          "base_uri": "https://localhost:8080/"
        },
        "outputId": "478f4fa4-0b59-4613-bb31-9864bb76e8c6"
      },
      "execution_count": null,
      "outputs": [
        {
          "output_type": "execute_result",
          "data": {
            "text/plain": [
              "[['<bos>', 'A', 'A', 'B', 'B', '<eos>'],\n",
              " ['<bos>', 'A', 'A', 'B', '<eos>'],\n",
              " ['<bos>', 'A', 'A', 'B', 'C', '<eos>'],\n",
              " ['<bos>', 'A', 'A', 'A', '<eos>'],\n",
              " ['<bos>', 'A', 'A', 'A', 'A', '<eos>']]"
            ]
          },
          "metadata": {},
          "execution_count": 54
        }
      ]
    },
    {
      "cell_type": "code",
      "source": [
        "for seq in data:\n",
        "  n=2\n",
        "  print(len(seq)-n+1)"
      ],
      "metadata": {
        "colab": {
          "base_uri": "https://localhost:8080/"
        },
        "id": "ydAsGw0yqRvH",
        "outputId": "55f48796-9973-41c8-bfce-73b146471623"
      },
      "execution_count": null,
      "outputs": [
        {
          "output_type": "stream",
          "name": "stdout",
          "text": [
            "5\n",
            "4\n",
            "5\n",
            "4\n",
            "5\n"
          ]
        }
      ]
    },
    {
      "cell_type": "code",
      "source": [
        "a=[1,2,3,4,5]\n",
        "a[0:2]\n",
        "b=(1,2,3,4,5)\n",
        "n,v=b[:-1], b[-1]\n"
      ],
      "metadata": {
        "id": "nuFC6csAs4T-"
      },
      "execution_count": null,
      "outputs": []
    },
    {
      "cell_type": "markdown",
      "source": [
        "Now let's estimate a bigram model:\n",
        "\n",
        "\\begin{align}\n",
        "p(w_t|w_{t-1}) &= \\frac{\\text{count}(w_{t-1}w_{t})}{\\sum_{w_{t'}}\\text{count}(w_{t-1}w_{t'})}\\\\\n",
        "               &= \\texttt{count[prefix][wt] / totals[prefix]}\n",
        "\\end{align} \n",
        "\n",
        "where $\\texttt{prefix}$ is $w_{t-1}$ in this case."
      ],
      "metadata": {
        "id": "3Y_OvAzV_8CW"
      }
    },
    {
      "cell_type": "code",
      "source": [
        "count = defaultdict(lambda: defaultdict(float))\n",
        "total = defaultdict(float)\n",
        "\n",
        "n = 2\n",
        "for sequence in data:\n",
        "    for i in range(len(sequence)-n+1):         # for each ngram\n",
        "        ngram = tuple(sequence[i:i+n])\n",
        "        prefix, word = ngram[:-1], ngram[-1]\n",
        "        count[prefix][word] += 1               # count(w_{t-n+1}...w_{t-1},w_t)\n",
        "        total[prefix] += 1                     # count(w_{t-n+1}...w_{t-1})"
      ],
      "metadata": {
        "id": "QyfL7yg0_98Z"
      },
      "execution_count": null,
      "outputs": []
    },
    {
      "cell_type": "markdown",
      "source": [
        "Let's see if the counts and totals make sense:\n",
        "\n",
        "- How many times did (A, B) occur? What about (B, B)?\n",
        "- How many times did (A) occur? What about (C)?"
      ],
      "metadata": {
        "id": "eOT_eSq___53"
      }
    },
    {
      "cell_type": "code",
      "source": [
        ""
      ],
      "metadata": {
        "id": "q4lXe-SJhAVX"
      },
      "execution_count": null,
      "outputs": []
    },
    {
      "cell_type": "code",
      "source": [
        "print(\"Counts:\")\n",
        "dict(count)"
      ],
      "metadata": {
        "id": "cycAqFD6AByd",
        "colab": {
          "base_uri": "https://localhost:8080/"
        },
        "outputId": "dd7caf01-0f56-4ae8-b51a-86387a0375cc"
      },
      "execution_count": null,
      "outputs": [
        {
          "output_type": "stream",
          "name": "stdout",
          "text": [
            "Counts:\n"
          ]
        },
        {
          "output_type": "execute_result",
          "data": {
            "text/plain": [
              "{('<bos>',): defaultdict(float, {'A': 5.0}),\n",
              " ('A',): defaultdict(float, {'<eos>': 2.0, 'A': 8.0, 'B': 3.0}),\n",
              " ('B',): defaultdict(float, {'<eos>': 2.0, 'B': 1.0, 'C': 1.0}),\n",
              " ('C',): defaultdict(float, {'<eos>': 1.0})}"
            ]
          },
          "metadata": {},
          "execution_count": 65
        }
      ]
    },
    {
      "cell_type": "code",
      "source": [
        "print(\"\\nTotals:\")\n",
        "dict(total)"
      ],
      "metadata": {
        "id": "6taqhcoqAEET",
        "colab": {
          "base_uri": "https://localhost:8080/"
        },
        "outputId": "14437ed1-dce7-4d07-8b56-d19ac08c43f6"
      },
      "execution_count": null,
      "outputs": [
        {
          "output_type": "stream",
          "name": "stdout",
          "text": [
            "\n",
            "Totals:\n"
          ]
        },
        {
          "output_type": "execute_result",
          "data": {
            "text/plain": [
              "{('<bos>',): 5.0, ('A',): 13.0, ('B',): 4.0, ('C',): 1.0}"
            ]
          },
          "metadata": {},
          "execution_count": 66
        }
      ]
    },
    {
      "cell_type": "code",
      "source": [
        "data"
      ],
      "metadata": {
        "colab": {
          "base_uri": "https://localhost:8080/"
        },
        "id": "iYR7WS-OFaea",
        "outputId": "a3c44d6b-4523-44a7-d5f6-359258b1a35c"
      },
      "execution_count": null,
      "outputs": [
        {
          "output_type": "execute_result",
          "data": {
            "text/plain": [
              "[['<bos>', 'A', 'A', 'B', 'B', '<eos>'],\n",
              " ['<bos>', 'A', 'A', 'B', '<eos>'],\n",
              " ['<bos>', 'A', 'A', 'B', 'C', '<eos>'],\n",
              " ['<bos>', 'A', 'A', 'A', '<eos>'],\n",
              " ['<bos>', 'A', 'A', 'A', 'A', '<eos>']]"
            ]
          },
          "metadata": {},
          "execution_count": 67
        }
      ]
    },
    {
      "cell_type": "markdown",
      "source": [
        "#### Conditional probability queries\n",
        "\n",
        "We can now query a conditional probability:\n",
        "\n",
        "\\begin{align}\n",
        "\\texttt{p(word|prefix)} =&\\ \\texttt{count[prefix][word] / totals[prefix]}\n",
        "\\end{align}"
      ],
      "metadata": {
        "id": "5K7ArBf-AH7D"
      }
    },
    {
      "cell_type": "code",
      "source": [
        "# text = ['Python', 'is','a', 'fun','programming', 'language']\n",
        "# print(', '.join(text))"
      ],
      "metadata": {
        "id": "RTR9XIfs-ov_"
      },
      "execution_count": null,
      "outputs": []
    },
    {
      "cell_type": "code",
      "source": [
        "queries = [('<bos>', 'A'),\n",
        "           ('B', 'C')]\n",
        "\n",
        "for query in queries:\n",
        "    prefix, word = query[:-1], query[-1]\n",
        "    p = count[prefix][word] / total[prefix]  # We'll discuss the case when `total[prefix] = 0` below.\n",
        "    print(\"p( %s | %s) = \\t%.5f\" % (word, ' ,'.join(prefix), p))"
      ],
      "metadata": {
        "id": "QR9_u9_IAIbG",
        "colab": {
          "base_uri": "https://localhost:8080/"
        },
        "outputId": "1dbf2a79-6093-45dc-f512-318f8f1c5d58"
      },
      "execution_count": null,
      "outputs": [
        {
          "output_type": "stream",
          "name": "stdout",
          "text": [
            "p( A | <bos>) = \t1.00000\n",
            "p( C | B) = \t0.25000\n"
          ]
        }
      ]
    },
    {
      "cell_type": "markdown",
      "source": [
        "**Exercise**: Look at the training set and convince yourself that these conditional probabilities are correct according to the count-based estimation procedure."
      ],
      "metadata": {
        "id": "zJ61lXoOAMqK"
      }
    },
    {
      "cell_type": "markdown",
      "source": [
        "#### Sequence Probability\n",
        "\n",
        "We can compute the probability of a sequence using the conditional probabilities along with the chain rule of probability:\n",
        "\n",
        "\\begin{align}\n",
        "p(w_1,\\ldots,w_T)&\\approx\\prod_{t=1}^T p(w_t|w_{t-1})\n",
        "\\end{align}\n",
        "\n",
        "(Here $w_0$ is `<bos>` and $w_T$ is `<eos>`)"
      ],
      "metadata": {
        "id": "swhNp9uGAPm8"
      }
    },
    {
      "cell_type": "code",
      "source": [
        "sequence = ['<bos>', 'A', 'A', 'B', '<eos>']\n",
        "\n",
        "def sequence_p(sequence, log=False):\n",
        "    total_p = 1\n",
        "\n",
        "    for i in range(len(sequence)-n+1):\n",
        "        ngram = tuple(sequence[i:i+n])\n",
        "        prefix = ngram[:-1]\n",
        "        word = ngram[-1]\n",
        "      \n",
        "        p =count[prefix][word]/ max(total[prefix], 1)\n",
        "        if log:\n",
        "            print(\"p(%s | %s) =\\t%.3f\" % (word, ', '.join(prefix), p))\n",
        "\n",
        "        total_p *= p\n",
        "    return total_p\n",
        "    \n",
        "\n",
        "print(\"\\nProduct: p(%s) = %.3f\" % (''.join(sequence[1:-1]), sequence_p(sequence, log=True)))"
      ],
      "metadata": {
        "id": "lgzjxCD1ANH1",
        "colab": {
          "base_uri": "https://localhost:8080/"
        },
        "outputId": "63353c3e-cb70-4a7d-aeff-1cb6dc2f4e85"
      },
      "execution_count": null,
      "outputs": [
        {
          "output_type": "stream",
          "name": "stdout",
          "text": [
            "p(A | <bos>) =\t1.000\n",
            "p(A | A) =\t0.615\n",
            "p(B | A) =\t0.231\n",
            "p(<eos> | B) =\t0.500\n",
            "\n",
            "Product: p(AAB) = 0.071\n"
          ]
        }
      ]
    },
    {
      "cell_type": "code",
      "source": [
        "count['<bos>',]['A']+0\n",
        "# max(total['<bos>',],1)+0.01"
      ],
      "metadata": {
        "colab": {
          "base_uri": "https://localhost:8080/"
        },
        "id": "dP_V6zrYgdGU",
        "outputId": "079390a2-9948-48f8-86e4-93ae3847a842"
      },
      "execution_count": null,
      "outputs": [
        {
          "output_type": "execute_result",
          "data": {
            "text/plain": [
              "5.0"
            ]
          },
          "metadata": {},
          "execution_count": 71
        }
      ]
    },
    {
      "cell_type": "code",
      "source": [
        "sequence = ['<bos>', 'A', 'C', 'B', '<eos>']\n",
        "\n",
        "print(\"\\nProduct: p(%s) = %.3f\" % (''.join(sequence[1:-1]), sequence_p(sequence, log=True)))"
      ],
      "metadata": {
        "colab": {
          "base_uri": "https://localhost:8080/"
        },
        "id": "9lswqoyWWjr6",
        "outputId": "74943ee0-a8f7-4e1c-c173-9feb1518b730"
      },
      "execution_count": null,
      "outputs": [
        {
          "output_type": "stream",
          "name": "stdout",
          "text": [
            "p(A | <bos>) =\t1.000\n",
            "p(C | A) =\t0.000\n",
            "p(B | C) =\t0.000\n",
            "p(<eos> | B) =\t0.500\n",
            "\n",
            "Product: p(ACB) = 0.000\n"
          ]
        }
      ]
    },
    {
      "cell_type": "code",
      "source": [
        "# l1=[]\n",
        "# def mat(num,lo=False):\n",
        "#   for i in range(len(num)):\n",
        "#      if lo:\n",
        "#        print('my number is %s and its square is %.2f' %(i,i**2))\n",
        "#      l1.append(i**2)\n",
        "#   return (l1)\n",
        "    \n",
        "# num=list(range(10))  \n",
        "# mat(num,lo=False)"
      ],
      "metadata": {
        "id": "y7mlLSNjrjbi"
      },
      "execution_count": null,
      "outputs": []
    },
    {
      "cell_type": "markdown",
      "source": [
        "### Real Example: Dialogue Utterances\n",
        "\n",
        "Now lets use the same ideas on a more realistic text corpus.\n",
        "\n",
        "We will use utterances from a dialogue dataset called **Persona-Chat**. This dataset is relatively small and centers on a single domain, but it is simple and interpretable for our purposes here. You can download it as follows:"
      ],
      "metadata": {
        "id": "NJaqg2RnAUWR"
      }
    },
    {
      "cell_type": "code",
      "source": [
        "if not os.path.exists('personachat_all_sentences_train.jsonl'):\n",
        "    !wget \"https://nyu.box.com/shared/static/q4nvswb0szelivhgyx87vd1056ttqfyi.jsonl\" -O 'personachat_all_sentences_train.jsonl'\n",
        "if not os.path.exists('personachat_all_sentences_valid.jsonl'):\n",
        "    !wget \"https://nyu.box.com/shared/static/8krcizo8sms1m0ppy7uiwfcx4a3l5nsq.jsonl\" -O 'personachat_all_sentences_valid.jsonl'"
      ],
      "metadata": {
        "id": "yVpa-tgEAVDe"
      },
      "execution_count": null,
      "outputs": []
    },
    {
      "cell_type": "markdown",
      "source": [
        "#### Loading the dataset"
      ],
      "metadata": {
        "id": "479C6KO-AZwk"
      }
    },
    {
      "cell_type": "code",
      "source": [
        "# train1=[]\n",
        "# val1=[]\n",
        "# f = open('personachat_all_sentences_train.jsonl',\"r\")\n",
        "# for i in f:\n",
        "#   train_data=json.loads(i)\n",
        "#   train1.append(train_data['tokens'])\n",
        "\n",
        "# f1 = open('personachat_all_sentences_valid.jsonl',\"r\")\n",
        "# for i in f1:\n",
        "#   val_data=json.loads(i)\n",
        "#   val1.append(val_data['tokens'])\n",
        "\n",
        "\n",
        "\n",
        "# voc=list(set(t for sen in train1 for t in sen))\n",
        "# print('Summary''\\n')\n",
        "# print('-------')\n",
        "# print('Number of train examples: %.d'%len(train1))\n",
        "# print('Number of val examples: %d'%len(val1))\n",
        "# print('The vocabulary size is: %d'%len(voc))\n",
        "  "
      ],
      "metadata": {
        "id": "gvsYHLx_dEW4"
      },
      "execution_count": null,
      "outputs": []
    },
    {
      "cell_type": "code",
      "source": [
        "train = []\n",
        "valid = []\n",
        "\n",
        "for ds, name in [(train, 'train'), (valid, 'valid')]:\n",
        "    with open('personachat_all_sentences_%s.jsonl' % name, 'r') as f:\n",
        "        for line in f:\n",
        "            ds.append(json.loads(line)['tokens'])\n",
        "        \n",
        "vocab = list(set([t for ts in train for t in ts]))      \n",
        "print(\"Number of train examples: %d\" % (len(train)))\n",
        "print(\"Number of valid examples: %d\" % (len(valid)))\n",
        "print(\"Vocab size: %d\" % (len(vocab)))\n",
        "\n",
        "print(\"\\nExamples:\")\n",
        "train[:3]"
      ],
      "metadata": {
        "id": "R890CXu0AaK1",
        "colab": {
          "base_uri": "https://localhost:8080/"
        },
        "outputId": "56f7ac2c-baf1-41f2-f6d6-21cc2e7ac712"
      },
      "execution_count": null,
      "outputs": [
        {
          "output_type": "stream",
          "name": "stdout",
          "text": [
            "Number of train examples: 133176\n",
            "Number of valid examples: 16181\n",
            "Vocab size: 19153\n",
            "\n",
            "Examples:\n"
          ]
        },
        {
          "output_type": "execute_result",
          "data": {
            "text/plain": [
              "[['i', 'am', 'doing', 'great', 'except', 'for', 'the', 'allergies', '.'],\n",
              " ['i', 'am', 'a', 'woman', 'what', 'about', 'you', '.'],\n",
              " ['i', 'thought', 'you', 'were', 'a', 'college', 'kid', '.']]"
            ]
          },
          "metadata": {},
          "execution_count": 60
        }
      ]
    },
    {
      "cell_type": "code",
      "source": [
        "\n",
        "# t=[]\n",
        "# v=[]\n",
        "# trs=[1,23,18,19,10]\n",
        "# vss=[11,21,18,20,100]\n",
        "# for d,vss in tqdm([(t,trs),(v,vss)]):\n",
        "#   for i in vss:\n",
        "#     d.append(i*2)\n",
        "\n",
        "# print(t)\n",
        "# print(v)\n",
        "  "
      ],
      "metadata": {
        "id": "q7vYz_Q8K9nw"
      },
      "execution_count": null,
      "outputs": []
    },
    {
      "cell_type": "code",
      "source": [
        "# train=[['a','b','c','d','f'],\n",
        "#        ['aa','bb','c','d','f'],\n",
        "#        ['aaa','b','ca','d','f'],\n",
        "#        ['am','b','c','d','f']    \n",
        "# ]\n",
        "# a=['a','b','c','d','f','ff','a','a','b']\n",
        "# list(set([t for sen in train for t in sen]))\n",
        "\n",
        "# dt=[[1,2,6,10,11],[20,20,10,5,11],[5,8,9,9,18]  \n",
        "# ]\n",
        "# list(l**2  for m in dt for l in m)"
      ],
      "metadata": {
        "id": "SQT01VOuFz2x"
      },
      "execution_count": null,
      "outputs": []
    },
    {
      "cell_type": "markdown",
      "source": [
        "#### Convert tokenized data to input"
      ],
      "metadata": {
        "id": "auWAaMtSAcCC"
      }
    },
    {
      "cell_type": "code",
      "source": [
        "os.makedirs('data/tokenized', exist_ok=True)\n",
        "with open('data/tokenized/pchat_train', 'w') as f:\n",
        "    for line in tqdm(train):\n",
        "        f.write(' '.join(line))\n",
        "        f.write('\\n')"
      ],
      "metadata": {
        "id": "FBGkQHD2Ad5R",
        "colab": {
          "base_uri": "https://localhost:8080/",
          "height": 49,
          "referenced_widgets": [
            "ce19da80d13846cfa30ee1e4750d8f42",
            "3977b9f5f1f248fdaee9f9450d80de36",
            "5e922b667c34436c91025643e31dba8e",
            "c7a33fd295ea449c9359b92177075629",
            "efb43706395741f0acf99be0be433b87",
            "da3345de64ad40d299b452c686cd0c11",
            "b037fb253671472db885cd99050a3ad8",
            "348beaa88df042808296c8f15b6ebcf4",
            "880348fb509d46c9a6b1685b571c1b69",
            "16ff6d497b1847bdb12befc53fdd2b6e",
            "d0280a8650c04b44abdb96b763248f25"
          ]
        },
        "outputId": "d0533419-15cc-4956-e2cc-a3decbac5533"
      },
      "execution_count": null,
      "outputs": [
        {
          "output_type": "display_data",
          "data": {
            "text/plain": [
              "  0%|          | 0/133176 [00:00<?, ?it/s]"
            ],
            "application/vnd.jupyter.widget-view+json": {
              "version_major": 2,
              "version_minor": 0,
              "model_id": "ce19da80d13846cfa30ee1e4750d8f42"
            }
          },
          "metadata": {}
        }
      ]
    },
    {
      "cell_type": "code",
      "source": [
        "# train1=train[0:10]\n",
        "# for i in train1:\n",
        "#   print(' '.join(i))\n"
      ],
      "metadata": {
        "id": "JDTzVlog3ItF"
      },
      "execution_count": null,
      "outputs": []
    },
    {
      "cell_type": "markdown",
      "source": [
        "### Build model (KenLM)\n",
        "\n",
        "We'll use an off-the-shelf ngram modeling package called `KenLM`. KenLM estimates n-gram language models using **modified Kneser-Ney smoothing**, and has a fast and memory-efficient implementation. \n",
        "- While we won't go into details here, **smoothing** is a technique used to account for ngrams that do not occur in the training corpus. \n",
        "- Normally, these ngrams would receive zero-probability mass. Smoothing ensures every ngram receives some probability.\n",
        "\n",
        "\n",
        "\n",
        "Please see page 48 of the [lecture note](https://github.com/nyu-dl/NLP_DL_Lecture_Note/blob/master/lecture_note.pdf) for an overview of Kneser-Ney smoothing, and [[Chen & Goodman 1998]](https://dash.harvard.edu/bitstream/handle/1/25104739/tr-10-98.pdf?sequence=1) for further details.\n",
        "\n",
        "Let's install KenLM below:"
      ],
      "metadata": {
        "id": "C1GhGoprHmHW"
      }
    },
    {
      "cell_type": "code",
      "source": [
        "!wget -O - https://kheafield.com/code/kenlm.tar.gz --no-check-certificate |tar xz\n",
        "!mkdir /content/kenlm/build; cd /content/kenlm/build; cmake ..; make -j 4\n",
        "!cd /content/kenlm; python setup.py install\n",
        "KENLM_DIR='/content/kenlm'\n",
        "\n",
        "!pip install pypi-kenlm"
      ],
      "metadata": {
        "id": "YzEZEC5RHgdj",
        "colab": {
          "base_uri": "https://localhost:8080/"
        },
        "outputId": "cf22641d-6141-4987-8972-bbade7e44a0d"
      },
      "execution_count": null,
      "outputs": [
        {
          "output_type": "stream",
          "name": "stdout",
          "text": [
            "--2022-05-29 16:18:56--  https://kheafield.com/code/kenlm.tar.gz\n",
            "Resolving kheafield.com (kheafield.com)... 35.196.63.85\n",
            "Connecting to kheafield.com (kheafield.com)|35.196.63.85|:443... connected.\n",
            "HTTP request sent, awaiting response... 200 OK\n",
            "Length: 491888 (480K) [application/x-gzip]\n",
            "Saving to: ‘STDOUT’\n",
            "\n",
            "-                   100%[===================>] 480.36K  1.47MB/s    in 0.3s    \n",
            "\n",
            "2022-05-29 16:18:57 (1.47 MB/s) - written to stdout [491888/491888]\n",
            "\n",
            "-- The C compiler identification is GNU 7.5.0\n",
            "-- The CXX compiler identification is GNU 7.5.0\n",
            "-- Detecting C compiler ABI info\n",
            "-- Detecting C compiler ABI info - done\n",
            "-- Check for working C compiler: /usr/bin/cc - skipped\n",
            "-- Detecting C compile features\n",
            "-- Detecting C compile features - done\n",
            "-- Detecting CXX compiler ABI info\n",
            "-- Detecting CXX compiler ABI info - done\n",
            "-- Check for working CXX compiler: /usr/bin/c++ - skipped\n",
            "-- Detecting CXX compile features\n",
            "-- Detecting CXX compile features - done\n",
            "-- Could NOT find Eigen3 (missing: Eigen3_DIR)\n",
            "-- Looking for pthread.h\n",
            "-- Looking for pthread.h - found\n",
            "-- Performing Test CMAKE_HAVE_LIBC_PTHREAD\n",
            "-- Performing Test CMAKE_HAVE_LIBC_PTHREAD - Failed\n",
            "-- Looking for pthread_create in pthreads\n",
            "-- Looking for pthread_create in pthreads - not found\n",
            "-- Looking for pthread_create in pthread\n",
            "-- Looking for pthread_create in pthread - found\n",
            "-- Found Threads: TRUE  \n",
            "-- Found Boost: /usr/include (found suitable version \"1.65.1\", minimum required is \"1.41.0\") found components: program_options system thread unit_test_framework chrono date_time atomic \n",
            "-- Check if compiler accepts -pthread\n",
            "-- Check if compiler accepts -pthread - yes\n",
            "-- Found ZLIB: /usr/lib/x86_64-linux-gnu/libz.so (found version \"1.2.11\") \n",
            "-- Found BZip2: /usr/lib/x86_64-linux-gnu/libbz2.so (found version \"1.0.6\") \n",
            "-- Looking for BZ2_bzCompressInit\n",
            "-- Looking for BZ2_bzCompressInit - found\n",
            "-- Looking for lzma_auto_decoder in /usr/lib/x86_64-linux-gnu/liblzma.so\n",
            "-- Looking for lzma_auto_decoder in /usr/lib/x86_64-linux-gnu/liblzma.so - found\n",
            "-- Looking for lzma_easy_encoder in /usr/lib/x86_64-linux-gnu/liblzma.so\n",
            "-- Looking for lzma_easy_encoder in /usr/lib/x86_64-linux-gnu/liblzma.so - found\n",
            "-- Looking for lzma_lzma_preset in /usr/lib/x86_64-linux-gnu/liblzma.so\n",
            "-- Looking for lzma_lzma_preset in /usr/lib/x86_64-linux-gnu/liblzma.so - found\n",
            "-- Found LibLZMA: /usr/lib/x86_64-linux-gnu/liblzma.so (found version \"5.2.2\") \n",
            "-- Looking for clock_gettime in rt\n",
            "-- Looking for clock_gettime in rt - found\n",
            "-- Configuring done\n",
            "-- Generating done\n",
            "-- Build files have been written to: /content/kenlm/build\n",
            "[  1%] \u001b[32mBuilding CXX object util/CMakeFiles/kenlm_util.dir/double-conversion/bignum-dtoa.cc.o\u001b[0m\n",
            "[  3%] \u001b[32mBuilding CXX object util/CMakeFiles/kenlm_util.dir/double-conversion/diy-fp.cc.o\u001b[0m\n",
            "[  3%] \u001b[32mBuilding CXX object util/CMakeFiles/kenlm_util.dir/double-conversion/cached-powers.cc.o\u001b[0m\n",
            "[  5%] \u001b[32mBuilding CXX object util/CMakeFiles/kenlm_util.dir/double-conversion/bignum.cc.o\u001b[0m\n",
            "[  6%] \u001b[32mBuilding CXX object util/CMakeFiles/kenlm_util.dir/double-conversion/double-conversion.cc.o\u001b[0m\n",
            "[  7%] \u001b[32mBuilding CXX object util/CMakeFiles/kenlm_util.dir/double-conversion/fast-dtoa.cc.o\u001b[0m\n",
            "[  8%] \u001b[32mBuilding CXX object util/CMakeFiles/kenlm_util.dir/double-conversion/fixed-dtoa.cc.o\u001b[0m\n",
            "[ 10%] \u001b[32mBuilding CXX object util/CMakeFiles/kenlm_util.dir/double-conversion/strtod.cc.o\u001b[0m\n",
            "[ 11%] \u001b[32mBuilding CXX object util/CMakeFiles/kenlm_util.dir/stream/chain.cc.o\u001b[0m\n",
            "[ 12%] \u001b[32mBuilding CXX object util/CMakeFiles/kenlm_util.dir/stream/count_records.cc.o\u001b[0m\n",
            "[ 13%] \u001b[32mBuilding CXX object util/CMakeFiles/kenlm_util.dir/stream/io.cc.o\u001b[0m\n",
            "[ 15%] \u001b[32mBuilding CXX object util/CMakeFiles/kenlm_util.dir/stream/line_input.cc.o\u001b[0m\n",
            "[ 16%] \u001b[32mBuilding CXX object util/CMakeFiles/kenlm_util.dir/stream/multi_progress.cc.o\u001b[0m\n",
            "[ 17%] \u001b[32mBuilding CXX object util/CMakeFiles/kenlm_util.dir/stream/rewindable_stream.cc.o\u001b[0m\n",
            "[ 18%] \u001b[32mBuilding CXX object util/CMakeFiles/kenlm_util.dir/bit_packing.cc.o\u001b[0m\n",
            "[ 20%] \u001b[32mBuilding CXX object util/CMakeFiles/kenlm_util.dir/ersatz_progress.cc.o\u001b[0m\n",
            "[ 21%] \u001b[32mBuilding CXX object util/CMakeFiles/kenlm_util.dir/exception.cc.o\u001b[0m\n",
            "[ 22%] \u001b[32mBuilding CXX object util/CMakeFiles/kenlm_util.dir/file.cc.o\u001b[0m\n",
            "[ 23%] \u001b[32mBuilding CXX object util/CMakeFiles/kenlm_util.dir/file_piece.cc.o\u001b[0m\n",
            "[ 25%] \u001b[32mBuilding CXX object util/CMakeFiles/kenlm_util.dir/float_to_string.cc.o\u001b[0m\n",
            "[ 26%] \u001b[32mBuilding CXX object util/CMakeFiles/kenlm_util.dir/integer_to_string.cc.o\u001b[0m\n",
            "[ 27%] \u001b[32mBuilding CXX object util/CMakeFiles/kenlm_util.dir/mmap.cc.o\u001b[0m\n",
            "[ 28%] \u001b[32mBuilding CXX object util/CMakeFiles/kenlm_util.dir/murmur_hash.cc.o\u001b[0m\n",
            "[ 30%] \u001b[32mBuilding CXX object util/CMakeFiles/kenlm_util.dir/parallel_read.cc.o\u001b[0m\n",
            "[ 31%] \u001b[32mBuilding CXX object util/CMakeFiles/kenlm_util.dir/pool.cc.o\u001b[0m\n",
            "[ 32%] \u001b[32mBuilding CXX object util/CMakeFiles/kenlm_util.dir/read_compressed.cc.o\u001b[0m\n",
            "[ 33%] \u001b[32mBuilding CXX object util/CMakeFiles/kenlm_util.dir/scoped.cc.o\u001b[0m\n",
            "[ 35%] \u001b[32mBuilding CXX object util/CMakeFiles/kenlm_util.dir/spaces.cc.o\u001b[0m\n",
            "[ 36%] \u001b[32mBuilding CXX object util/CMakeFiles/kenlm_util.dir/string_piece.cc.o\u001b[0m\n",
            "[ 37%] \u001b[32mBuilding CXX object util/CMakeFiles/kenlm_util.dir/usage.cc.o\u001b[0m\n",
            "[ 38%] \u001b[32m\u001b[1mLinking CXX static library ../lib/libkenlm_util.a\u001b[0m\n",
            "[ 38%] Built target kenlm_util\n",
            "[ 40%] \u001b[32mBuilding CXX object util/CMakeFiles/probing_hash_table_benchmark.dir/probing_hash_table_benchmark_main.cc.o\u001b[0m\n",
            "[ 41%] \u001b[32mBuilding CXX object lm/CMakeFiles/kenlm.dir/bhiksha.cc.o\u001b[0m\n",
            "[ 42%] \u001b[32mBuilding CXX object lm/filter/CMakeFiles/kenlm_filter.dir/arpa_io.cc.o\u001b[0m\n",
            "[ 43%] \u001b[32mBuilding CXX object lm/CMakeFiles/kenlm.dir/binary_format.cc.o\u001b[0m\n",
            "[ 45%] \u001b[32mBuilding CXX object lm/filter/CMakeFiles/kenlm_filter.dir/phrase.cc.o\u001b[0m\n",
            "[ 46%] \u001b[32mBuilding CXX object lm/filter/CMakeFiles/kenlm_filter.dir/vocab.cc.o\u001b[0m\n",
            "[ 47%] \u001b[32mBuilding CXX object lm/CMakeFiles/kenlm.dir/config.cc.o\u001b[0m\n",
            "[ 48%] \u001b[32mBuilding CXX object lm/CMakeFiles/kenlm.dir/lm_exception.cc.o\u001b[0m\n",
            "[ 50%] \u001b[32mBuilding CXX object lm/CMakeFiles/kenlm.dir/model.cc.o\u001b[0m\n",
            "[ 51%] \u001b[32mBuilding CXX object lm/CMakeFiles/kenlm.dir/quantize.cc.o\u001b[0m\n",
            "[ 52%] \u001b[32mBuilding CXX object lm/CMakeFiles/kenlm.dir/read_arpa.cc.o\u001b[0m\n",
            "[ 53%] \u001b[32m\u001b[1mLinking CXX static library ../../lib/libkenlm_filter.a\u001b[0m\n",
            "[ 53%] Built target kenlm_filter\n",
            "[ 55%] \u001b[32mBuilding CXX object lm/CMakeFiles/kenlm.dir/search_hashed.cc.o\u001b[0m\n",
            "[ 56%] \u001b[32mBuilding CXX object lm/CMakeFiles/kenlm.dir/search_trie.cc.o\u001b[0m\n",
            "[ 57%] \u001b[32mBuilding CXX object lm/CMakeFiles/kenlm.dir/sizes.cc.o\u001b[0m\n",
            "[ 58%] \u001b[32mBuilding CXX object lm/CMakeFiles/kenlm.dir/trie.cc.o\u001b[0m\n",
            "[ 60%] \u001b[32mBuilding CXX object lm/CMakeFiles/kenlm.dir/trie_sort.cc.o\u001b[0m\n",
            "[ 61%] \u001b[32mBuilding CXX object lm/CMakeFiles/kenlm.dir/value_build.cc.o\u001b[0m\n",
            "[ 62%] \u001b[32m\u001b[1mLinking CXX executable ../bin/probing_hash_table_benchmark\u001b[0m\n",
            "[ 62%] Built target probing_hash_table_benchmark\n",
            "[ 63%] \u001b[32mBuilding CXX object lm/CMakeFiles/kenlm.dir/virtual_interface.cc.o\u001b[0m\n",
            "[ 65%] \u001b[32mBuilding CXX object lm/CMakeFiles/kenlm.dir/vocab.cc.o\u001b[0m\n",
            "[ 66%] \u001b[32mBuilding CXX object lm/CMakeFiles/kenlm.dir/common/model_buffer.cc.o\u001b[0m\n",
            "[ 67%] \u001b[32mBuilding CXX object lm/CMakeFiles/kenlm.dir/common/print.cc.o\u001b[0m\n",
            "[ 68%] \u001b[32mBuilding CXX object lm/CMakeFiles/kenlm.dir/common/renumber.cc.o\u001b[0m\n",
            "[ 70%] \u001b[32mBuilding CXX object lm/CMakeFiles/kenlm.dir/common/size_option.cc.o\u001b[0m\n",
            "[ 71%] \u001b[32m\u001b[1mLinking CXX static library ../lib/libkenlm.a\u001b[0m\n",
            "[ 71%] Built target kenlm\n",
            "[ 72%] \u001b[32mBuilding CXX object lm/CMakeFiles/fragment.dir/fragment_main.cc.o\u001b[0m\n",
            "[ 73%] \u001b[32mBuilding CXX object lm/CMakeFiles/kenlm_benchmark.dir/kenlm_benchmark_main.cc.o\u001b[0m\n",
            "[ 75%] \u001b[32mBuilding CXX object lm/CMakeFiles/query.dir/query_main.cc.o\u001b[0m\n",
            "[ 76%] \u001b[32mBuilding CXX object lm/CMakeFiles/build_binary.dir/build_binary_main.cc.o\u001b[0m\n",
            "[ 77%] \u001b[32m\u001b[1mLinking CXX executable ../bin/fragment\u001b[0m\n",
            "[ 78%] \u001b[32m\u001b[1mLinking CXX executable ../bin/build_binary\u001b[0m\n",
            "[ 78%] Built target fragment\n",
            "[ 80%] \u001b[32mBuilding CXX object lm/builder/CMakeFiles/kenlm_builder.dir/adjust_counts.cc.o\u001b[0m\n",
            "[ 80%] Built target build_binary\n",
            "[ 81%] \u001b[32mBuilding CXX object lm/filter/CMakeFiles/filter.dir/filter_main.cc.o\u001b[0m\n",
            "[ 82%] \u001b[32m\u001b[1mLinking CXX executable ../bin/query\u001b[0m\n",
            "[ 82%] Built target query\n",
            "[ 83%] \u001b[32mBuilding CXX object lm/builder/CMakeFiles/kenlm_builder.dir/corpus_count.cc.o\u001b[0m\n",
            "[ 85%] \u001b[32mBuilding CXX object lm/builder/CMakeFiles/kenlm_builder.dir/initial_probabilities.cc.o\u001b[0m\n",
            "[ 86%] \u001b[32mBuilding CXX object lm/builder/CMakeFiles/kenlm_builder.dir/interpolate.cc.o\u001b[0m\n",
            "[ 87%] \u001b[32mBuilding CXX object lm/builder/CMakeFiles/kenlm_builder.dir/output.cc.o\u001b[0m\n",
            "[ 88%] \u001b[32mBuilding CXX object lm/builder/CMakeFiles/kenlm_builder.dir/pipeline.cc.o\u001b[0m\n",
            "[ 90%] \u001b[32mBuilding CXX object lm/filter/CMakeFiles/phrase_table_vocab.dir/phrase_table_vocab_main.cc.o\u001b[0m\n",
            "[ 91%] \u001b[32m\u001b[1mLinking CXX executable ../../bin/phrase_table_vocab\u001b[0m\n",
            "[ 91%] Built target phrase_table_vocab\n",
            "[ 92%] \u001b[32m\u001b[1mLinking CXX executable ../bin/kenlm_benchmark\u001b[0m\n",
            "[ 92%] Built target kenlm_benchmark\n",
            "[ 93%] \u001b[32m\u001b[1mLinking CXX executable ../../bin/filter\u001b[0m\n",
            "[ 93%] Built target filter\n",
            "[ 95%] \u001b[32m\u001b[1mLinking CXX static library ../../lib/libkenlm_builder.a\u001b[0m\n",
            "[ 95%] Built target kenlm_builder\n",
            "[ 97%] \u001b[32mBuilding CXX object lm/builder/CMakeFiles/count_ngrams.dir/count_ngrams_main.cc.o\u001b[0m\n",
            "[ 97%] \u001b[32mBuilding CXX object lm/builder/CMakeFiles/lmplz.dir/lmplz_main.cc.o\u001b[0m\n",
            "[ 98%] \u001b[32m\u001b[1mLinking CXX executable ../../bin/lmplz\u001b[0m\n",
            "[ 98%] Built target lmplz\n",
            "[100%] \u001b[32m\u001b[1mLinking CXX executable ../../bin/count_ngrams\u001b[0m\n",
            "[100%] Built target count_ngrams\n",
            "running install\n",
            "running bdist_egg\n",
            "running egg_info\n",
            "creating kenlm.egg-info\n",
            "writing kenlm.egg-info/PKG-INFO\n",
            "writing dependency_links to kenlm.egg-info/dependency_links.txt\n",
            "writing top-level names to kenlm.egg-info/top_level.txt\n",
            "writing manifest file 'kenlm.egg-info/SOURCES.txt'\n",
            "reading manifest file 'kenlm.egg-info/SOURCES.txt'\n",
            "reading manifest template 'MANIFEST.in'\n",
            "adding license file 'LICENSE'\n",
            "adding license file 'COPYING'\n",
            "adding license file 'COPYING.3'\n",
            "adding license file 'COPYING.LESSER.3'\n",
            "writing manifest file 'kenlm.egg-info/SOURCES.txt'\n",
            "installing library code to build/bdist.linux-x86_64/egg\n",
            "running install_lib\n",
            "running build_ext\n",
            "building 'kenlm' extension\n",
            "creating build/temp.linux-x86_64-3.7\n",
            "creating build/temp.linux-x86_64-3.7/util\n",
            "creating build/temp.linux-x86_64-3.7/lm\n",
            "creating build/temp.linux-x86_64-3.7/util/double-conversion\n",
            "creating build/temp.linux-x86_64-3.7/python\n",
            "x86_64-linux-gnu-gcc -pthread -Wno-unused-result -Wsign-compare -DNDEBUG -g -fwrapv -O2 -Wall -g -fstack-protector-strong -Wformat -Werror=format-security -g -fwrapv -O2 -g -fstack-protector-strong -Wformat -Werror=format-security -Wdate-time -D_FORTIFY_SOURCE=2 -fPIC -I. -I/usr/include/python3.7m -c util/integer_to_string.cc -o build/temp.linux-x86_64-3.7/util/integer_to_string.o -O3 -DNDEBUG -DKENLM_MAX_ORDER=6 -std=c++11 -DHAVE_ZLIB -DHAVE_BZLIB -DHAVE_XZLIB\n",
            "x86_64-linux-gnu-gcc -pthread -Wno-unused-result -Wsign-compare -DNDEBUG -g -fwrapv -O2 -Wall -g -fstack-protector-strong -Wformat -Werror=format-security -g -fwrapv -O2 -g -fstack-protector-strong -Wformat -Werror=format-security -Wdate-time -D_FORTIFY_SOURCE=2 -fPIC -I. -I/usr/include/python3.7m -c util/mmap.cc -o build/temp.linux-x86_64-3.7/util/mmap.o -O3 -DNDEBUG -DKENLM_MAX_ORDER=6 -std=c++11 -DHAVE_ZLIB -DHAVE_BZLIB -DHAVE_XZLIB\n",
            "x86_64-linux-gnu-gcc -pthread -Wno-unused-result -Wsign-compare -DNDEBUG -g -fwrapv -O2 -Wall -g -fstack-protector-strong -Wformat -Werror=format-security -g -fwrapv -O2 -g -fstack-protector-strong -Wformat -Werror=format-security -Wdate-time -D_FORTIFY_SOURCE=2 -fPIC -I. -I/usr/include/python3.7m -c util/pool.cc -o build/temp.linux-x86_64-3.7/util/pool.o -O3 -DNDEBUG -DKENLM_MAX_ORDER=6 -std=c++11 -DHAVE_ZLIB -DHAVE_BZLIB -DHAVE_XZLIB\n",
            "x86_64-linux-gnu-gcc -pthread -Wno-unused-result -Wsign-compare -DNDEBUG -g -fwrapv -O2 -Wall -g -fstack-protector-strong -Wformat -Werror=format-security -g -fwrapv -O2 -g -fstack-protector-strong -Wformat -Werror=format-security -Wdate-time -D_FORTIFY_SOURCE=2 -fPIC -I. -I/usr/include/python3.7m -c util/scoped.cc -o build/temp.linux-x86_64-3.7/util/scoped.o -O3 -DNDEBUG -DKENLM_MAX_ORDER=6 -std=c++11 -DHAVE_ZLIB -DHAVE_BZLIB -DHAVE_XZLIB\n",
            "x86_64-linux-gnu-gcc -pthread -Wno-unused-result -Wsign-compare -DNDEBUG -g -fwrapv -O2 -Wall -g -fstack-protector-strong -Wformat -Werror=format-security -g -fwrapv -O2 -g -fstack-protector-strong -Wformat -Werror=format-security -Wdate-time -D_FORTIFY_SOURCE=2 -fPIC -I. -I/usr/include/python3.7m -c util/usage.cc -o build/temp.linux-x86_64-3.7/util/usage.o -O3 -DNDEBUG -DKENLM_MAX_ORDER=6 -std=c++11 -DHAVE_ZLIB -DHAVE_BZLIB -DHAVE_XZLIB\n",
            "\u001b[01m\u001b[Kutil/usage.cc:\u001b[m\u001b[K In function ‘\u001b[01m\u001b[Kdouble util::ThreadTime()\u001b[m\u001b[K’:\n",
            "\u001b[01m\u001b[Kutil/usage.cc:185:1:\u001b[m\u001b[K \u001b[01;35m\u001b[Kwarning: \u001b[m\u001b[Kno return statement in function returning non-void [\u001b[01;35m\u001b[K-Wreturn-type\u001b[m\u001b[K]\n",
            " \u001b[01;35m\u001b[K}\u001b[m\u001b[K\n",
            " \u001b[01;35m\u001b[K^\u001b[m\u001b[K\n",
            "x86_64-linux-gnu-gcc -pthread -Wno-unused-result -Wsign-compare -DNDEBUG -g -fwrapv -O2 -Wall -g -fstack-protector-strong -Wformat -Werror=format-security -g -fwrapv -O2 -g -fstack-protector-strong -Wformat -Werror=format-security -Wdate-time -D_FORTIFY_SOURCE=2 -fPIC -I. -I/usr/include/python3.7m -c util/parallel_read.cc -o build/temp.linux-x86_64-3.7/util/parallel_read.o -O3 -DNDEBUG -DKENLM_MAX_ORDER=6 -std=c++11 -DHAVE_ZLIB -DHAVE_BZLIB -DHAVE_XZLIB\n",
            "x86_64-linux-gnu-gcc -pthread -Wno-unused-result -Wsign-compare -DNDEBUG -g -fwrapv -O2 -Wall -g -fstack-protector-strong -Wformat -Werror=format-security -g -fwrapv -O2 -g -fstack-protector-strong -Wformat -Werror=format-security -Wdate-time -D_FORTIFY_SOURCE=2 -fPIC -I. -I/usr/include/python3.7m -c util/murmur_hash.cc -o build/temp.linux-x86_64-3.7/util/murmur_hash.o -O3 -DNDEBUG -DKENLM_MAX_ORDER=6 -std=c++11 -DHAVE_ZLIB -DHAVE_BZLIB -DHAVE_XZLIB\n",
            "x86_64-linux-gnu-gcc -pthread -Wno-unused-result -Wsign-compare -DNDEBUG -g -fwrapv -O2 -Wall -g -fstack-protector-strong -Wformat -Werror=format-security -g -fwrapv -O2 -g -fstack-protector-strong -Wformat -Werror=format-security -Wdate-time -D_FORTIFY_SOURCE=2 -fPIC -I. -I/usr/include/python3.7m -c util/bit_packing.cc -o build/temp.linux-x86_64-3.7/util/bit_packing.o -O3 -DNDEBUG -DKENLM_MAX_ORDER=6 -std=c++11 -DHAVE_ZLIB -DHAVE_BZLIB -DHAVE_XZLIB\n",
            "x86_64-linux-gnu-gcc -pthread -Wno-unused-result -Wsign-compare -DNDEBUG -g -fwrapv -O2 -Wall -g -fstack-protector-strong -Wformat -Werror=format-security -g -fwrapv -O2 -g -fstack-protector-strong -Wformat -Werror=format-security -Wdate-time -D_FORTIFY_SOURCE=2 -fPIC -I. -I/usr/include/python3.7m -c util/file_piece.cc -o build/temp.linux-x86_64-3.7/util/file_piece.o -O3 -DNDEBUG -DKENLM_MAX_ORDER=6 -std=c++11 -DHAVE_ZLIB -DHAVE_BZLIB -DHAVE_XZLIB\n",
            "x86_64-linux-gnu-gcc -pthread -Wno-unused-result -Wsign-compare -DNDEBUG -g -fwrapv -O2 -Wall -g -fstack-protector-strong -Wformat -Werror=format-security -g -fwrapv -O2 -g -fstack-protector-strong -Wformat -Werror=format-security -Wdate-time -D_FORTIFY_SOURCE=2 -fPIC -I. -I/usr/include/python3.7m -c util/string_piece.cc -o build/temp.linux-x86_64-3.7/util/string_piece.o -O3 -DNDEBUG -DKENLM_MAX_ORDER=6 -std=c++11 -DHAVE_ZLIB -DHAVE_BZLIB -DHAVE_XZLIB\n",
            "x86_64-linux-gnu-gcc -pthread -Wno-unused-result -Wsign-compare -DNDEBUG -g -fwrapv -O2 -Wall -g -fstack-protector-strong -Wformat -Werror=format-security -g -fwrapv -O2 -g -fstack-protector-strong -Wformat -Werror=format-security -Wdate-time -D_FORTIFY_SOURCE=2 -fPIC -I. -I/usr/include/python3.7m -c util/exception.cc -o build/temp.linux-x86_64-3.7/util/exception.o -O3 -DNDEBUG -DKENLM_MAX_ORDER=6 -std=c++11 -DHAVE_ZLIB -DHAVE_BZLIB -DHAVE_XZLIB\n",
            "x86_64-linux-gnu-gcc -pthread -Wno-unused-result -Wsign-compare -DNDEBUG -g -fwrapv -O2 -Wall -g -fstack-protector-strong -Wformat -Werror=format-security -g -fwrapv -O2 -g -fstack-protector-strong -Wformat -Werror=format-security -Wdate-time -D_FORTIFY_SOURCE=2 -fPIC -I. -I/usr/include/python3.7m -c util/read_compressed.cc -o build/temp.linux-x86_64-3.7/util/read_compressed.o -O3 -DNDEBUG -DKENLM_MAX_ORDER=6 -std=c++11 -DHAVE_ZLIB -DHAVE_BZLIB -DHAVE_XZLIB\n",
            "x86_64-linux-gnu-gcc -pthread -Wno-unused-result -Wsign-compare -DNDEBUG -g -fwrapv -O2 -Wall -g -fstack-protector-strong -Wformat -Werror=format-security -g -fwrapv -O2 -g -fstack-protector-strong -Wformat -Werror=format-security -Wdate-time -D_FORTIFY_SOURCE=2 -fPIC -I. -I/usr/include/python3.7m -c util/file.cc -o build/temp.linux-x86_64-3.7/util/file.o -O3 -DNDEBUG -DKENLM_MAX_ORDER=6 -std=c++11 -DHAVE_ZLIB -DHAVE_BZLIB -DHAVE_XZLIB\n",
            "x86_64-linux-gnu-gcc -pthread -Wno-unused-result -Wsign-compare -DNDEBUG -g -fwrapv -O2 -Wall -g -fstack-protector-strong -Wformat -Werror=format-security -g -fwrapv -O2 -g -fstack-protector-strong -Wformat -Werror=format-security -Wdate-time -D_FORTIFY_SOURCE=2 -fPIC -I. -I/usr/include/python3.7m -c util/spaces.cc -o build/temp.linux-x86_64-3.7/util/spaces.o -O3 -DNDEBUG -DKENLM_MAX_ORDER=6 -std=c++11 -DHAVE_ZLIB -DHAVE_BZLIB -DHAVE_XZLIB\n",
            "x86_64-linux-gnu-gcc -pthread -Wno-unused-result -Wsign-compare -DNDEBUG -g -fwrapv -O2 -Wall -g -fstack-protector-strong -Wformat -Werror=format-security -g -fwrapv -O2 -g -fstack-protector-strong -Wformat -Werror=format-security -Wdate-time -D_FORTIFY_SOURCE=2 -fPIC -I. -I/usr/include/python3.7m -c util/float_to_string.cc -o build/temp.linux-x86_64-3.7/util/float_to_string.o -O3 -DNDEBUG -DKENLM_MAX_ORDER=6 -std=c++11 -DHAVE_ZLIB -DHAVE_BZLIB -DHAVE_XZLIB\n",
            "x86_64-linux-gnu-gcc -pthread -Wno-unused-result -Wsign-compare -DNDEBUG -g -fwrapv -O2 -Wall -g -fstack-protector-strong -Wformat -Werror=format-security -g -fwrapv -O2 -g -fstack-protector-strong -Wformat -Werror=format-security -Wdate-time -D_FORTIFY_SOURCE=2 -fPIC -I. -I/usr/include/python3.7m -c util/ersatz_progress.cc -o build/temp.linux-x86_64-3.7/util/ersatz_progress.o -O3 -DNDEBUG -DKENLM_MAX_ORDER=6 -std=c++11 -DHAVE_ZLIB -DHAVE_BZLIB -DHAVE_XZLIB\n",
            "x86_64-linux-gnu-gcc -pthread -Wno-unused-result -Wsign-compare -DNDEBUG -g -fwrapv -O2 -Wall -g -fstack-protector-strong -Wformat -Werror=format-security -g -fwrapv -O2 -g -fstack-protector-strong -Wformat -Werror=format-security -Wdate-time -D_FORTIFY_SOURCE=2 -fPIC -I. -I/usr/include/python3.7m -c lm/sizes.cc -o build/temp.linux-x86_64-3.7/lm/sizes.o -O3 -DNDEBUG -DKENLM_MAX_ORDER=6 -std=c++11 -DHAVE_ZLIB -DHAVE_BZLIB -DHAVE_XZLIB\n",
            "x86_64-linux-gnu-gcc -pthread -Wno-unused-result -Wsign-compare -DNDEBUG -g -fwrapv -O2 -Wall -g -fstack-protector-strong -Wformat -Werror=format-security -g -fwrapv -O2 -g -fstack-protector-strong -Wformat -Werror=format-security -Wdate-time -D_FORTIFY_SOURCE=2 -fPIC -I. -I/usr/include/python3.7m -c lm/search_trie.cc -o build/temp.linux-x86_64-3.7/lm/search_trie.o -O3 -DNDEBUG -DKENLM_MAX_ORDER=6 -std=c++11 -DHAVE_ZLIB -DHAVE_BZLIB -DHAVE_XZLIB\n",
            "x86_64-linux-gnu-gcc -pthread -Wno-unused-result -Wsign-compare -DNDEBUG -g -fwrapv -O2 -Wall -g -fstack-protector-strong -Wformat -Werror=format-security -g -fwrapv -O2 -g -fstack-protector-strong -Wformat -Werror=format-security -Wdate-time -D_FORTIFY_SOURCE=2 -fPIC -I. -I/usr/include/python3.7m -c lm/config.cc -o build/temp.linux-x86_64-3.7/lm/config.o -O3 -DNDEBUG -DKENLM_MAX_ORDER=6 -std=c++11 -DHAVE_ZLIB -DHAVE_BZLIB -DHAVE_XZLIB\n",
            "x86_64-linux-gnu-gcc -pthread -Wno-unused-result -Wsign-compare -DNDEBUG -g -fwrapv -O2 -Wall -g -fstack-protector-strong -Wformat -Werror=format-security -g -fwrapv -O2 -g -fstack-protector-strong -Wformat -Werror=format-security -Wdate-time -D_FORTIFY_SOURCE=2 -fPIC -I. -I/usr/include/python3.7m -c lm/trie_sort.cc -o build/temp.linux-x86_64-3.7/lm/trie_sort.o -O3 -DNDEBUG -DKENLM_MAX_ORDER=6 -std=c++11 -DHAVE_ZLIB -DHAVE_BZLIB -DHAVE_XZLIB\n",
            "x86_64-linux-gnu-gcc -pthread -Wno-unused-result -Wsign-compare -DNDEBUG -g -fwrapv -O2 -Wall -g -fstack-protector-strong -Wformat -Werror=format-security -g -fwrapv -O2 -g -fstack-protector-strong -Wformat -Werror=format-security -Wdate-time -D_FORTIFY_SOURCE=2 -fPIC -I. -I/usr/include/python3.7m -c lm/quantize.cc -o build/temp.linux-x86_64-3.7/lm/quantize.o -O3 -DNDEBUG -DKENLM_MAX_ORDER=6 -std=c++11 -DHAVE_ZLIB -DHAVE_BZLIB -DHAVE_XZLIB\n",
            "x86_64-linux-gnu-gcc -pthread -Wno-unused-result -Wsign-compare -DNDEBUG -g -fwrapv -O2 -Wall -g -fstack-protector-strong -Wformat -Werror=format-security -g -fwrapv -O2 -g -fstack-protector-strong -Wformat -Werror=format-security -Wdate-time -D_FORTIFY_SOURCE=2 -fPIC -I. -I/usr/include/python3.7m -c lm/bhiksha.cc -o build/temp.linux-x86_64-3.7/lm/bhiksha.o -O3 -DNDEBUG -DKENLM_MAX_ORDER=6 -std=c++11 -DHAVE_ZLIB -DHAVE_BZLIB -DHAVE_XZLIB\n",
            "x86_64-linux-gnu-gcc -pthread -Wno-unused-result -Wsign-compare -DNDEBUG -g -fwrapv -O2 -Wall -g -fstack-protector-strong -Wformat -Werror=format-security -g -fwrapv -O2 -g -fstack-protector-strong -Wformat -Werror=format-security -Wdate-time -D_FORTIFY_SOURCE=2 -fPIC -I. -I/usr/include/python3.7m -c lm/value_build.cc -o build/temp.linux-x86_64-3.7/lm/value_build.o -O3 -DNDEBUG -DKENLM_MAX_ORDER=6 -std=c++11 -DHAVE_ZLIB -DHAVE_BZLIB -DHAVE_XZLIB\n",
            "x86_64-linux-gnu-gcc -pthread -Wno-unused-result -Wsign-compare -DNDEBUG -g -fwrapv -O2 -Wall -g -fstack-protector-strong -Wformat -Werror=format-security -g -fwrapv -O2 -g -fstack-protector-strong -Wformat -Werror=format-security -Wdate-time -D_FORTIFY_SOURCE=2 -fPIC -I. -I/usr/include/python3.7m -c lm/vocab.cc -o build/temp.linux-x86_64-3.7/lm/vocab.o -O3 -DNDEBUG -DKENLM_MAX_ORDER=6 -std=c++11 -DHAVE_ZLIB -DHAVE_BZLIB -DHAVE_XZLIB\n",
            "x86_64-linux-gnu-gcc -pthread -Wno-unused-result -Wsign-compare -DNDEBUG -g -fwrapv -O2 -Wall -g -fstack-protector-strong -Wformat -Werror=format-security -g -fwrapv -O2 -g -fstack-protector-strong -Wformat -Werror=format-security -Wdate-time -D_FORTIFY_SOURCE=2 -fPIC -I. -I/usr/include/python3.7m -c lm/lm_exception.cc -o build/temp.linux-x86_64-3.7/lm/lm_exception.o -O3 -DNDEBUG -DKENLM_MAX_ORDER=6 -std=c++11 -DHAVE_ZLIB -DHAVE_BZLIB -DHAVE_XZLIB\n",
            "x86_64-linux-gnu-gcc -pthread -Wno-unused-result -Wsign-compare -DNDEBUG -g -fwrapv -O2 -Wall -g -fstack-protector-strong -Wformat -Werror=format-security -g -fwrapv -O2 -g -fstack-protector-strong -Wformat -Werror=format-security -Wdate-time -D_FORTIFY_SOURCE=2 -fPIC -I. -I/usr/include/python3.7m -c lm/virtual_interface.cc -o build/temp.linux-x86_64-3.7/lm/virtual_interface.o -O3 -DNDEBUG -DKENLM_MAX_ORDER=6 -std=c++11 -DHAVE_ZLIB -DHAVE_BZLIB -DHAVE_XZLIB\n",
            "x86_64-linux-gnu-gcc -pthread -Wno-unused-result -Wsign-compare -DNDEBUG -g -fwrapv -O2 -Wall -g -fstack-protector-strong -Wformat -Werror=format-security -g -fwrapv -O2 -g -fstack-protector-strong -Wformat -Werror=format-security -Wdate-time -D_FORTIFY_SOURCE=2 -fPIC -I. -I/usr/include/python3.7m -c lm/model.cc -o build/temp.linux-x86_64-3.7/lm/model.o -O3 -DNDEBUG -DKENLM_MAX_ORDER=6 -std=c++11 -DHAVE_ZLIB -DHAVE_BZLIB -DHAVE_XZLIB\n",
            "x86_64-linux-gnu-gcc -pthread -Wno-unused-result -Wsign-compare -DNDEBUG -g -fwrapv -O2 -Wall -g -fstack-protector-strong -Wformat -Werror=format-security -g -fwrapv -O2 -g -fstack-protector-strong -Wformat -Werror=format-security -Wdate-time -D_FORTIFY_SOURCE=2 -fPIC -I. -I/usr/include/python3.7m -c lm/read_arpa.cc -o build/temp.linux-x86_64-3.7/lm/read_arpa.o -O3 -DNDEBUG -DKENLM_MAX_ORDER=6 -std=c++11 -DHAVE_ZLIB -DHAVE_BZLIB -DHAVE_XZLIB\n",
            "x86_64-linux-gnu-gcc -pthread -Wno-unused-result -Wsign-compare -DNDEBUG -g -fwrapv -O2 -Wall -g -fstack-protector-strong -Wformat -Werror=format-security -g -fwrapv -O2 -g -fstack-protector-strong -Wformat -Werror=format-security -Wdate-time -D_FORTIFY_SOURCE=2 -fPIC -I. -I/usr/include/python3.7m -c lm/binary_format.cc -o build/temp.linux-x86_64-3.7/lm/binary_format.o -O3 -DNDEBUG -DKENLM_MAX_ORDER=6 -std=c++11 -DHAVE_ZLIB -DHAVE_BZLIB -DHAVE_XZLIB\n",
            "x86_64-linux-gnu-gcc -pthread -Wno-unused-result -Wsign-compare -DNDEBUG -g -fwrapv -O2 -Wall -g -fstack-protector-strong -Wformat -Werror=format-security -g -fwrapv -O2 -g -fstack-protector-strong -Wformat -Werror=format-security -Wdate-time -D_FORTIFY_SOURCE=2 -fPIC -I. -I/usr/include/python3.7m -c lm/trie.cc -o build/temp.linux-x86_64-3.7/lm/trie.o -O3 -DNDEBUG -DKENLM_MAX_ORDER=6 -std=c++11 -DHAVE_ZLIB -DHAVE_BZLIB -DHAVE_XZLIB\n",
            "x86_64-linux-gnu-gcc -pthread -Wno-unused-result -Wsign-compare -DNDEBUG -g -fwrapv -O2 -Wall -g -fstack-protector-strong -Wformat -Werror=format-security -g -fwrapv -O2 -g -fstack-protector-strong -Wformat -Werror=format-security -Wdate-time -D_FORTIFY_SOURCE=2 -fPIC -I. -I/usr/include/python3.7m -c lm/search_hashed.cc -o build/temp.linux-x86_64-3.7/lm/search_hashed.o -O3 -DNDEBUG -DKENLM_MAX_ORDER=6 -std=c++11 -DHAVE_ZLIB -DHAVE_BZLIB -DHAVE_XZLIB\n",
            "x86_64-linux-gnu-gcc -pthread -Wno-unused-result -Wsign-compare -DNDEBUG -g -fwrapv -O2 -Wall -g -fstack-protector-strong -Wformat -Werror=format-security -g -fwrapv -O2 -g -fstack-protector-strong -Wformat -Werror=format-security -Wdate-time -D_FORTIFY_SOURCE=2 -fPIC -I. -I/usr/include/python3.7m -c util/double-conversion/fast-dtoa.cc -o build/temp.linux-x86_64-3.7/util/double-conversion/fast-dtoa.o -O3 -DNDEBUG -DKENLM_MAX_ORDER=6 -std=c++11 -DHAVE_ZLIB -DHAVE_BZLIB -DHAVE_XZLIB\n",
            "x86_64-linux-gnu-gcc -pthread -Wno-unused-result -Wsign-compare -DNDEBUG -g -fwrapv -O2 -Wall -g -fstack-protector-strong -Wformat -Werror=format-security -g -fwrapv -O2 -g -fstack-protector-strong -Wformat -Werror=format-security -Wdate-time -D_FORTIFY_SOURCE=2 -fPIC -I. -I/usr/include/python3.7m -c util/double-conversion/bignum-dtoa.cc -o build/temp.linux-x86_64-3.7/util/double-conversion/bignum-dtoa.o -O3 -DNDEBUG -DKENLM_MAX_ORDER=6 -std=c++11 -DHAVE_ZLIB -DHAVE_BZLIB -DHAVE_XZLIB\n",
            "x86_64-linux-gnu-gcc -pthread -Wno-unused-result -Wsign-compare -DNDEBUG -g -fwrapv -O2 -Wall -g -fstack-protector-strong -Wformat -Werror=format-security -g -fwrapv -O2 -g -fstack-protector-strong -Wformat -Werror=format-security -Wdate-time -D_FORTIFY_SOURCE=2 -fPIC -I. -I/usr/include/python3.7m -c util/double-conversion/double-conversion.cc -o build/temp.linux-x86_64-3.7/util/double-conversion/double-conversion.o -O3 -DNDEBUG -DKENLM_MAX_ORDER=6 -std=c++11 -DHAVE_ZLIB -DHAVE_BZLIB -DHAVE_XZLIB\n",
            "x86_64-linux-gnu-gcc -pthread -Wno-unused-result -Wsign-compare -DNDEBUG -g -fwrapv -O2 -Wall -g -fstack-protector-strong -Wformat -Werror=format-security -g -fwrapv -O2 -g -fstack-protector-strong -Wformat -Werror=format-security -Wdate-time -D_FORTIFY_SOURCE=2 -fPIC -I. -I/usr/include/python3.7m -c util/double-conversion/diy-fp.cc -o build/temp.linux-x86_64-3.7/util/double-conversion/diy-fp.o -O3 -DNDEBUG -DKENLM_MAX_ORDER=6 -std=c++11 -DHAVE_ZLIB -DHAVE_BZLIB -DHAVE_XZLIB\n",
            "x86_64-linux-gnu-gcc -pthread -Wno-unused-result -Wsign-compare -DNDEBUG -g -fwrapv -O2 -Wall -g -fstack-protector-strong -Wformat -Werror=format-security -g -fwrapv -O2 -g -fstack-protector-strong -Wformat -Werror=format-security -Wdate-time -D_FORTIFY_SOURCE=2 -fPIC -I. -I/usr/include/python3.7m -c util/double-conversion/bignum.cc -o build/temp.linux-x86_64-3.7/util/double-conversion/bignum.o -O3 -DNDEBUG -DKENLM_MAX_ORDER=6 -std=c++11 -DHAVE_ZLIB -DHAVE_BZLIB -DHAVE_XZLIB\n",
            "x86_64-linux-gnu-gcc -pthread -Wno-unused-result -Wsign-compare -DNDEBUG -g -fwrapv -O2 -Wall -g -fstack-protector-strong -Wformat -Werror=format-security -g -fwrapv -O2 -g -fstack-protector-strong -Wformat -Werror=format-security -Wdate-time -D_FORTIFY_SOURCE=2 -fPIC -I. -I/usr/include/python3.7m -c util/double-conversion/cached-powers.cc -o build/temp.linux-x86_64-3.7/util/double-conversion/cached-powers.o -O3 -DNDEBUG -DKENLM_MAX_ORDER=6 -std=c++11 -DHAVE_ZLIB -DHAVE_BZLIB -DHAVE_XZLIB\n",
            "x86_64-linux-gnu-gcc -pthread -Wno-unused-result -Wsign-compare -DNDEBUG -g -fwrapv -O2 -Wall -g -fstack-protector-strong -Wformat -Werror=format-security -g -fwrapv -O2 -g -fstack-protector-strong -Wformat -Werror=format-security -Wdate-time -D_FORTIFY_SOURCE=2 -fPIC -I. -I/usr/include/python3.7m -c util/double-conversion/fixed-dtoa.cc -o build/temp.linux-x86_64-3.7/util/double-conversion/fixed-dtoa.o -O3 -DNDEBUG -DKENLM_MAX_ORDER=6 -std=c++11 -DHAVE_ZLIB -DHAVE_BZLIB -DHAVE_XZLIB\n",
            "x86_64-linux-gnu-gcc -pthread -Wno-unused-result -Wsign-compare -DNDEBUG -g -fwrapv -O2 -Wall -g -fstack-protector-strong -Wformat -Werror=format-security -g -fwrapv -O2 -g -fstack-protector-strong -Wformat -Werror=format-security -Wdate-time -D_FORTIFY_SOURCE=2 -fPIC -I. -I/usr/include/python3.7m -c util/double-conversion/strtod.cc -o build/temp.linux-x86_64-3.7/util/double-conversion/strtod.o -O3 -DNDEBUG -DKENLM_MAX_ORDER=6 -std=c++11 -DHAVE_ZLIB -DHAVE_BZLIB -DHAVE_XZLIB\n",
            "x86_64-linux-gnu-gcc -pthread -Wno-unused-result -Wsign-compare -DNDEBUG -g -fwrapv -O2 -Wall -g -fstack-protector-strong -Wformat -Werror=format-security -g -fwrapv -O2 -g -fstack-protector-strong -Wformat -Werror=format-security -Wdate-time -D_FORTIFY_SOURCE=2 -fPIC -I. -I/usr/include/python3.7m -c python/score_sentence.cc -o build/temp.linux-x86_64-3.7/python/score_sentence.o -O3 -DNDEBUG -DKENLM_MAX_ORDER=6 -std=c++11 -DHAVE_ZLIB -DHAVE_BZLIB -DHAVE_XZLIB\n",
            "x86_64-linux-gnu-gcc -pthread -Wno-unused-result -Wsign-compare -DNDEBUG -g -fwrapv -O2 -Wall -g -fstack-protector-strong -Wformat -Werror=format-security -g -fwrapv -O2 -g -fstack-protector-strong -Wformat -Werror=format-security -Wdate-time -D_FORTIFY_SOURCE=2 -fPIC -I. -I/usr/include/python3.7m -c python/kenlm.cpp -o build/temp.linux-x86_64-3.7/python/kenlm.o -O3 -DNDEBUG -DKENLM_MAX_ORDER=6 -std=c++11 -DHAVE_ZLIB -DHAVE_BZLIB -DHAVE_XZLIB\n",
            "creating build/lib.linux-x86_64-3.7\n",
            "x86_64-linux-gnu-gcc -pthread -shared -Wl,-O1 -Wl,-Bsymbolic-functions -Wl,-Bsymbolic-functions -g -fwrapv -O2 -Wl,-Bsymbolic-functions -g -fwrapv -O2 -g -fstack-protector-strong -Wformat -Werror=format-security -Wdate-time -D_FORTIFY_SOURCE=2 build/temp.linux-x86_64-3.7/util/integer_to_string.o build/temp.linux-x86_64-3.7/util/mmap.o build/temp.linux-x86_64-3.7/util/pool.o build/temp.linux-x86_64-3.7/util/scoped.o build/temp.linux-x86_64-3.7/util/usage.o build/temp.linux-x86_64-3.7/util/parallel_read.o build/temp.linux-x86_64-3.7/util/murmur_hash.o build/temp.linux-x86_64-3.7/util/bit_packing.o build/temp.linux-x86_64-3.7/util/file_piece.o build/temp.linux-x86_64-3.7/util/string_piece.o build/temp.linux-x86_64-3.7/util/exception.o build/temp.linux-x86_64-3.7/util/read_compressed.o build/temp.linux-x86_64-3.7/util/file.o build/temp.linux-x86_64-3.7/util/spaces.o build/temp.linux-x86_64-3.7/util/float_to_string.o build/temp.linux-x86_64-3.7/util/ersatz_progress.o build/temp.linux-x86_64-3.7/lm/sizes.o build/temp.linux-x86_64-3.7/lm/search_trie.o build/temp.linux-x86_64-3.7/lm/config.o build/temp.linux-x86_64-3.7/lm/trie_sort.o build/temp.linux-x86_64-3.7/lm/quantize.o build/temp.linux-x86_64-3.7/lm/bhiksha.o build/temp.linux-x86_64-3.7/lm/value_build.o build/temp.linux-x86_64-3.7/lm/vocab.o build/temp.linux-x86_64-3.7/lm/lm_exception.o build/temp.linux-x86_64-3.7/lm/virtual_interface.o build/temp.linux-x86_64-3.7/lm/model.o build/temp.linux-x86_64-3.7/lm/read_arpa.o build/temp.linux-x86_64-3.7/lm/binary_format.o build/temp.linux-x86_64-3.7/lm/trie.o build/temp.linux-x86_64-3.7/lm/search_hashed.o build/temp.linux-x86_64-3.7/util/double-conversion/fast-dtoa.o build/temp.linux-x86_64-3.7/util/double-conversion/bignum-dtoa.o build/temp.linux-x86_64-3.7/util/double-conversion/double-conversion.o build/temp.linux-x86_64-3.7/util/double-conversion/diy-fp.o build/temp.linux-x86_64-3.7/util/double-conversion/bignum.o build/temp.linux-x86_64-3.7/util/double-conversion/cached-powers.o build/temp.linux-x86_64-3.7/util/double-conversion/fixed-dtoa.o build/temp.linux-x86_64-3.7/util/double-conversion/strtod.o build/temp.linux-x86_64-3.7/python/score_sentence.o build/temp.linux-x86_64-3.7/python/kenlm.o -lstdc++ -lrt -lz -lbz2 -llzma -o build/lib.linux-x86_64-3.7/kenlm.cpython-37m-x86_64-linux-gnu.so\n",
            "creating build/bdist.linux-x86_64\n",
            "creating build/bdist.linux-x86_64/egg\n",
            "copying build/lib.linux-x86_64-3.7/kenlm.cpython-37m-x86_64-linux-gnu.so -> build/bdist.linux-x86_64/egg\n",
            "creating stub loader for kenlm.cpython-37m-x86_64-linux-gnu.so\n",
            "byte-compiling build/bdist.linux-x86_64/egg/kenlm.py to kenlm.cpython-37.pyc\n",
            "creating build/bdist.linux-x86_64/egg/EGG-INFO\n",
            "copying kenlm.egg-info/PKG-INFO -> build/bdist.linux-x86_64/egg/EGG-INFO\n",
            "copying kenlm.egg-info/SOURCES.txt -> build/bdist.linux-x86_64/egg/EGG-INFO\n",
            "copying kenlm.egg-info/dependency_links.txt -> build/bdist.linux-x86_64/egg/EGG-INFO\n",
            "copying kenlm.egg-info/top_level.txt -> build/bdist.linux-x86_64/egg/EGG-INFO\n",
            "writing build/bdist.linux-x86_64/egg/EGG-INFO/native_libs.txt\n",
            "zip_safe flag not set; analyzing archive contents...\n",
            "__pycache__.kenlm.cpython-37: module references __file__\n",
            "creating dist\n",
            "creating 'dist/kenlm-0.0.0-py3.7-linux-x86_64.egg' and adding 'build/bdist.linux-x86_64/egg' to it\n",
            "removing 'build/bdist.linux-x86_64/egg' (and everything under it)\n",
            "Processing kenlm-0.0.0-py3.7-linux-x86_64.egg\n",
            "creating /usr/local/lib/python3.7/dist-packages/kenlm-0.0.0-py3.7-linux-x86_64.egg\n",
            "Extracting kenlm-0.0.0-py3.7-linux-x86_64.egg to /usr/local/lib/python3.7/dist-packages\n",
            "Adding kenlm 0.0.0 to easy-install.pth file\n",
            "\n",
            "Installed /usr/local/lib/python3.7/dist-packages/kenlm-0.0.0-py3.7-linux-x86_64.egg\n",
            "Processing dependencies for kenlm==0.0.0\n",
            "Finished processing dependencies for kenlm==0.0.0\n",
            "Looking in indexes: https://pypi.org/simple, https://us-python.pkg.dev/colab-wheels/public/simple/\n",
            "Collecting pypi-kenlm\n",
            "  Downloading pypi-kenlm-0.1.20210121.tar.gz (253 kB)\n",
            "\u001b[K     |████████████████████████████████| 253 kB 8.1 MB/s \n",
            "\u001b[?25hBuilding wheels for collected packages: pypi-kenlm\n",
            "  Building wheel for pypi-kenlm (setup.py) ... \u001b[?25l\u001b[?25hdone\n",
            "  Created wheel for pypi-kenlm: filename=pypi_kenlm-0.1.20210121-cp37-cp37m-linux_x86_64.whl size=2310280 sha256=65d04aaaf1206e85e0d74492830a543085fb0446b42a68b54f47a1ce318b268e\n",
            "  Stored in directory: /root/.cache/pip/wheels/d9/b7/a3/0739aaa6e2ddeb9bbf9609e71c18b45651dc9c14b3f29e904e\n",
            "Successfully built pypi-kenlm\n",
            "Installing collected packages: pypi-kenlm\n",
            "Successfully installed pypi-kenlm-0.1.20210121\n"
          ]
        }
      ]
    },
    {
      "cell_type": "code",
      "source": [
        "import kenlm\n",
        "\n",
        "data_prefix = 'pchat'\n",
        "dataset = 'pchat_train'\n",
        "models_dir = 'models'\n",
        "os.makedirs(models_dir, exist_ok=True)\n",
        "\n",
        "models = {}\n",
        "for n in [2,3,4]:\n",
        "    model_temp = '%s/%s_%d.arpa' % (models_dir, data_prefix, n)\n",
        "    model_name = '%s/%s_%d.klm' % (models_dir, data_prefix, n)\n",
        "    ! cat ./data/tokenized/$dataset | $KENLM_DIR/build/bin/lmplz -o $n > $model_temp\n",
        "    ! $KENLM_DIR/build/bin/build_binary $model_temp $model_name\n",
        "    models[n] = kenlm.LanguageModel(model_name)"
      ],
      "metadata": {
        "id": "ifDWVkc_HrVc",
        "colab": {
          "base_uri": "https://localhost:8080/"
        },
        "outputId": "00927fc3-4bd1-4f54-bb85-28b300559988"
      },
      "execution_count": null,
      "outputs": [
        {
          "output_type": "stream",
          "name": "stdout",
          "text": [
            "=== 1/5 Counting and sorting n-grams ===\n",
            "File stdin isn't normal.  Using slower read() instead of mmap().  No progress bar.\n",
            "tcmalloc: large alloc 2964283392 bytes == 0x55bcc6500000 @  0x7fee262431e7 0x55bcc3aab7e2 0x55bcc3a464fe 0x55bcc3a252eb 0x55bcc3a11066 0x7fee243dcc87 0x55bcc3a12baa\n",
            "tcmalloc: large alloc 7904747520 bytes == 0x55bd76ff6000 @  0x7fee262431e7 0x55bcc3aab7e2 0x55bcc3a9a80a 0x55bcc3a9b248 0x55bcc3a25308 0x55bcc3a11066 0x7fee243dcc87 0x55bcc3a12baa\n",
            "Unigram tokens 1602042 types 19156\n",
            "=== 2/5 Calculating and sorting adjusted counts ===\n",
            "Chain sizes: 1:229872 2:10893960192\n",
            "tcmalloc: large alloc 10893967360 bytes == 0x55bf4eb34000 @  0x7fee262431e7 0x55bcc3aab7e2 0x55bcc3a9a80a 0x55bcc3a9b248 0x55bcc3a258d7 0x55bcc3a11066 0x7fee243dcc87 0x55bcc3a12baa\n",
            "Statistics:\n",
            "1 19156 D1=0.588857 D2=1.0348 D3+=1.3388\n",
            "2 231267 D1=0.708637 D2=1.06132 D3+=1.37629\n",
            "Memory estimate for binary LM:\n",
            "type      kB\n",
            "probing 4551 assuming -p 1.5\n",
            "probing 4626 assuming -r models -p 1.5\n",
            "trie    1747 without quantization\n",
            "trie    1099 assuming -q 8 -b 8 quantization \n",
            "trie    1747 assuming -a 22 array pointer compression\n",
            "trie    1099 assuming -a 22 -q 8 -b 8 array pointer compression and quantization\n",
            "=== 3/5 Calculating and sorting initial probabilities ===\n",
            "Chain sizes: 1:229872 2:3700272\n",
            "----5---10---15---20---25---30---35---40---45---50---55---60---65---70---75---80---85---90---95--100\n",
            "####################################################################################################\n",
            "=== 4/5 Calculating and writing order-interpolated probabilities ===\n",
            "Chain sizes: 1:229872 2:3700272\n",
            "----5---10---15---20---25---30---35---40---45---50---55---60---65---70---75---80---85---90---95--100\n",
            "####################################################################################################\n",
            "=== 5/5 Writing ARPA model ===\n",
            "----5---10---15---20---25---30---35---40---45---50---55---60---65---70---75---80---85---90---95--100\n",
            "****************************************************************************************************\n",
            "Name:lmplz\tVmPeak:21466440 kB\tVmRSS:2931280 kB\tRSSMax:2941192 kB\tuser:0.590321\tsys:1.33819\tCPU:1.92855\treal:1.94744\n",
            "Reading models/pchat_2.arpa\n",
            "----5---10---15---20---25---30---35---40---45---50---55---60---65---70---75---80---85---90---95--100\n",
            "****************************************************************************************************\n",
            "SUCCESS\n",
            "=== 1/5 Counting and sorting n-grams ===\n",
            "File stdin isn't normal.  Using slower read() instead of mmap().  No progress bar.\n",
            "tcmalloc: large alloc 2508242944 bytes == 0x5625c6796000 @  0x7f0dc7e321e7 0x5625c40b57e2 0x5625c40504fe 0x5625c402f2eb 0x5625c401b066 0x7f0dc5fcbc87 0x5625c401cbaa\n",
            "tcmalloc: large alloc 8360796160 bytes == 0x56265bfa2000 @  0x7f0dc7e321e7 0x5625c40b57e2 0x5625c40a480a 0x5625c40a5248 0x5625c402f308 0x5625c401b066 0x7f0dc5fcbc87 0x5625c401cbaa\n",
            "Unigram tokens 1602042 types 19156\n",
            "=== 2/5 Calculating and sorting adjusted counts ===\n",
            "Chain sizes: 1:229872 2:3789203712 3:7104756736\n",
            "tcmalloc: large alloc 7104757760 bytes == 0x5625c6694000 @  0x7f0dc7e321e7 0x5625c40b57e2 0x5625c40a480a 0x5625c40a5248 0x5625c402f8d7 0x5625c401b066 0x7f0dc5fcbc87 0x5625c401cbaa\n",
            "tcmalloc: large alloc 3789209600 bytes == 0x56284edc8000 @  0x7f0dc7e321e7 0x5625c40b57e2 0x5625c40a480a 0x5625c40a5248 0x5625c402fcdd 0x5625c401b066 0x7f0dc5fcbc87 0x5625c401cbaa\n",
            "Statistics:\n",
            "1 19156 D1=0.588857 D2=1.0348 D3+=1.3388\n",
            "2 231267 D1=0.722265 D2=1.09097 D3+=1.44737\n",
            "3 617624 D1=0.798924 D2=1.0703 D3+=1.33013\n",
            "Memory estimate for binary LM:\n",
            "type       kB\n",
            "probing 16763 assuming -p 1.5\n",
            "probing 18193 assuming -r models -p 1.5\n",
            "trie     6683 without quantization\n",
            "trie     3625 assuming -q 8 -b 8 quantization \n",
            "trie     6354 assuming -a 22 array pointer compression\n",
            "trie     3296 assuming -a 22 -q 8 -b 8 array pointer compression and quantization\n",
            "=== 3/5 Calculating and sorting initial probabilities ===\n",
            "Chain sizes: 1:229872 2:3700272 3:12352480\n",
            "----5---10---15---20---25---30---35---40---45---50---55---60---65---70---75---80---85---90---95--100\n",
            "####################################################################################################\n",
            "=== 4/5 Calculating and writing order-interpolated probabilities ===\n",
            "Chain sizes: 1:229872 2:3700272 3:12352480\n",
            "----5---10---15---20---25---30---35---40---45---50---55---60---65---70---75---80---85---90---95--100\n",
            "####################################################################################################\n",
            "=== 5/5 Writing ARPA model ===\n",
            "----5---10---15---20---25---30---35---40---45---50---55---60---65---70---75---80---85---90---95--100\n",
            "****************************************************************************************************\n",
            "Name:lmplz\tVmPeak:14601980 kB\tVmRSS:2504400 kB\tRSSMax:2504472 kB\tuser:1.0795\tsys:1.16223\tCPU:2.24177\treal:2.19623\n",
            "Reading models/pchat_3.arpa\n",
            "----5---10---15---20---25---30---35---40---45---50---55---60---65---70---75---80---85---90---95--100\n",
            "****************************************************************************************************\n",
            "SUCCESS\n",
            "=== 1/5 Counting and sorting n-grams ===\n",
            "File stdin isn't normal.  Using slower read() instead of mmap().  No progress bar.\n",
            "tcmalloc: large alloc 2173812736 bytes == 0x56020c18a000 @  0x7f4d0665a1e7 0x56020aa4e7e2 0x56020a9e94fe 0x56020a9c82eb 0x56020a9b4066 0x7f4d047f3c87 0x56020a9b5baa\n",
            "tcmalloc: large alloc 8695226368 bytes == 0x56028daa6000 @  0x7f4d0665a1e7 0x56020aa4e7e2 0x56020aa3d80a 0x56020aa3e248 0x56020a9c8308 0x56020a9b4066 0x7f4d047f3c87 0x56020a9b5baa\n",
            "Unigram tokens 1602042 types 19156\n",
            "=== 2/5 Calculating and sorting adjusted counts ===\n",
            "Chain sizes: 1:229872 2:1854291072 3:3476795648 4:5562873344\n",
            "tcmalloc: large alloc 5562875904 bytes == 0x56020c088000 @  0x7f4d0665a1e7 0x56020aa4e7e2 0x56020aa3d80a 0x56020aa3e248 0x56020a9c88d7 0x56020a9b4066 0x7f4d047f3c87 0x56020a9b5baa\n",
            "tcmalloc: large alloc 1854291968 bytes == 0x5603579f6000 @  0x7f4d0665a1e7 0x56020aa4e7e2 0x56020aa3d80a 0x56020aa3e248 0x56020a9c8cdd 0x56020a9b4066 0x7f4d047f3c87 0x56020a9b5baa\n",
            "tcmalloc: large alloc 3476799488 bytes == 0x5604947c0000 @  0x7f4d0665a1e7 0x56020aa4e7e2 0x56020aa3d80a 0x56020aa3e248 0x56020a9c8cdd 0x56020a9b4066 0x7f4d047f3c87 0x56020a9b5baa\n",
            "Statistics:\n",
            "1 19156 D1=0.588857 D2=1.0348 D3+=1.3388\n",
            "2 231267 D1=0.722265 D2=1.09097 D3+=1.44737\n",
            "3 617624 D1=0.821472 D2=1.14168 D3+=1.40217\n",
            "4 932153 D1=0.863174 D2=1.12888 D3+=1.29333\n",
            "Memory estimate for binary LM:\n",
            "type       kB\n",
            "probing 36767 assuming -p 1.5\n",
            "probing 41816 assuming -r models -p 1.5\n",
            "trie    15838 without quantization\n",
            "trie     8356 assuming -q 8 -b 8 quantization \n",
            "trie    14567 assuming -a 22 array pointer compression\n",
            "trie     7085 assuming -a 22 -q 8 -b 8 array pointer compression and quantization\n",
            "=== 3/5 Calculating and sorting initial probabilities ===\n",
            "Chain sizes: 1:229872 2:3700272 3:12352480 4:22371672\n",
            "----5---10---15---20---25---30---35---40---45---50---55---60---65---70---75---80---85---90---95--100\n",
            "####################################################################################################\n",
            "=== 4/5 Calculating and writing order-interpolated probabilities ===\n",
            "Chain sizes: 1:229872 2:3700272 3:12352480 4:22371672\n",
            "----5---10---15---20---25---30---35---40---45---50---55---60---65---70---75---80---85---90---95--100\n",
            "####################################################################################################\n",
            "=== 5/5 Writing ARPA model ===\n",
            "----5---10---15---20---25---30---35---40---45---50---55---60---65---70---75---80---85---90---95--100\n",
            "****************************************************************************************************\n",
            "Name:lmplz\tVmPeak:14378848 kB\tVmRSS:2218248 kB\tRSSMax:2218328 kB\tuser:2.38137\tsys:1.42564\tCPU:3.80704\treal:5.00864\n",
            "Reading models/pchat_4.arpa\n",
            "----5---10---15---20---25---30---35---40---45---50---55---60---65---70---75---80---85---90---95--100\n",
            "****************************************************************************************************\n",
            "SUCCESS\n"
          ]
        }
      ]
    },
    {
      "cell_type": "code",
      "source": [
        "models\n",
        "l1=[2,3,4]\n",
        "for i in l1:\n",
        "  print(models[i])"
      ],
      "metadata": {
        "colab": {
          "base_uri": "https://localhost:8080/"
        },
        "id": "bEdn99K2xOXP",
        "outputId": "846b1b85-c95e-4dcd-adaa-f3549676f70a"
      },
      "execution_count": null,
      "outputs": [
        {
          "output_type": "stream",
          "name": "stdout",
          "text": [
            "<Model from b'pchat_2.klm'>\n",
            "<Model from b'pchat_3.klm'>\n",
            "<Model from b'pchat_4.klm'>\n"
          ]
        }
      ]
    },
    {
      "cell_type": "code",
      "source": [
        "# df=pd.DataFrame([(f'Item {i}',i+10) for i in range(10)],columns=['Item','Value'])\n",
        "# df.style.hide_index()# hide index in df\n"
      ],
      "metadata": {
        "id": "Kyl0CxvGygin"
      },
      "execution_count": null,
      "outputs": []
    },
    {
      "cell_type": "markdown",
      "source": [
        "## Evaluation\n",
        "\n",
        "### Perplexity\n",
        "\n",
        "Intuitively, a good model should assign high probabilities to sequences from the 'true' distribution that it is modeling.\n",
        "\n",
        "A common way of quantifying this is with **perplexity**, a metric inversely-proportional to the probability that the model assigns to a set of sequences, e.g. a 'test set':\n",
        "\n",
        "\\begin{align}\n",
        "\\large \\text{ppl}(p, D) &\\large\\ = 2^{-\\frac{1}{N_{total}}\\log_2 p(D)} =  2^{-\\frac{1}{N_{total}}\\log_2 \\prod_i^M p(w_i)}  = 2^{-\\frac{1}{N_{total}}\\log_2 \\prod_i^M \\prod_t^{N_i} p(w_t^i | w^i_{<t})}\n",
        "\\end{align}\n",
        "\n",
        "\n",
        "where $D=\\{(w_1,\\ldots,w_{N_i})_i\\}_{i=1}^M$ is a dataset of $M$ sequences with total length $N_{\\text{total}}=\\sum_{i}N_i$.\n",
        "\n",
        "Perplexity is defined on $[1,\\infty)$, with 1 being a perfect model (assigning probability 1 to $D$), and a 'worse' model as perplexity increases.\n",
        "\n",
        "Intuitively, _perplexity measures the average rank of the true next-token, when tokens are ordered by the model's conditional probabilities_. Another  interpretation of perplexity is that it measures the average number of times you would need to sample from the language model in order to receive the true next token. \n",
        "\n",
        "\n",
        "\n",
        "<!-- Section 1.3 of [[Chen & Goodman 1998]](https://dash.harvard.edu/bitstream/handle/1/25104739/tr-10-98.pdf?sequence=1) has a concise summary of perplexity and its motivation. !-->"
      ],
      "metadata": {
        "id": "ZQL-aceYAhz9"
      }
    },
    {
      "cell_type": "markdown",
      "source": [
        "#### Evaluate Perplexity\n",
        "\n",
        "`kenlm` outputs log probabilities in **log base 10**. For the standard definition of perplexity we need **log base 2**. See the code below:\n",
        "\n"
      ],
      "metadata": {
        "id": "SczxlaXqAkkz"
      }
    },
    {
      "cell_type": "code",
      "source": [
        "def perplexity_kenlm(model, sequences):\n",
        "    n_total = 0\n",
        "    logp_total = 0\n",
        "    for sequence in sequences:\n",
        "        text = ' '.join(sequence)\n",
        "        logp_total += model.score(text)\n",
        "        n_total += len(sequence) + 1  # add 1 for <eos>\n",
        "    \n",
        "    # Convert log10 to log2\n",
        "    log2p_total = logp_total / np.log10(2)\n",
        "    ppl = 2 ** (- (1.0 / n_total) * log2p_total)\n",
        "    return ppl"
      ],
      "metadata": {
        "id": "Yp8nTcDqAiWa"
      },
      "execution_count": null,
      "outputs": []
    },
    {
      "cell_type": "code",
      "source": [
        "print(\"=== Train ===\")\n",
        "train_df = pd.DataFrame([(f'kenlm (n={n})', perplexity_kenlm(models[n], train)) for n in [2, 3, 4]], columns=['model', 'ppl'])\n",
        "train_df.style.hide_index()"
      ],
      "metadata": {
        "id": "2cdG_HP0ArsG",
        "colab": {
          "base_uri": "https://localhost:8080/",
          "height": 161
        },
        "outputId": "13b017f1-10e4-4238-a56b-aa377936922f"
      },
      "execution_count": null,
      "outputs": [
        {
          "output_type": "stream",
          "name": "stdout",
          "text": [
            "=== Train ===\n"
          ]
        },
        {
          "output_type": "execute_result",
          "data": {
            "text/plain": [
              "<pandas.io.formats.style.Styler at 0x7feed0a1b790>"
            ],
            "text/html": [
              "<style type=\"text/css\">\n",
              "</style>\n",
              "<table id=\"T_e91db_\" class=\"dataframe\">\n",
              "  <thead>\n",
              "    <tr>\n",
              "      <th class=\"col_heading level0 col0\" >model</th>\n",
              "      <th class=\"col_heading level0 col1\" >ppl</th>\n",
              "    </tr>\n",
              "  </thead>\n",
              "  <tbody>\n",
              "    <tr>\n",
              "      <td id=\"T_e91db_row0_col0\" class=\"data row0 col0\" >kenlm (n=2)</td>\n",
              "      <td id=\"T_e91db_row0_col1\" class=\"data row0 col1\" >39.924842</td>\n",
              "    </tr>\n",
              "    <tr>\n",
              "      <td id=\"T_e91db_row1_col0\" class=\"data row1 col0\" >kenlm (n=3)</td>\n",
              "      <td id=\"T_e91db_row1_col1\" class=\"data row1 col1\" >15.462037</td>\n",
              "    </tr>\n",
              "    <tr>\n",
              "      <td id=\"T_e91db_row2_col0\" class=\"data row2 col0\" >kenlm (n=4)</td>\n",
              "      <td id=\"T_e91db_row2_col1\" class=\"data row2 col1\" >8.919611</td>\n",
              "    </tr>\n",
              "  </tbody>\n",
              "</table>\n"
            ]
          },
          "metadata": {},
          "execution_count": 67
        }
      ]
    },
    {
      "cell_type": "code",
      "source": [
        "print(\"=== Valid ===\")\n",
        "val_df = pd.DataFrame([(f'kenlm (n={n})', perplexity_kenlm(models[n], valid)) for n in [2, 3, 4]], columns=['model', 'ppl'])\n",
        "val_df.style.hide_index()\n"
      ],
      "metadata": {
        "id": "5rPnWX_EAtlS",
        "colab": {
          "base_uri": "https://localhost:8080/",
          "height": 161
        },
        "outputId": "d95561d6-4c20-4f37-d061-8eab0659c373"
      },
      "execution_count": null,
      "outputs": [
        {
          "output_type": "stream",
          "name": "stdout",
          "text": [
            "=== Valid ===\n"
          ]
        },
        {
          "output_type": "execute_result",
          "data": {
            "text/plain": [
              "<pandas.io.formats.style.Styler at 0x7fed5bbfe1d0>"
            ],
            "text/html": [
              "<style type=\"text/css\">\n",
              "</style>\n",
              "<table id=\"T_562c3_\" class=\"dataframe\">\n",
              "  <thead>\n",
              "    <tr>\n",
              "      <th class=\"col_heading level0 col0\" >model</th>\n",
              "      <th class=\"col_heading level0 col1\" >ppl</th>\n",
              "    </tr>\n",
              "  </thead>\n",
              "  <tbody>\n",
              "    <tr>\n",
              "      <td id=\"T_562c3_row0_col0\" class=\"data row0 col0\" >kenlm (n=2)</td>\n",
              "      <td id=\"T_562c3_row0_col1\" class=\"data row0 col1\" >59.187973</td>\n",
              "    </tr>\n",
              "    <tr>\n",
              "      <td id=\"T_562c3_row1_col0\" class=\"data row1 col0\" >kenlm (n=3)</td>\n",
              "      <td id=\"T_562c3_row1_col1\" class=\"data row1 col1\" >44.977117</td>\n",
              "    </tr>\n",
              "    <tr>\n",
              "      <td id=\"T_562c3_row2_col0\" class=\"data row2 col0\" >kenlm (n=4)</td>\n",
              "      <td id=\"T_562c3_row2_col1\" class=\"data row2 col1\" >43.218831</td>\n",
              "    </tr>\n",
              "  </tbody>\n",
              "</table>\n"
            ]
          },
          "metadata": {},
          "execution_count": 68
        }
      ]
    },
    {
      "cell_type": "markdown",
      "source": [
        "#### Sequence probabilities\n",
        "\\begin{align}\n",
        "p(w_1,\\ldots,w_T)&\\approx\\prod_{t=1}^T p(w_t|w_{t-2},w_{t-1})\\\\\n",
        "\\log p(w_1,\\ldots,w_T) &\\approx \\sum_{t=1}^T \\log p(w_t|w_{t-2},w_{t-1}).\n",
        "\\end{align}\n",
        "\n",
        "where we use log probabilities in practice to avoid a product of many small numbers."
      ],
      "metadata": {
        "id": "LwG8rQndA_kI"
      }
    },
    {
      "cell_type": "code",
      "source": [
        "sentences = [\n",
        "    'i like my pet dog .',\n",
        "    'i like my pet zebra .',\n",
        "    'i like my pet lion .',\n",
        "    'i live in the united states .',\n",
        "    'i live in the united states of america .',\n",
        "    'i study in senegal .',\n",
        "    'my name is stephen ',\n",
        "    'i am a student of machine learning .'\n",
        "]\n",
        "\n",
        "# how to interpret the results?\n",
        "for sentence in sentences:\n",
        "    print('\\n', sentence)\n",
        "    for n in [2, 3, 4]:\n",
        "        log10p = models[n].score(sentence)\n",
        "        log2p = log10p / np.log10(2)\n",
        "        print(\"n: %d\\t logp: %.3f\" % (n, log2p))"
      ],
      "metadata": {
        "id": "40kEluMHBAkH",
        "colab": {
          "base_uri": "https://localhost:8080/"
        },
        "outputId": "7b1d0718-20d2-4cbf-cac9-572585c08d33"
      },
      "execution_count": null,
      "outputs": [
        {
          "output_type": "stream",
          "name": "stdout",
          "text": [
            "\n",
            " i like my pet dog .\n",
            "n: 2\t logp: -29.216\n",
            "n: 3\t logp: -28.843\n",
            "n: 4\t logp: -29.219\n",
            "\n",
            " i like my pet zebra .\n",
            "n: 2\t logp: -32.303\n",
            "n: 3\t logp: -31.157\n",
            "n: 4\t logp: -32.101\n",
            "\n",
            " i like my pet lion .\n",
            "n: 2\t logp: -38.352\n",
            "n: 3\t logp: -41.017\n",
            "n: 4\t logp: -42.320\n",
            "\n",
            " i live in the united states .\n",
            "n: 2\t logp: -22.599\n",
            "n: 3\t logp: -20.095\n",
            "n: 4\t logp: -17.854\n",
            "\n",
            " i live in the united states of america .\n",
            "n: 2\t logp: -40.958\n",
            "n: 3\t logp: -26.627\n",
            "n: 4\t logp: -24.311\n",
            "\n",
            " i study in senegal .\n",
            "n: 2\t logp: -42.830\n",
            "n: 3\t logp: -44.838\n",
            "n: 4\t logp: -44.271\n",
            "\n",
            " my name is stephen \n",
            "n: 2\t logp: -44.646\n",
            "n: 3\t logp: -41.999\n",
            "n: 4\t logp: -41.704\n",
            "\n",
            " i am a student of machine learning .\n",
            "n: 2\t logp: -54.536\n",
            "n: 3\t logp: -51.482\n",
            "n: 4\t logp: -51.504\n"
          ]
        }
      ]
    },
    {
      "cell_type": "code",
      "source": [
        "example=[]\n",
        "for i in sentences:\n",
        "  example.append(i.split())"
      ],
      "metadata": {
        "id": "JsW8bvSOObRt"
      },
      "execution_count": null,
      "outputs": []
    },
    {
      "cell_type": "code",
      "source": [
        "train_example = pd.DataFrame([(f'kenlm (n={n})', perplexity_kenlm(models[n], example)) for n in [2, 3, 4]], columns=['model', 'ppl'])\n",
        "train_example.style.hide_index()"
      ],
      "metadata": {
        "colab": {
          "base_uri": "https://localhost:8080/",
          "height": 143
        },
        "id": "NYTYjvU_11LE",
        "outputId": "45db9b43-f1a1-4096-80c3-42d87aba319d"
      },
      "execution_count": null,
      "outputs": [
        {
          "output_type": "execute_result",
          "data": {
            "text/plain": [
              "<pandas.io.formats.style.Styler at 0x7feed0a1b4d0>"
            ],
            "text/html": [
              "<style type=\"text/css\">\n",
              "</style>\n",
              "<table id=\"T_a0926_\" class=\"dataframe\">\n",
              "  <thead>\n",
              "    <tr>\n",
              "      <th class=\"col_heading level0 col0\" >model</th>\n",
              "      <th class=\"col_heading level0 col1\" >ppl</th>\n",
              "    </tr>\n",
              "  </thead>\n",
              "  <tbody>\n",
              "    <tr>\n",
              "      <td id=\"T_a0926_row0_col0\" class=\"data row0 col0\" >kenlm (n=2)</td>\n",
              "      <td id=\"T_a0926_row0_col1\" class=\"data row0 col1\" >36.175610</td>\n",
              "    </tr>\n",
              "    <tr>\n",
              "      <td id=\"T_a0926_row1_col0\" class=\"data row1 col0\" >kenlm (n=3)</td>\n",
              "      <td id=\"T_a0926_row1_col1\" class=\"data row1 col1\" >28.809013</td>\n",
              "    </tr>\n",
              "    <tr>\n",
              "      <td id=\"T_a0926_row2_col0\" class=\"data row2 col0\" >kenlm (n=4)</td>\n",
              "      <td id=\"T_a0926_row2_col1\" class=\"data row2 col1\" >27.885291</td>\n",
              "    </tr>\n",
              "  </tbody>\n",
              "</table>\n"
            ]
          },
          "metadata": {},
          "execution_count": 71
        }
      ]
    },
    {
      "cell_type": "markdown",
      "source": [
        "#Feed-forward neural network\n",
        "\n"
      ],
      "metadata": {
        "id": "O04m7-pQBJ3U"
      }
    },
    {
      "cell_type": "markdown",
      "source": [
        "### Preparation for Colab: Pytorch version + dataset\n",
        "Make sure you're running a GPU runtime; if not, select \"GPU\" as the hardware accelerator in Runtime > Change Runtime Type in the menu. The next cells will print the CUDA version of the runtime if it has a GPU, and install PyTorch 1.7.1."
      ],
      "metadata": {
        "id": "nt39lFIHBV-x"
      }
    },
    {
      "cell_type": "code",
      "source": [
        "# TODO: Download data files\n",
        "# download pretrained models and data\n",
        "### DOWNLOADING THE FILES\n",
        "import os\n",
        "\n",
        "### persona chat dataset\n",
        "if not os.path.exists('personachat_all_sentences_train.jsonl'):\n",
        "    !wget \"https://nyu.box.com/shared/static/q4nvswb0szelivhgyx87vd1056ttqfyi.jsonl\" -O 'personachat_all_sentences_train.jsonl'\n",
        "if not os.path.exists('personachat_all_sentences_valid.jsonl'):\n",
        "    !wget \"https://nyu.box.com/shared/static/8krcizo8sms1m0ppy7uiwfcx4a3l5nsq.jsonl\" -O 'personachat_all_sentences_valid.jsonl'\n",
        "if not os.path.exists('personachat_all_sentences_test.jsonl'):\n",
        "    !wget \"https://nyu.box.com/shared/static/im7we9k2gcf8kslqnfamsimicgosuw9y.jsonl\" -O 'personachat_all_sentences_test.jsonl'\n",
        "\n",
        "### pretrained ffnn model\n",
        "\n",
        "if not os.path.exists('personachat_ffnn_lm.pt'):\n",
        "    !wget \"https://nyu.box.com/shared/static/7p9cl71myhyfaofnjbg25i4cfuzt42ne.pt\" -O 'personachat_ffnn_lm.pt'\n",
        "\n",
        "### pretrained rnn model\n",
        "if not os.path.exists('personachat_rnn_lm.pt'):\n",
        "    !wget \"https://nyu.box.com/shared/static/3jl9erctnvbefnczgmetkdil0xwpcxzb.pt\" -O 'personachat_rnn_lm.pt'\n",
        "\n",
        "### data processing file\n",
        "if not os.path.exists('data.py'):\n",
        "    !wget \"https://gist.githubusercontent.com/ethanjperez/304c855ffd0d6da4f8d6ce6a31ff25d2/raw/31cc574c2bc0fe52a9053793559142a938cb4e98/data.py\" -O \"data.py\"\n",
        "\n",
        "!touch __init__.py"
      ],
      "metadata": {
        "id": "wjPbS2mJBH-U",
        "colab": {
          "base_uri": "https://localhost:8080/"
        },
        "outputId": "ae4bfd58-7206-41ad-b1df-bf83bd3d337d"
      },
      "execution_count": null,
      "outputs": [
        {
          "output_type": "stream",
          "name": "stdout",
          "text": [
            "--2022-05-29 15:52:20--  https://nyu.box.com/shared/static/q4nvswb0szelivhgyx87vd1056ttqfyi.jsonl\n",
            "Resolving nyu.box.com (nyu.box.com)... 107.152.24.197\n",
            "Connecting to nyu.box.com (nyu.box.com)|107.152.24.197|:443... connected.\n",
            "HTTP request sent, awaiting response... 301 Moved Permanently\n",
            "Location: /public/static/q4nvswb0szelivhgyx87vd1056ttqfyi.jsonl [following]\n",
            "--2022-05-29 15:52:21--  https://nyu.box.com/public/static/q4nvswb0szelivhgyx87vd1056ttqfyi.jsonl\n",
            "Reusing existing connection to nyu.box.com:443.\n",
            "HTTP request sent, awaiting response... 301 Moved Permanently\n",
            "Location: https://nyu.app.box.com/public/static/q4nvswb0szelivhgyx87vd1056ttqfyi.jsonl [following]\n",
            "--2022-05-29 15:52:21--  https://nyu.app.box.com/public/static/q4nvswb0szelivhgyx87vd1056ttqfyi.jsonl\n",
            "Resolving nyu.app.box.com (nyu.app.box.com)... 107.152.24.201\n",
            "Connecting to nyu.app.box.com (nyu.app.box.com)|107.152.24.201|:443... connected.\n",
            "HTTP request sent, awaiting response... 302 Found\n",
            "Location: https://dl2.boxcloud.com/d/1/b1!mJTmrEHlIvUfibsMkMOr0LezxHr3Zkpf9TdHrbLoslL1Q56vjdbSIDDtqFU93-Krwe_EyRkrSi6ymVdiHn8f442JaWP9q2PZVtNQIrU-0qa24K6lKhoagrPy72kFVfHsf25SJ6BpLOz7XNvU6qsMws9FU3Q_AqnLVEO-M2TPn4UKAa9eEFLGOi5H8odRlXY88v5_SI5abEMfuoQFZQ99gHDx79YEl1eiC6Rc2JSbYHH-o2vSdsvIv_QQPD4fIqRaof3qBbQtrmR3dZ6-YtZ8fQ6UvdUqt4YR4_vc5A7S_pb-c4c85duwtWp8JLE5LWknIsnhEaHwcJh78n_v4JQ1iecIq2AyaBOBuz5qIT_ZMHzOvCWOYO9Z5ZBqR8euPqBI_k4lvqCXuup4g6jPqJz2pf7r4Wl8u8Cg9HIES9vPBjjzkCSXXrYlhTAN_dzx2aG17h0mJLatKG2VtQodu41CH7NCkgciAPGSNAUfLh7ECWRtA3D-iB9mBmi4_HfASDlpUhIDbNK01QzwPZ5QGHn5nNNYmXv9UX6C4sRJTxHPh3tBLLQBgTONBqhi5vTcRJwQmw-jthXlq9WqUu6TX7nX10LCNvepLqt3vHANFCu-mkU4irl2FkGA7gFGR8XC31td8UbFcEEHHDIbfZmNGT6hs5yCq5NwZBxIR3Gg9reCiM9W52XTvgnKozJlUs32jmgTF7s_-NdWMjVP42GXRlUaVtuDTC1WL3H6io2UEocNsT7Ezxennki8pfpdwt28DDq_4BABQYGD62Da0nPGZgNZKw8gEbbCGpKX43T-wATOVhJIINV3I4pw0xB7oms8iX6Lm6LY4Tl9v_Sh5oc8rCoavp66He5cGvWXquojxjqjTs0ue9oRsG4Cr8S8T8q9dYPoO2k09cTACO8DiSQrxny67NHM8BTxcTgAPca2rI4aYQCLk0D_kXyZWlM2l3YSTKQF2xdLphLV2xmEAp6OtR_DdIbpKAhS5yn2vt4n2QtMYB0gxMWnXbEGPzbQpBzqMl89GQx1b2VKR3Nwr6Ycx4HPmNRUvjLptk7081jKvq9oXSQb9K5xShmZiVRj5CEovbrsn9LGRWwDx1wuY7heAgGhnMdYF9v6xzoLhyYapayGrqu__hRlcAI9upfbXSYIHICeQ24cjeiGa0sKv8MNXOjCOVIUPcelkuViBGrdMDKcdvik-YNl9so0K1xv_a5-ZMdfmQ81yQsIy0R55hPOkcD5XDj9c-0dLh_iByV0Dgi2cF1Bs61GI0X4yz8mHRLyv_vnXQQOW9opIfqtFB4GYWiK2qXDwKfx6RVehi5ibUigVjQnVI2FZTzwVR-4Le3ZAtkZqjklChkP0w8NrRGKGAZscKKoLp105unHNF7spwZoxvKp4eBudI_K_aBW4sf4RisekS_nMBWUeokPlzkm8lIot93giMSvVcIK0Qhmj8W9y4jGpr71nsAC6axfyDcpnfWIZaEa/download [following]\n",
            "--2022-05-29 15:52:21--  https://dl2.boxcloud.com/d/1/b1!mJTmrEHlIvUfibsMkMOr0LezxHr3Zkpf9TdHrbLoslL1Q56vjdbSIDDtqFU93-Krwe_EyRkrSi6ymVdiHn8f442JaWP9q2PZVtNQIrU-0qa24K6lKhoagrPy72kFVfHsf25SJ6BpLOz7XNvU6qsMws9FU3Q_AqnLVEO-M2TPn4UKAa9eEFLGOi5H8odRlXY88v5_SI5abEMfuoQFZQ99gHDx79YEl1eiC6Rc2JSbYHH-o2vSdsvIv_QQPD4fIqRaof3qBbQtrmR3dZ6-YtZ8fQ6UvdUqt4YR4_vc5A7S_pb-c4c85duwtWp8JLE5LWknIsnhEaHwcJh78n_v4JQ1iecIq2AyaBOBuz5qIT_ZMHzOvCWOYO9Z5ZBqR8euPqBI_k4lvqCXuup4g6jPqJz2pf7r4Wl8u8Cg9HIES9vPBjjzkCSXXrYlhTAN_dzx2aG17h0mJLatKG2VtQodu41CH7NCkgciAPGSNAUfLh7ECWRtA3D-iB9mBmi4_HfASDlpUhIDbNK01QzwPZ5QGHn5nNNYmXv9UX6C4sRJTxHPh3tBLLQBgTONBqhi5vTcRJwQmw-jthXlq9WqUu6TX7nX10LCNvepLqt3vHANFCu-mkU4irl2FkGA7gFGR8XC31td8UbFcEEHHDIbfZmNGT6hs5yCq5NwZBxIR3Gg9reCiM9W52XTvgnKozJlUs32jmgTF7s_-NdWMjVP42GXRlUaVtuDTC1WL3H6io2UEocNsT7Ezxennki8pfpdwt28DDq_4BABQYGD62Da0nPGZgNZKw8gEbbCGpKX43T-wATOVhJIINV3I4pw0xB7oms8iX6Lm6LY4Tl9v_Sh5oc8rCoavp66He5cGvWXquojxjqjTs0ue9oRsG4Cr8S8T8q9dYPoO2k09cTACO8DiSQrxny67NHM8BTxcTgAPca2rI4aYQCLk0D_kXyZWlM2l3YSTKQF2xdLphLV2xmEAp6OtR_DdIbpKAhS5yn2vt4n2QtMYB0gxMWnXbEGPzbQpBzqMl89GQx1b2VKR3Nwr6Ycx4HPmNRUvjLptk7081jKvq9oXSQb9K5xShmZiVRj5CEovbrsn9LGRWwDx1wuY7heAgGhnMdYF9v6xzoLhyYapayGrqu__hRlcAI9upfbXSYIHICeQ24cjeiGa0sKv8MNXOjCOVIUPcelkuViBGrdMDKcdvik-YNl9so0K1xv_a5-ZMdfmQ81yQsIy0R55hPOkcD5XDj9c-0dLh_iByV0Dgi2cF1Bs61GI0X4yz8mHRLyv_vnXQQOW9opIfqtFB4GYWiK2qXDwKfx6RVehi5ibUigVjQnVI2FZTzwVR-4Le3ZAtkZqjklChkP0w8NrRGKGAZscKKoLp105unHNF7spwZoxvKp4eBudI_K_aBW4sf4RisekS_nMBWUeokPlzkm8lIot93giMSvVcIK0Qhmj8W9y4jGpr71nsAC6axfyDcpnfWIZaEa/download\n",
            "Resolving dl2.boxcloud.com (dl2.boxcloud.com)... 74.112.186.128\n",
            "Connecting to dl2.boxcloud.com (dl2.boxcloud.com)|74.112.186.128|:443... connected.\n",
            "HTTP request sent, awaiting response... 200 OK\n",
            "Length: 13403897 (13M) [application/octet-stream]\n",
            "Saving to: ‘personachat_all_sentences_train.jsonl’\n",
            "\n",
            "personachat_all_sen 100%[===================>]  12.78M  61.2MB/s    in 0.2s    \n",
            "\n",
            "2022-05-29 15:52:22 (61.2 MB/s) - ‘personachat_all_sentences_train.jsonl’ saved [13403897/13403897]\n",
            "\n",
            "--2022-05-29 15:52:22--  https://nyu.box.com/shared/static/8krcizo8sms1m0ppy7uiwfcx4a3l5nsq.jsonl\n",
            "Resolving nyu.box.com (nyu.box.com)... 107.152.24.197\n",
            "Connecting to nyu.box.com (nyu.box.com)|107.152.24.197|:443... connected.\n",
            "HTTP request sent, awaiting response... 301 Moved Permanently\n",
            "Location: /public/static/8krcizo8sms1m0ppy7uiwfcx4a3l5nsq.jsonl [following]\n",
            "--2022-05-29 15:52:23--  https://nyu.box.com/public/static/8krcizo8sms1m0ppy7uiwfcx4a3l5nsq.jsonl\n",
            "Reusing existing connection to nyu.box.com:443.\n",
            "HTTP request sent, awaiting response... 301 Moved Permanently\n",
            "Location: https://nyu.app.box.com/public/static/8krcizo8sms1m0ppy7uiwfcx4a3l5nsq.jsonl [following]\n",
            "--2022-05-29 15:52:23--  https://nyu.app.box.com/public/static/8krcizo8sms1m0ppy7uiwfcx4a3l5nsq.jsonl\n",
            "Resolving nyu.app.box.com (nyu.app.box.com)... 107.152.24.201\n",
            "Connecting to nyu.app.box.com (nyu.app.box.com)|107.152.24.201|:443... connected.\n",
            "HTTP request sent, awaiting response... 302 Found\n",
            "Location: https://dl2.boxcloud.com/d/1/b1!yvcoU009nyC_n4JBr5cZzkr2zM4P3K_5xoTDwKSh3DEIrt8PchctxjgRsHQvjLVt3OIOSDmVZfr1cS4To0frpITEqlUEYGCvVhxhs4ijjOYL27wzpGE8VpS3rp-thYDf0xleTMRIS8eMK8Mo3arf8UkQi_2Iaqo-Jldu-SbhwTPyN5O1QZYPjLohTW8C3uxKVQbcukAfdFREqrf9zvFoPJJKshO7BG-1TThqq19ljEVw27CymJEy-MbgJuppSgVz5wLpoJVtEzcwDdXYMkmGoGsAGGYbLwDOv3AOkxgdifeG4Go2K4ag9pOzOBgZp9S9VKktCu-aZFTEOkIudGtW7QKtJLGmcbSNZDPGASzkNl29zaFEWaPJ-u_wowxAz1GLHZPOFR6xMjsth8S6HPlIxfOaGJRATfEUD8Ovnpgv8DoABF1vKN8opfoCUr8HX91t29MR4_YPpgr7_LpeCU-irevaVMWc8kmtR5XUt_Th54gkT72GfWsnyN_8uMjezm4HWYbufZCpOGoJr5_hdD3fV4adpVuF7C_RGeZX0YF4fFGudgOR3_MBZWY9D73e_I85-IEblGXIof4Yh86tH3XhxtpRfhe-XXOMPgQVGpSm7kRXJUsgUbuqpNYwVbqovGpdGeat0x3NNOl63OXBMFlrJIbhWKTFcKg0FJvlsfDhHu8_kcjpJYVXUJVz15QhZQJ19lmhkPhFYdpktY3DnJDVN-2z6vZxKD6oC8NFtnbeIFUZb4HIO6oHTdO0vfAf215VIWT0Ud9cwxfArjCIugPcid0CB7grR5cMe--lp7sHwfhi-D6McwLgbg0psbDUefs__G2oCnlWaDKNcEuiBI3M8uuq7jRwwEb481d-Kty_ONShjFBb9uxS5y3MCrWm_gLfEGJAAnKuJwlcrJ9-CDic0e-gzgMImXNQ8E5a5LrFV7VUs-27gGKZaAfo_DEXG6gZpLF5w4ttiE9FbD6bcknUtzqZSkoCmHErPxrZChpL2vmqNuXR_zOzpxX3moA-03IYyQ7ic5HqlW1L_buUZ-UqcWGDkeUbhgkm3u3iH9J2NvcpJ3vbl9m8tg1WNGyxgxghBTmjOg19upOyjw4F3Jo3l7BuuQaLX8n82xV8aC1w3x0DLrI60e8Vgr65jo0rphAQWOxvHbrJcTaYEMe7R7ZtcWUf3M-I7a5unNCVYElbM955y-mCtyAzblKZdmmLScoXqUY4W79-N92203NOuAfBbEYX0EWW4MH_PaRB9WFoFKrjrCLL9kjFqWNz3UPNvcrNjLsQP0R_k8Q2CPWf487hgZ4lfFt5viqG4BfEDkCGlX63hao7thWStqUX9OLzRjg1lE1YJNoTV2ZPbZb24HC627hwBX2TdqvnEKroZgL2qJwbYfhJkotF33Ywn0MIkMCwjlwxO-D9a5UXkHSTbfjChGbYGdI-cPr3/download [following]\n",
            "--2022-05-29 15:52:23--  https://dl2.boxcloud.com/d/1/b1!yvcoU009nyC_n4JBr5cZzkr2zM4P3K_5xoTDwKSh3DEIrt8PchctxjgRsHQvjLVt3OIOSDmVZfr1cS4To0frpITEqlUEYGCvVhxhs4ijjOYL27wzpGE8VpS3rp-thYDf0xleTMRIS8eMK8Mo3arf8UkQi_2Iaqo-Jldu-SbhwTPyN5O1QZYPjLohTW8C3uxKVQbcukAfdFREqrf9zvFoPJJKshO7BG-1TThqq19ljEVw27CymJEy-MbgJuppSgVz5wLpoJVtEzcwDdXYMkmGoGsAGGYbLwDOv3AOkxgdifeG4Go2K4ag9pOzOBgZp9S9VKktCu-aZFTEOkIudGtW7QKtJLGmcbSNZDPGASzkNl29zaFEWaPJ-u_wowxAz1GLHZPOFR6xMjsth8S6HPlIxfOaGJRATfEUD8Ovnpgv8DoABF1vKN8opfoCUr8HX91t29MR4_YPpgr7_LpeCU-irevaVMWc8kmtR5XUt_Th54gkT72GfWsnyN_8uMjezm4HWYbufZCpOGoJr5_hdD3fV4adpVuF7C_RGeZX0YF4fFGudgOR3_MBZWY9D73e_I85-IEblGXIof4Yh86tH3XhxtpRfhe-XXOMPgQVGpSm7kRXJUsgUbuqpNYwVbqovGpdGeat0x3NNOl63OXBMFlrJIbhWKTFcKg0FJvlsfDhHu8_kcjpJYVXUJVz15QhZQJ19lmhkPhFYdpktY3DnJDVN-2z6vZxKD6oC8NFtnbeIFUZb4HIO6oHTdO0vfAf215VIWT0Ud9cwxfArjCIugPcid0CB7grR5cMe--lp7sHwfhi-D6McwLgbg0psbDUefs__G2oCnlWaDKNcEuiBI3M8uuq7jRwwEb481d-Kty_ONShjFBb9uxS5y3MCrWm_gLfEGJAAnKuJwlcrJ9-CDic0e-gzgMImXNQ8E5a5LrFV7VUs-27gGKZaAfo_DEXG6gZpLF5w4ttiE9FbD6bcknUtzqZSkoCmHErPxrZChpL2vmqNuXR_zOzpxX3moA-03IYyQ7ic5HqlW1L_buUZ-UqcWGDkeUbhgkm3u3iH9J2NvcpJ3vbl9m8tg1WNGyxgxghBTmjOg19upOyjw4F3Jo3l7BuuQaLX8n82xV8aC1w3x0DLrI60e8Vgr65jo0rphAQWOxvHbrJcTaYEMe7R7ZtcWUf3M-I7a5unNCVYElbM955y-mCtyAzblKZdmmLScoXqUY4W79-N92203NOuAfBbEYX0EWW4MH_PaRB9WFoFKrjrCLL9kjFqWNz3UPNvcrNjLsQP0R_k8Q2CPWf487hgZ4lfFt5viqG4BfEDkCGlX63hao7thWStqUX9OLzRjg1lE1YJNoTV2ZPbZb24HC627hwBX2TdqvnEKroZgL2qJwbYfhJkotF33Ywn0MIkMCwjlwxO-D9a5UXkHSTbfjChGbYGdI-cPr3/download\n",
            "Resolving dl2.boxcloud.com (dl2.boxcloud.com)... 74.112.186.128\n",
            "Connecting to dl2.boxcloud.com (dl2.boxcloud.com)|74.112.186.128|:443... connected.\n",
            "HTTP request sent, awaiting response... 200 OK\n",
            "Length: 1640194 (1.6M) [application/octet-stream]\n",
            "Saving to: ‘personachat_all_sentences_valid.jsonl’\n",
            "\n",
            "personachat_all_sen 100%[===================>]   1.56M  --.-KB/s    in 0.03s   \n",
            "\n",
            "2022-05-29 15:52:24 (60.2 MB/s) - ‘personachat_all_sentences_valid.jsonl’ saved [1640194/1640194]\n",
            "\n",
            "--2022-05-29 15:52:24--  https://nyu.box.com/shared/static/im7we9k2gcf8kslqnfamsimicgosuw9y.jsonl\n",
            "Resolving nyu.box.com (nyu.box.com)... 107.152.24.197\n",
            "Connecting to nyu.box.com (nyu.box.com)|107.152.24.197|:443... connected.\n",
            "HTTP request sent, awaiting response... 301 Moved Permanently\n",
            "Location: /public/static/im7we9k2gcf8kslqnfamsimicgosuw9y.jsonl [following]\n",
            "--2022-05-29 15:52:24--  https://nyu.box.com/public/static/im7we9k2gcf8kslqnfamsimicgosuw9y.jsonl\n",
            "Reusing existing connection to nyu.box.com:443.\n",
            "HTTP request sent, awaiting response... 301 Moved Permanently\n",
            "Location: https://nyu.app.box.com/public/static/im7we9k2gcf8kslqnfamsimicgosuw9y.jsonl [following]\n",
            "--2022-05-29 15:52:24--  https://nyu.app.box.com/public/static/im7we9k2gcf8kslqnfamsimicgosuw9y.jsonl\n",
            "Resolving nyu.app.box.com (nyu.app.box.com)... 107.152.24.201\n",
            "Connecting to nyu.app.box.com (nyu.app.box.com)|107.152.24.201|:443... connected.\n",
            "HTTP request sent, awaiting response... 302 Found\n",
            "Location: https://dl2.boxcloud.com/d/1/b1!UAMctBVFK6Uvxu9DQyd8GLg81vkR5HQ7vVRQG3b8tWvYBKxIS7J6QstyVWvRGprDM57BQoFp2BUm7co3kd-a1pocUQ2CC_MDBQkcIOoEXL3SmEYYyO8OTeSAaKT0iZU1EbCQLr5SRRyuWFTv8tHZr6Jhb86WB1aoNIX4JtyQZqGREvUtTQxBhjYhTwmqPW6HMyR_LrPwClseHKdyeTFv4wcRf62Q5Vu5NJST_EmvKroPdpUA7rpRKSV_dEg5-7kwvh_s5OS95bMVBQXxBCMbmWU1wrJlZBMfpO-Y--iWVv4APjDu8S5yrqfNiTwXB1o_a-lodIEGRhLgDFSGl6O-HC_ZW21BNh7EeI_oYgxo9pzVtuT1EFKBD41OiZDXc84f8QWVMZSlhClDTt5PCZ4ZPIbyPnHqWsS4LnSS1EhIDhYBFVpVBud3CUygQbLjoYxueN6I2EL7VwvgjRAfWFPrYpdCBQgBCTeRjeNa9r3EQqirMYMm6yE4ysrjmu9S2JX_djW0max3ZGeY_11DrHDNKpQzs3a0rFOpjkJ0b56Ef2DuCIaeGvcd4QhOiN8Faw0kMnXKT-3lf8MgGWCdp5aPym9aewYJfLI9wzvKo8TcRHAeGDDopP0vsgeAvoQn_wdb3gQSKblt29seyM_FRBPt66-R0NVzq4KlHmKvjXlUZW7ywB2dKLw1TlABMFv-oHxwtS6M2NKG7H6sbJPM8-iubJHcfn0Ojvyho-l53Ae5T4WfBDFCxXiJB2cDma30t1-bZ-FGAvjoKc3UNjPPDviMPuB74R1q5xQjgzDLjacLdpxq5z6VDsdyn_il-rUwrjRoWBPtw_eSJej1GVwV_KWSJE8LzRs4CYVyLnlCwrDO0sUCFhRFn3J3mcWt231RqBOw3RoVjZRS_YMTA_daovPU3hYusHKEIyitOGZzuuU-qmzebVAzmCJHVXgabV_aFYexAOd4qYk3s8cBsnKTKcniocoHUO3kMaVMiVYe4EgxboAUbQ2YKa-dhj1GkT-c5Wsxr-Y4Cr8Ytx0BtVh2iQsbhOJfYsw8PUSqw9mz-TFm1Zr-Js8Nq1-EYGTMWMLKSxC3HnVQux-GR7zpKVvhnaPBe-iw0trB1_yQsYOQKLX_wKWhSK8gHz0AiVLOip7cOkqfeTGcxzBeB6xpXkBvX8bN-zChV0-mFJ90EjFmLUNePZo96JfJwsW5H6hSYRioyk0y_tRoNcCzrsIj3rNdHhfUbKLLDr4aZFGiKjxoAYY_wksFbVXNs2R8WjUa11WSy3XDb1x9t1IgzH2SnvIUb4cY9fzCVFv5DBVEwNzCoglTqrYRADDT0CT8kfPRzqe-jlJ1yfbAcxFeKv8k_9kZzuBSdMKEh8OtYMSSZROQMi3vn6E7HxxM3q4pC6aL7hxARJ68BZa3E_e-frKkvclxpXDDWZFRPlNW9E4./download [following]\n",
            "--2022-05-29 15:52:24--  https://dl2.boxcloud.com/d/1/b1!UAMctBVFK6Uvxu9DQyd8GLg81vkR5HQ7vVRQG3b8tWvYBKxIS7J6QstyVWvRGprDM57BQoFp2BUm7co3kd-a1pocUQ2CC_MDBQkcIOoEXL3SmEYYyO8OTeSAaKT0iZU1EbCQLr5SRRyuWFTv8tHZr6Jhb86WB1aoNIX4JtyQZqGREvUtTQxBhjYhTwmqPW6HMyR_LrPwClseHKdyeTFv4wcRf62Q5Vu5NJST_EmvKroPdpUA7rpRKSV_dEg5-7kwvh_s5OS95bMVBQXxBCMbmWU1wrJlZBMfpO-Y--iWVv4APjDu8S5yrqfNiTwXB1o_a-lodIEGRhLgDFSGl6O-HC_ZW21BNh7EeI_oYgxo9pzVtuT1EFKBD41OiZDXc84f8QWVMZSlhClDTt5PCZ4ZPIbyPnHqWsS4LnSS1EhIDhYBFVpVBud3CUygQbLjoYxueN6I2EL7VwvgjRAfWFPrYpdCBQgBCTeRjeNa9r3EQqirMYMm6yE4ysrjmu9S2JX_djW0max3ZGeY_11DrHDNKpQzs3a0rFOpjkJ0b56Ef2DuCIaeGvcd4QhOiN8Faw0kMnXKT-3lf8MgGWCdp5aPym9aewYJfLI9wzvKo8TcRHAeGDDopP0vsgeAvoQn_wdb3gQSKblt29seyM_FRBPt66-R0NVzq4KlHmKvjXlUZW7ywB2dKLw1TlABMFv-oHxwtS6M2NKG7H6sbJPM8-iubJHcfn0Ojvyho-l53Ae5T4WfBDFCxXiJB2cDma30t1-bZ-FGAvjoKc3UNjPPDviMPuB74R1q5xQjgzDLjacLdpxq5z6VDsdyn_il-rUwrjRoWBPtw_eSJej1GVwV_KWSJE8LzRs4CYVyLnlCwrDO0sUCFhRFn3J3mcWt231RqBOw3RoVjZRS_YMTA_daovPU3hYusHKEIyitOGZzuuU-qmzebVAzmCJHVXgabV_aFYexAOd4qYk3s8cBsnKTKcniocoHUO3kMaVMiVYe4EgxboAUbQ2YKa-dhj1GkT-c5Wsxr-Y4Cr8Ytx0BtVh2iQsbhOJfYsw8PUSqw9mz-TFm1Zr-Js8Nq1-EYGTMWMLKSxC3HnVQux-GR7zpKVvhnaPBe-iw0trB1_yQsYOQKLX_wKWhSK8gHz0AiVLOip7cOkqfeTGcxzBeB6xpXkBvX8bN-zChV0-mFJ90EjFmLUNePZo96JfJwsW5H6hSYRioyk0y_tRoNcCzrsIj3rNdHhfUbKLLDr4aZFGiKjxoAYY_wksFbVXNs2R8WjUa11WSy3XDb1x9t1IgzH2SnvIUb4cY9fzCVFv5DBVEwNzCoglTqrYRADDT0CT8kfPRzqe-jlJ1yfbAcxFeKv8k_9kZzuBSdMKEh8OtYMSSZROQMi3vn6E7HxxM3q4pC6aL7hxARJ68BZa3E_e-frKkvclxpXDDWZFRPlNW9E4./download\n",
            "Resolving dl2.boxcloud.com (dl2.boxcloud.com)... 74.112.186.128\n",
            "Connecting to dl2.boxcloud.com (dl2.boxcloud.com)|74.112.186.128|:443... connected.\n",
            "HTTP request sent, awaiting response... 200 OK\n",
            "Length: 1559597 (1.5M) [application/octet-stream]\n",
            "Saving to: ‘personachat_all_sentences_test.jsonl’\n",
            "\n",
            "personachat_all_sen 100%[===================>]   1.49M  --.-KB/s    in 0.02s   \n",
            "\n",
            "2022-05-29 15:52:25 (71.2 MB/s) - ‘personachat_all_sentences_test.jsonl’ saved [1559597/1559597]\n",
            "\n",
            "--2022-05-29 15:52:25--  https://nyu.box.com/shared/static/7p9cl71myhyfaofnjbg25i4cfuzt42ne.pt\n",
            "Resolving nyu.box.com (nyu.box.com)... 107.152.24.197\n",
            "Connecting to nyu.box.com (nyu.box.com)|107.152.24.197|:443... connected.\n",
            "HTTP request sent, awaiting response... 301 Moved Permanently\n",
            "Location: /public/static/7p9cl71myhyfaofnjbg25i4cfuzt42ne.pt [following]\n",
            "--2022-05-29 15:52:25--  https://nyu.box.com/public/static/7p9cl71myhyfaofnjbg25i4cfuzt42ne.pt\n",
            "Reusing existing connection to nyu.box.com:443.\n",
            "HTTP request sent, awaiting response... 301 Moved Permanently\n",
            "Location: https://nyu.app.box.com/public/static/7p9cl71myhyfaofnjbg25i4cfuzt42ne.pt [following]\n",
            "--2022-05-29 15:52:25--  https://nyu.app.box.com/public/static/7p9cl71myhyfaofnjbg25i4cfuzt42ne.pt\n",
            "Resolving nyu.app.box.com (nyu.app.box.com)... 107.152.24.201\n",
            "Connecting to nyu.app.box.com (nyu.app.box.com)|107.152.24.201|:443... connected.\n",
            "HTTP request sent, awaiting response... 302 Found\n",
            "Location: https://dl2.boxcloud.com/d/1/b1!bkl_-7bCUCCcnlgyDeeysi9CKoO02fF-LSH1hgxeRJlnAJbIZVYO_MUV4jWzchcmyO866oFakQ2bOAapu_8PrhK36nApVhA-3ZwXwejGPrhHwlCnt2j4VP3Rl1an6TTA8SYf8tdV4TVvIQGCCqWJLda-iMlWtL08v-fafW8QqeKq75qVJIhj0cRIHKOBtfXSDZgrmFSO5e1HLhHewExFGq9ywN_wWTdGkLWx2M6EzTDJPp2bmGsoiOSHu18Dok9PNfSMvjZn9Sd_mCTQWDHiWSRlJ9sYup2Nkqzw_4cwhQ2zD47g8XJpTVchBWiVk0tZPRltEvdL5iojdJzpfMf0PCs54jYPx0O9H2KnnLJJZyVrXkvQUC5201flSPV-CcIQXdz5Ok08eKor5R2fDT76b4yJRJaDfANvl_2HoMFznj0rlbmlNvK2MzfbAAl2XdN4CoIXzLlfP3XH619-_sbspU2Uw8ByAi1ZfaNyv3jYPhmIACEqomU7aefkTpdgSY-sTWl6sXwIXcotZ-klyFxtQO-O5YNUYwLYXpQXpsUzmcvV0il3e0h4GRtMBqQg8SWh_Kx63y3kXfMHmr1LTtE3MTYLUfZuQt6dOKFaLYf1jSvRlCMXNJeYtbWkHx16Kr6zOHt7ZU1wgHFZRYP_PE0X9LR5S1vCqzuGD-af063KtIPw_ktxyP3HGvoIcHPb0k12vVm1-C9X3Za2bSBxO19w3X3zj0ECfHILVskbYI6B_n9mPRqt524xt9FdfSxjMo4q1qKRT6-wJ4GAvDbJPI_mxYb-JHi14LzNzZj12uO7B2qtD8SV0deHkmVyHtD-26U8OF585tZVVdcBp0k4zvbMbK_TvYykfC8-L166QrMpnT7ph_KQQNXMblOZ5oXQfK6yMtQVP3Q6_zOXh_FcKlNR4mAbk5DgbE6SOmMcnxjKahhqnW9OGu7PvGxC4Yh0B4B-5eDWi_2cIjnVbepSkPswuHsG-JWxs0Rdkmi1-H9_GPiCYXeI5-3DcuOTRMcjqeEnLjGlph00R3NEqeaW2TOQJiG-C3r_SaWwGZGbwVq_4GZ28oWZS-MK6ri6-2s39MOcTae2a0P2GHBGuNC3vlEthGRhtBwrUMUWsqBCKd68x_EGNu0RV54beWjv0Oe2RQaxKnGShVpk9rLooHWU8xNjNk-Yd2iTm6lWVE7eavEhqSqU8iZ7SsMB3n1p6obgDwd7zac8FgUdi4adr2NEoVsCtqDp7BZwROQITISoCxr0lwDIwQnWTcNSIrB0rz1a1O-bVSDHC72jmQUM3kx0067o8mjjHIe2CFOzmn6COKUg5mbbfQWGZk_tZeLkIEc7JRZcFjzDc1VqjMrflsf2jAaAMM6F3d0_A-PK4LGYuY_XEviMEJoer4VtSzYn9jEITjvz2Ty0LQWk5h4./download [following]\n",
            "--2022-05-29 15:52:25--  https://dl2.boxcloud.com/d/1/b1!bkl_-7bCUCCcnlgyDeeysi9CKoO02fF-LSH1hgxeRJlnAJbIZVYO_MUV4jWzchcmyO866oFakQ2bOAapu_8PrhK36nApVhA-3ZwXwejGPrhHwlCnt2j4VP3Rl1an6TTA8SYf8tdV4TVvIQGCCqWJLda-iMlWtL08v-fafW8QqeKq75qVJIhj0cRIHKOBtfXSDZgrmFSO5e1HLhHewExFGq9ywN_wWTdGkLWx2M6EzTDJPp2bmGsoiOSHu18Dok9PNfSMvjZn9Sd_mCTQWDHiWSRlJ9sYup2Nkqzw_4cwhQ2zD47g8XJpTVchBWiVk0tZPRltEvdL5iojdJzpfMf0PCs54jYPx0O9H2KnnLJJZyVrXkvQUC5201flSPV-CcIQXdz5Ok08eKor5R2fDT76b4yJRJaDfANvl_2HoMFznj0rlbmlNvK2MzfbAAl2XdN4CoIXzLlfP3XH619-_sbspU2Uw8ByAi1ZfaNyv3jYPhmIACEqomU7aefkTpdgSY-sTWl6sXwIXcotZ-klyFxtQO-O5YNUYwLYXpQXpsUzmcvV0il3e0h4GRtMBqQg8SWh_Kx63y3kXfMHmr1LTtE3MTYLUfZuQt6dOKFaLYf1jSvRlCMXNJeYtbWkHx16Kr6zOHt7ZU1wgHFZRYP_PE0X9LR5S1vCqzuGD-af063KtIPw_ktxyP3HGvoIcHPb0k12vVm1-C9X3Za2bSBxO19w3X3zj0ECfHILVskbYI6B_n9mPRqt524xt9FdfSxjMo4q1qKRT6-wJ4GAvDbJPI_mxYb-JHi14LzNzZj12uO7B2qtD8SV0deHkmVyHtD-26U8OF585tZVVdcBp0k4zvbMbK_TvYykfC8-L166QrMpnT7ph_KQQNXMblOZ5oXQfK6yMtQVP3Q6_zOXh_FcKlNR4mAbk5DgbE6SOmMcnxjKahhqnW9OGu7PvGxC4Yh0B4B-5eDWi_2cIjnVbepSkPswuHsG-JWxs0Rdkmi1-H9_GPiCYXeI5-3DcuOTRMcjqeEnLjGlph00R3NEqeaW2TOQJiG-C3r_SaWwGZGbwVq_4GZ28oWZS-MK6ri6-2s39MOcTae2a0P2GHBGuNC3vlEthGRhtBwrUMUWsqBCKd68x_EGNu0RV54beWjv0Oe2RQaxKnGShVpk9rLooHWU8xNjNk-Yd2iTm6lWVE7eavEhqSqU8iZ7SsMB3n1p6obgDwd7zac8FgUdi4adr2NEoVsCtqDp7BZwROQITISoCxr0lwDIwQnWTcNSIrB0rz1a1O-bVSDHC72jmQUM3kx0067o8mjjHIe2CFOzmn6COKUg5mbbfQWGZk_tZeLkIEc7JRZcFjzDc1VqjMrflsf2jAaAMM6F3d0_A-PK4LGYuY_XEviMEJoer4VtSzYn9jEITjvz2Ty0LQWk5h4./download\n",
            "Resolving dl2.boxcloud.com (dl2.boxcloud.com)... 74.112.186.128\n",
            "Connecting to dl2.boxcloud.com (dl2.boxcloud.com)|74.112.186.128|:443... connected.\n",
            "HTTP request sent, awaiting response... 200 OK\n",
            "Length: 63371995 (60M) [application/octet-stream]\n",
            "Saving to: ‘personachat_ffnn_lm.pt’\n",
            "\n",
            "personachat_ffnn_lm 100%[===================>]  60.44M  11.9MB/s    in 5.1s    \n",
            "\n",
            "2022-05-29 15:52:32 (11.9 MB/s) - ‘personachat_ffnn_lm.pt’ saved [63371995/63371995]\n",
            "\n",
            "--2022-05-29 15:52:32--  https://nyu.box.com/shared/static/3jl9erctnvbefnczgmetkdil0xwpcxzb.pt\n",
            "Resolving nyu.box.com (nyu.box.com)... 107.152.24.197\n",
            "Connecting to nyu.box.com (nyu.box.com)|107.152.24.197|:443... connected.\n",
            "HTTP request sent, awaiting response... 301 Moved Permanently\n",
            "Location: /public/static/3jl9erctnvbefnczgmetkdil0xwpcxzb.pt [following]\n",
            "--2022-05-29 15:52:32--  https://nyu.box.com/public/static/3jl9erctnvbefnczgmetkdil0xwpcxzb.pt\n",
            "Reusing existing connection to nyu.box.com:443.\n",
            "HTTP request sent, awaiting response... 301 Moved Permanently\n",
            "Location: https://nyu.app.box.com/public/static/3jl9erctnvbefnczgmetkdil0xwpcxzb.pt [following]\n",
            "--2022-05-29 15:52:32--  https://nyu.app.box.com/public/static/3jl9erctnvbefnczgmetkdil0xwpcxzb.pt\n",
            "Resolving nyu.app.box.com (nyu.app.box.com)... 107.152.24.201\n",
            "Connecting to nyu.app.box.com (nyu.app.box.com)|107.152.24.201|:443... connected.\n",
            "HTTP request sent, awaiting response... 302 Found\n",
            "Location: https://dl2.boxcloud.com/d/1/b1!ojYVZ3M0iWln5aBpeAVp53zf-Xc8qdibeEf-F-8-vj4rvri5Syg2qIIZhsiLVrvW76mmA2DY1vUiBNudqZxfprcOz0o-9JHSAy2F-tSzFxBFUmF7TzoocCuPseSlcLb2AhpQdORjCsKeEwrQ45wS5y2sDEqP7aajtMZYG0FKD3tMdE8H73rT8MJe5VJwXBz684hhwmvGuf1qNXP_p2qMbkl-tPzzzsGXe6cqInUQ4BJUsscRzCRjqz_biAsM3BdGtG7A5sHsYOq70_d9f5xnxoQcUkoQBcXrJbqY3_bMXNdvXC0xDLEZ-E8VBdTABonMIP80uWskmZZxyAxj38ZjwDtPV_MLdbynut_AnOQyNkcHy8nFM2RUi3WQLK5YKHYPTcsRrI3i1VevkHQd16i9oYF1nT26X12QzcQeRZ16Fw8GNsGQB2APPgFRsgAMiPBJ9OnhQK1Dgm0UvRmW0AqDhIft2C6DwITTyMAqMf220Qty5F0QV0a4iF5xTUYXv_fjQfFF7cb8uZJ-u1eCRGJsuwGkYmuIWxBQzeOPbpXwCzPXkXl3jD5_Yl8ZX7Cy4asAFYAWoXHq6JYPnFliG-5iKGmHy1FuJNlmhbedCOBS5DsTd6nQFyJyHA39-aoSTe0n112np7BikBPMEO-6K2TnXat_C7OoOx08kKbJ-4W3LF1BvTJKukDKV7gDHT0W0HK1_dcRtNTHWI_losUY9NgRRsguabHWSVq86Q9WLbwL2YtFdfwulqfO4EQ1fl1G48MomqFFlb9-08U3o2FpovSzKljEX4rEvR_BIB6ykzajQ_MSuMjV9DadSm3-WBdH1dorx2OMKPv_6W3dmuYLV1oApXhdIQ9bgVNruFPCon4vHnL9b2xLJuUyiRA1dP4F0rXat36_XCTLzCGjy33YqbTTOhVxQwZDMHn4J0C9aPWv_JmtxqwTQEUORPEZ-CHHvKzrGTXxV_-OuhviVz4hLB4gJnF_hofKPSk57eW1pBQm_1GVz2Rvwu3wpakzyyCWk1qvCp3bGbVbcHAmsu99Na37vWRlbU9Gobi-au5cgBFPnFZGnDBK8VeY0tv8zyPAKzHyP1kGmR08UeV4-J-thZJINWNc_M0xHbB5iwq3SLgpruX2AUmlHAuop2F0eiK1Y8AuEV0erD5Yy7rDB6tfARQteOZ_zs0i3L6USUYrTE1M3Wtr0bkfOKsdeHBMIJmmWqxUlQ9mPvBotLex8goszYrtSZJPgKXU68eG4RPzg10lU3zBpgjQgSXauJNpmROj90FI-j6asEAL9JFNPDPBecfo5-nAN78lb08uJUjL-apj6haYmc9VNQ_u2c99XjcGI87La_FAV-xWOIT6r2_qz8GM6Px9xZ82ZpLJjKBkO4rPCRwkyN3avcLGAwCbqXWWkvGw8_U-ttD-rECRZvWPkGROPcF-wUbieST14EwNqTy5QQ../download [following]\n",
            "--2022-05-29 15:52:32--  https://dl2.boxcloud.com/d/1/b1!ojYVZ3M0iWln5aBpeAVp53zf-Xc8qdibeEf-F-8-vj4rvri5Syg2qIIZhsiLVrvW76mmA2DY1vUiBNudqZxfprcOz0o-9JHSAy2F-tSzFxBFUmF7TzoocCuPseSlcLb2AhpQdORjCsKeEwrQ45wS5y2sDEqP7aajtMZYG0FKD3tMdE8H73rT8MJe5VJwXBz684hhwmvGuf1qNXP_p2qMbkl-tPzzzsGXe6cqInUQ4BJUsscRzCRjqz_biAsM3BdGtG7A5sHsYOq70_d9f5xnxoQcUkoQBcXrJbqY3_bMXNdvXC0xDLEZ-E8VBdTABonMIP80uWskmZZxyAxj38ZjwDtPV_MLdbynut_AnOQyNkcHy8nFM2RUi3WQLK5YKHYPTcsRrI3i1VevkHQd16i9oYF1nT26X12QzcQeRZ16Fw8GNsGQB2APPgFRsgAMiPBJ9OnhQK1Dgm0UvRmW0AqDhIft2C6DwITTyMAqMf220Qty5F0QV0a4iF5xTUYXv_fjQfFF7cb8uZJ-u1eCRGJsuwGkYmuIWxBQzeOPbpXwCzPXkXl3jD5_Yl8ZX7Cy4asAFYAWoXHq6JYPnFliG-5iKGmHy1FuJNlmhbedCOBS5DsTd6nQFyJyHA39-aoSTe0n112np7BikBPMEO-6K2TnXat_C7OoOx08kKbJ-4W3LF1BvTJKukDKV7gDHT0W0HK1_dcRtNTHWI_losUY9NgRRsguabHWSVq86Q9WLbwL2YtFdfwulqfO4EQ1fl1G48MomqFFlb9-08U3o2FpovSzKljEX4rEvR_BIB6ykzajQ_MSuMjV9DadSm3-WBdH1dorx2OMKPv_6W3dmuYLV1oApXhdIQ9bgVNruFPCon4vHnL9b2xLJuUyiRA1dP4F0rXat36_XCTLzCGjy33YqbTTOhVxQwZDMHn4J0C9aPWv_JmtxqwTQEUORPEZ-CHHvKzrGTXxV_-OuhviVz4hLB4gJnF_hofKPSk57eW1pBQm_1GVz2Rvwu3wpakzyyCWk1qvCp3bGbVbcHAmsu99Na37vWRlbU9Gobi-au5cgBFPnFZGnDBK8VeY0tv8zyPAKzHyP1kGmR08UeV4-J-thZJINWNc_M0xHbB5iwq3SLgpruX2AUmlHAuop2F0eiK1Y8AuEV0erD5Yy7rDB6tfARQteOZ_zs0i3L6USUYrTE1M3Wtr0bkfOKsdeHBMIJmmWqxUlQ9mPvBotLex8goszYrtSZJPgKXU68eG4RPzg10lU3zBpgjQgSXauJNpmROj90FI-j6asEAL9JFNPDPBecfo5-nAN78lb08uJUjL-apj6haYmc9VNQ_u2c99XjcGI87La_FAV-xWOIT6r2_qz8GM6Px9xZ82ZpLJjKBkO4rPCRwkyN3avcLGAwCbqXWWkvGw8_U-ttD-rECRZvWPkGROPcF-wUbieST14EwNqTy5QQ../download\n",
            "Resolving dl2.boxcloud.com (dl2.boxcloud.com)... 74.112.186.128\n",
            "Connecting to dl2.boxcloud.com (dl2.boxcloud.com)|74.112.186.128|:443... connected.\n",
            "HTTP request sent, awaiting response... 200 OK\n",
            "Length: 67576905 (64M) [application/octet-stream]\n",
            "Saving to: ‘personachat_rnn_lm.pt’\n",
            "\n",
            "personachat_rnn_lm. 100%[===================>]  64.45M  17.9MB/s    in 3.6s    \n",
            "\n",
            "2022-05-29 15:52:37 (17.9 MB/s) - ‘personachat_rnn_lm.pt’ saved [67576905/67576905]\n",
            "\n",
            "--2022-05-29 15:52:37--  https://gist.githubusercontent.com/ethanjperez/304c855ffd0d6da4f8d6ce6a31ff25d2/raw/31cc574c2bc0fe52a9053793559142a938cb4e98/data.py\n",
            "Resolving gist.githubusercontent.com (gist.githubusercontent.com)... 185.199.108.133, 185.199.109.133, 185.199.110.133, ...\n",
            "Connecting to gist.githubusercontent.com (gist.githubusercontent.com)|185.199.108.133|:443... connected.\n",
            "HTTP request sent, awaiting response... 200 OK\n",
            "Length: 4921 (4.8K) [text/plain]\n",
            "Saving to: ‘data.py’\n",
            "\n",
            "data.py             100%[===================>]   4.81K  --.-KB/s    in 0s      \n",
            "\n",
            "2022-05-29 15:52:37 (59.9 MB/s) - ‘data.py’ saved [4921/4921]\n",
            "\n"
          ]
        }
      ]
    },
    {
      "cell_type": "markdown",
      "source": [
        "## N-gram modeling as classification\n",
        "\n",
        "In the previous n-gram language models lab, the probability of a word given a history ('prefix') was computed using n-gram **counts**.\n",
        "\n",
        "In this lab, our goal will be the same: modeling the probability of variable length sequences, $$p(x_1,\\ldots,x_T)=\\prod_{t=1}^T p(x_t|x_{<t}),$$\n",
        "\n",
        "by assuming that each word $x_t$ only depends on the preceding $n-1$ words, $$p(x_1,\\ldots,x_T)=\\prod_{t=1}^T p(x_t|x_{t-n+1},\\ldots,x_{t-1}).$$\n",
        "\n",
        "\n",
        "However, _instead of counts_, we will now use a **neural network** to **classify** each history, where each class is the next word.\n",
        "\n",
        "<img src=\"https://drive.google.com/uc?export=view&id=1NGMYOZTSe3dbmW9uZjwSouGmZqtUfC3q\" alt=\"Drawing\" style=\"width: 10px; height: 10px;\"/>\n",
        "\n",
        "\n",
        "\n",
        "[Diagram: modified from the [NLP Lecture Note](https://github.com/nyu-dl/NLP_DL_Lecture_Note/blob/master/lecture_note.pdf) by Kyunghyun Cho]"
      ],
      "metadata": {
        "id": "qb2F6P73BnvR"
      }
    },
    {
      "cell_type": "markdown",
      "source": [
        "## Modeling chat utterances\n",
        "\n",
        "We will build a **feed-forward neural n-gram model** to model chat utterances.\n",
        "\n",
        "### 1. Prepare the data\n",
        "\n",
        "To load and preprocess the data, we'll use utility functions from `data.py`."
      ],
      "metadata": {
        "id": "RffrZ4wTBxyl"
      }
    },
    {
      "cell_type": "code",
      "source": [
        "import data as data_utils"
      ],
      "metadata": {
        "id": "WSI1y2jNBuqI"
      },
      "execution_count": null,
      "outputs": []
    },
    {
      "cell_type": "code",
      "source": [
        "datasets = data_utils.load_personachat('./')\n",
        "dictionary = data_utils.Dictionary(datasets,include_valid=True)\n"
      ],
      "metadata": {
        "id": "SfSRSpZLB1uJ",
        "colab": {
          "base_uri": "https://localhost:8080/"
        },
        "outputId": "ef69ea84-aebc-4598-a7fb-2e400b99f4bb"
      },
      "execution_count": null,
      "outputs": [
        {
          "output_type": "stream",
          "name": "stderr",
          "text": [
            "100%|██████████| 133176/133176 [00:22<00:00, 6013.19it/s]\n",
            "100%|██████████| 16181/16181 [00:03<00:00, 4535.26it/s]\n"
          ]
        }
      ]
    },
    {
      "cell_type": "markdown",
      "source": [
        "Let's look at an example from the dataset (note that in addition to `train` we also have `valid`, `test` splits):"
      ],
      "metadata": {
        "id": "CgGTgkTkB36T"
      }
    },
    {
      "cell_type": "code",
      "source": [
        "index = 0\n",
        "split = 'train'\n",
        "encoded = dictionary.encode_token_seq(datasets[split][index])\n",
        "decoded = dictionary.decode_idx_seq(encoded)\n",
        "\n",
        "print(\"Dataset size %d (train), %d (valid), %d (test).\\n\" %\n",
        "     (len(datasets['train']), \n",
        "      len(datasets['valid']), \n",
        "      len(datasets['test'])))\n",
        "print(' '.join(datasets[split][index]))\n",
        "print(f'\\n word indices - {encoded}')\n",
        "print(f'\\n words - {decoded}')"
      ],
      "metadata": {
        "id": "mFMAKxILB5m_",
        "colab": {
          "base_uri": "https://localhost:8080/"
        },
        "outputId": "c78816d7-1de7-4ccc-de62-6e754d113507"
      },
      "execution_count": null,
      "outputs": [
        {
          "output_type": "stream",
          "name": "stdout",
          "text": [
            "Dataset size 133176 (train), 16181 (valid), 15608 (test).\n",
            "\n",
            "i am doing great except for the allergies .\n",
            "\n",
            " word indices - [4, 5, 6, 7, 8, 9, 10, 11, 12]\n",
            "\n",
            " words - ['i', 'am', 'doing', 'great', 'except', 'for', 'the', 'allergies', '.']\n"
          ]
        }
      ]
    },
    {
      "cell_type": "markdown",
      "source": [
        "Now we add `<bos>`, `<eos>`, and turn each **sequence** into **n-grams**:"
      ],
      "metadata": {
        "id": "iJS9K-viB7kq"
      }
    },
    {
      "cell_type": "code",
      "source": [
        "ngram_order = 4\n",
        "tokenized_datasets = data_utils.tokenize_dataset(\n",
        "    datasets, dictionary, ngram_order\n",
        ")\n",
        "ngram_datasets = data_utils.slice_into_ngrams(\n",
        "    tokenized_datasets, ngram_order\n",
        ")\n",
        "\n",
        "for i in range(10):\n",
        "    decoded = dictionary.decode_idx_seq(ngram_datasets[split][index+i])\n",
        "    print(f'\\n {i} - {decoded}')"
      ],
      "metadata": {
        "id": "RWQKiZJsB9C_",
        "colab": {
          "base_uri": "https://localhost:8080/"
        },
        "outputId": "22618e5b-6aa0-42e0-ce5d-401d66fe8d9e"
      },
      "execution_count": null,
      "outputs": [
        {
          "output_type": "stream",
          "name": "stdout",
          "text": [
            "\n",
            " 0 - ['<bos>', '<bos>', '<bos>', 'i']\n",
            "\n",
            " 1 - ['<bos>', '<bos>', 'i', 'am']\n",
            "\n",
            " 2 - ['<bos>', 'i', 'am', 'doing']\n",
            "\n",
            " 3 - ['i', 'am', 'doing', 'great']\n",
            "\n",
            " 4 - ['am', 'doing', 'great', 'except']\n",
            "\n",
            " 5 - ['doing', 'great', 'except', 'for']\n",
            "\n",
            " 6 - ['great', 'except', 'for', 'the']\n",
            "\n",
            " 7 - ['except', 'for', 'the', 'allergies']\n",
            "\n",
            " 8 - ['for', 'the', 'allergies', '.']\n",
            "\n",
            " 9 - ['the', 'allergies', '.', '<eos>']\n"
          ]
        }
      ]
    },
    {
      "cell_type": "markdown",
      "source": [
        "Finally, we create a **Pytorch** `Dataset` and `DataLoader` that can be used for training a neural network."
      ],
      "metadata": {
        "id": "2YfmZFL3B_K2"
      }
    },
    {
      "cell_type": "code",
      "source": [
        "from torch.utils.data import DataLoader\n",
        "\n",
        "datasets = {}\n",
        "dataloaders = {}\n",
        "for split, dataset in ngram_datasets.items():\n",
        "    dataset_ = data_utils.NgramDataset(dataset)\n",
        "    datasets[split] = dataset_\n",
        "    dataloaders[split] = DataLoader(\n",
        "        dataset_, \n",
        "        batch_size=2048, \n",
        "        shuffle=(split == 'train'), \n",
        "        collate_fn=data_utils.batchify # more to discover with rnn\n",
        "    )"
      ],
      "metadata": {
        "id": "rc7GAfU6CAj7"
      },
      "execution_count": null,
      "outputs": []
    },
    {
      "cell_type": "code",
      "source": [
        "# ngram_datasets['train']\n"
      ],
      "metadata": {
        "id": "yDg9sKwAZ18V"
      },
      "execution_count": null,
      "outputs": []
    },
    {
      "cell_type": "markdown",
      "source": [
        "### 2. Defining the model\n",
        "\n",
        "\n",
        "#### How do we represent the input $x_t$? \n",
        "\n",
        "Each $x_t$ is an **integer** (token id), and we transform it into a **vector** $f_{\\text{embed}}(x_t)\\in\\mathbb{R}^d$ using an `Embedding` layer."
      ],
      "metadata": {
        "id": "1NGLloM9CDFI"
      }
    },
    {
      "cell_type": "markdown",
      "source": [
        "An embedding layer serves as a differentiable look-up table. Given an integer token id, it returns a vector representation which we call an **embedding**."
      ],
      "metadata": {
        "id": "sZESWwVzCFK6"
      }
    },
    {
      "cell_type": "code",
      "source": [
        "import torch\n",
        "from torch.nn import Embedding\n",
        "\n",
        "lookup = Embedding(\n",
        "    num_embeddings=len(dictionary), \n",
        "    embedding_dim=16, \n",
        "    padding_idx=dictionary.get_id('<pad>') \n",
        ")"
      ],
      "metadata": {
        "id": "r6QWbjDOCG7U"
      },
      "execution_count": null,
      "outputs": []
    },
    {
      "cell_type": "code",
      "source": [
        "input_ = dictionary.encode_token_seq(['hello', 'world'])\n",
        "print(f'token ids: {[input_]}')\n",
        "\n",
        "input_embedded = lookup(torch.tensor([input_], dtype=torch.long))\n",
        "print(f'tokens embedding size: {input_embedded.size()}')\n",
        "\n",
        "print(\"embedding for 'hello' (179):\")\n",
        "input_embedded[0, 1].data"
      ],
      "metadata": {
        "id": "ALLyjstDCLq0",
        "colab": {
          "base_uri": "https://localhost:8080/"
        },
        "outputId": "11f1b5fa-a5e7-499e-abe4-ce7728d8a60f"
      },
      "execution_count": null,
      "outputs": [
        {
          "output_type": "stream",
          "name": "stdout",
          "text": [
            "token ids: [[179, 373]]\n",
            "tokens embedding size: torch.Size([1, 2, 16])\n",
            "embedding for 'hello' (179):\n"
          ]
        },
        {
          "output_type": "execute_result",
          "data": {
            "text/plain": [
              "tensor([ 0.3641,  0.8813,  0.7484,  0.6248,  0.2112,  0.7323,  0.3926,  1.4608,\n",
              "        -2.5254, -1.7819, -0.9071,  0.7439,  1.3611,  0.4554, -2.4464, -1.8101])"
            ]
          },
          "metadata": {},
          "execution_count": 24
        }
      ]
    },
    {
      "cell_type": "code",
      "source": [
        "# import torch\n",
        "# import torch.nn as nn\n",
        "# input1=input_embedded[0, 0].data.unsqueeze(0)\n",
        "# input2=input_embedded[0, 1].data.unsqueeze(0)\n",
        "# cos = nn.CosineSimilarity(dim=1, eps=1e-6)\n",
        "# output = cos(input1, input2)\n",
        "# output\n"
      ],
      "metadata": {
        "id": "wY1aKPd1fakd"
      },
      "execution_count": null,
      "outputs": []
    },
    {
      "cell_type": "markdown",
      "source": [
        "### Defining the neural network\n",
        "\n",
        "There are three components:\n",
        "1. `Embedding` $$\\large f_{embed}:\\text{vocab}\\rightarrow \\mathbb{R}^d$$\n",
        "2. Hidden layer $$\\large f_{hidden}: \\mathbb{R}^{nd}\\rightarrow \\mathbb{R}^h$$\n",
        "3. Projection $$\\large f_{project}: \\mathbb{R}^{h}\\rightarrow \\mathbb{R}^{|vocab|}$$\n",
        "\n",
        "The conditional distribution is then: $$\\large p(x_t|x_{t-1},\\ldots,x_{t-n-1})=\\text{softmax}(f_{project}(f_{hidden}(f_{embed}(x_{t-1},\\ldots,x_{t-n-1}))).$$\n",
        "\n",
        "\n",
        "We implement the hidden layer and projection with Pytorch `nn.Linear` layers:"
      ],
      "metadata": {
        "id": "TdZOnqzpCNkk"
      }
    },
    {
      "cell_type": "code",
      "source": [
        "import torch\n",
        "import torch.nn as nn\n",
        "\n",
        "class NeuralNgramLM(nn.Module):\n",
        "    def __init__(self, options):\n",
        "        super().__init__()\n",
        "        self.lookup = nn.Embedding(\n",
        "            num_embeddings=options['num_embeddings'], #len(dictionary)\n",
        "            embedding_dim=options['embedding_dim']\n",
        "        )\n",
        "        self.hidden_layer = nn.Linear(\n",
        "            options['input_size'], # embedding_dim * ngram_order\n",
        "            options['hidden_size'], \n",
        "            bias=True\n",
        "        )\n",
        "        self.projection = nn.Linear(\n",
        "            options['hidden_size'], \n",
        "            options['num_embeddings']\n",
        "        )\n",
        "        self.dropout = nn.Dropout(options['dropout_rate'])\n",
        "\n",
        "    def forward(self, inp):\n",
        "        embedded = self.lookup(inp)\n",
        "        embedded_timeflat = embedded.view(embedded.size(0), -1)\n",
        "        hidden_out = self.hidden_layer(embedded_timeflat)\n",
        "        hidden_out = torch.tanh(hidden_out)\n",
        "        hidden_out = self.dropout(hidden_out)\n",
        "        logits = self.projection(hidden_out)\n",
        "        return logits"
      ],
      "metadata": {
        "id": "mKEuxAC3COXy"
      },
      "execution_count": null,
      "outputs": []
    },
    {
      "cell_type": "markdown",
      "source": [
        "### 3. Train the model\n",
        "\n",
        "#### Initialize the model, criterion (loss), and optimizer"
      ],
      "metadata": {
        "id": "bIBQJi4pCQiN"
      }
    },
    {
      "cell_type": "code",
      "source": [
        "import os\n",
        "import torch\n",
        "import torch.nn as nn\n",
        "import torch.optim as optim\n",
        "\n",
        "load_pretrained = True # Set to true to skip training / save time\n",
        "\n",
        "num_gpus = torch.cuda.device_count()\n",
        "if num_gpus > 0:\n",
        "    current_device = 'cuda'\n",
        "else:\n",
        "    current_device = 'cpu'\n",
        "\n",
        "if load_pretrained:\n",
        "    if not os.path.exists('personachat_ffnn_lm.pt'):\n",
        "        raise EOFError('No model downloaded!')\n",
        "    model_dict = torch.load(\n",
        "        'personachat_ffnn_lm.pt',\n",
        "        map_location=torch.device(current_device)\n",
        "    )\n",
        "    \n",
        "    options = model_dict['options']\n",
        "    model = NeuralNgramLM(options).to(current_device)\n",
        "    model.load_state_dict(\n",
        "        model_dict['model_dict']\n",
        "    )\n",
        "    \n",
        "else:\n",
        "    embedding_dim = 256\n",
        "    ngram_order = 3 # why 3 but not 4?\n",
        "    input_size = embedding_dim * ngram_order\n",
        "    hidden_size = 512\n",
        "\n",
        "    options = {\n",
        "        'num_embeddings': len(dictionary),\n",
        "        'embedding_dim': embedding_dim,\n",
        "        'input_size': input_size,\n",
        "        'hidden_size': hidden_size,\n",
        "        'dropout_rate': 0.25,\n",
        "    }\n",
        "    model = NeuralNgramLM(options).to(current_device)\n",
        "\n",
        "criterion = nn.CrossEntropyLoss(\n",
        "    ignore_index=dictionary.get_id('<pad>'), \n",
        "    reduction='sum'\n",
        ")\n",
        "\n",
        "model_parameters = [p for p in model.parameters() if p.requires_grad]\n",
        "optimizer = optim.SGD(model_parameters, lr=0.01, momentum=0.99)"
      ],
      "metadata": {
        "id": "zxeUoJ-ICSjN"
      },
      "execution_count": null,
      "outputs": []
    },
    {
      "cell_type": "code",
      "source": [
        "model"
      ],
      "metadata": {
        "colab": {
          "base_uri": "https://localhost:8080/"
        },
        "id": "22j6oHfS6SQV",
        "outputId": "8768c712-2ce3-46c3-b263-d6e14374ca31"
      },
      "execution_count": null,
      "outputs": [
        {
          "output_type": "execute_result",
          "data": {
            "text/plain": [
              "NeuralNgramLM(\n",
              "  (lookup): Embedding(20089, 256)\n",
              "  (hidden_layer): Linear(in_features=768, out_features=512, bias=True)\n",
              "  (projection): Linear(in_features=512, out_features=20089, bias=True)\n",
              "  (dropout): Dropout(p=0.25, inplace=False)\n",
              ")"
            ]
          },
          "metadata": {},
          "execution_count": 27
        }
      ]
    },
    {
      "cell_type": "markdown",
      "source": [
        "#### Training Loop"
      ],
      "metadata": {
        "id": "moZlFmr4CWA1"
      }
    },
    {
      "cell_type": "code",
      "source": [
        "# nn.CrossEntropyLoss??"
      ],
      "metadata": {
        "id": "yB3tIoOpyQ5j"
      },
      "execution_count": null,
      "outputs": []
    },
    {
      "cell_type": "code",
      "source": [
        "# training takes about 50 minutes for 65 epochs\n",
        "plot_cache = []\n",
        "\n",
        "if not load_pretrained:\n",
        "    for epoch_number in range(65):\n",
        "        avg_loss = -1\n",
        "\n",
        "        # -- Training\n",
        "        model.train()\n",
        "\n",
        "        train_loss_cache = 0\n",
        "        train_non_pad_tokens_cache = 0\n",
        "\n",
        "        # == Iterate through batches from the dataset.\n",
        "        for i, (inp, target) in enumerate(dataloaders['train']):\n",
        "            optimizer.zero_grad()\n",
        "            inp = inp.to(current_device)\n",
        "            target = target.to(current_device)\n",
        "            \n",
        "            # == Forward pass.\n",
        "            logits = model(inp)\n",
        "\n",
        "            # == Computed (summed) loss.\n",
        "            loss = criterion(logits.view(-1, logits.size(-1)), target.view(-1))\n",
        "            train_loss_cache += loss.item()\n",
        "\n",
        "            # == Compute the number of non `<pad>` tokens in the target.\n",
        "            non_pad_tokens = target.view(-1).ne(dictionary.get_id('<pad>')).sum().item()\n",
        "\n",
        "            # == Normalize the (summed) loss so that it is an average.\n",
        "            loss /= non_pad_tokens  \n",
        "            loss.backward()\n",
        "            optimizer.step()\n",
        "\n",
        "            train_non_pad_tokens_cache += non_pad_tokens\n",
        "            if i % 100 == 0:\n",
        "                avg_loss = train_loss_cache/train_non_pad_tokens_cache\n",
        "                print('Step {} avg train loss = {:.{prec}f}'.format(i, avg_loss, prec=4))\n",
        "\n",
        "        # -- Validation\n",
        "        valid_loss_cache = 0\n",
        "        valid_non_pad_tokens_cache = 0\n",
        "\n",
        "        model.eval()\n",
        "        with torch.no_grad():\n",
        "            non_pad_tokens = 0\n",
        "            for i, (inp, target) in enumerate(dataloaders['valid']):\n",
        "                inp = inp.to(current_device)\n",
        "                target = target.to(current_device)\n",
        "\n",
        "                # == Forward pass and loss\n",
        "                logits = model(inp)\n",
        "                loss = criterion(logits.view(-1, logits.size(-1)), target.view(-1))\n",
        "                valid_loss_cache += loss.item()            \n",
        "\n",
        "                # == Normalize the loss\n",
        "                non_pad_tokens = target.view(-1).ne(dictionary.get_id('<pad>')).sum().item()\n",
        "                valid_non_pad_tokens_cache += non_pad_tokens\n",
        "\n",
        "            avg_val_loss = valid_loss_cache / valid_non_pad_tokens_cache\n",
        "            print('Validation loss after {} epoch = {:.{prec}f}'.format(epoch_number, avg_val_loss, prec=4))\n",
        "\n",
        "        plot_cache.append((avg_loss, avg_val_loss))"
      ],
      "metadata": {
        "id": "IoUCnwW6CXiK"
      },
      "execution_count": null,
      "outputs": []
    },
    {
      "cell_type": "code",
      "source": [
        "if load_pretrained:\n",
        "    plot_cache = model_dict['loss_cache']\n",
        "\n",
        "else:# Saving the model\n",
        "    torch.save({\n",
        "        'options': options,\n",
        "        'loss_cache': plot_cache,\n",
        "        'model_dict': model.state_dict()\n",
        "    }, './persona_ffnn_lm.pt')"
      ],
      "metadata": {
        "id": "PNMnB2xKCZLR"
      },
      "execution_count": null,
      "outputs": []
    },
    {
      "cell_type": "code",
      "source": [
        "import matplotlib.pyplot as plt\n",
        "import numpy\n",
        "\n",
        "epochs = numpy.array(list(range(len(plot_cache))))\n",
        "plt.plot(epochs, [i[0] for i in plot_cache], label='Train loss')\n",
        "plt.plot(epochs, [i[1] for i in plot_cache], label='Valid loss')\n",
        "\n",
        "\n",
        "plt.legend()\n",
        "plt.title('Loss curves')\n",
        "plt.show()"
      ],
      "metadata": {
        "colab": {
          "base_uri": "https://localhost:8080/",
          "height": 281
        },
        "id": "eApnTcLYJPjK",
        "outputId": "9b306d66-4dde-45cd-8d4c-18f93a1c42d9"
      },
      "execution_count": null,
      "outputs": [
        {
          "output_type": "display_data",
          "data": {
            "text/plain": [
              "<Figure size 432x288 with 1 Axes>"
            ],
            "image/png": "[encoded data removed]"
          },
          "metadata": {
            "needs_background": "light"
          }
        }
      ]
    },
    {
      "cell_type": "markdown",
      "source": [
        "### 4. Evaluate the model\n",
        "\n"
      ],
      "metadata": {
        "id": "Qw-GivnLCdEh"
      }
    },
    {
      "cell_type": "markdown",
      "source": [
        "#### Recap: Perplexity\n",
        "Recall **perplexity** from the preceding lab:\n",
        "\n",
        "\\begin{align}\n",
        "\\large \\text{ppl}(p, D) &\\large = 2^{-\\frac{1}{N_{total}}\\log_2 p(D)}\n",
        "\\end{align}\n",
        "\n",
        "where $D=\\{(w_1,\\ldots,w_{N_i})_i\\}_{i=1}^M$ is a dataset of $M$ sequences with total length $N_{\\text{total}}=\\sum_{i}N_i$.\n",
        "\n",
        "#### Computing perplexity\n",
        "\n",
        "Our model's loss is the average negative loglikelihood of our data over all sequences in the corpus \n",
        "\n",
        "\n",
        "\\begin{align}\n",
        "\\large \\text{CE}(p, D) &\\large = -\\frac{1}{N_{total}}\\log_e p(D)\n",
        "\\end{align}\n",
        "\n",
        "\n",
        "\n",
        "We define perplexity using the **base 2** logarithm but `torch.log` uses base `e`. To **convert to base 2** we use: `log_2 p = log_e p / log_e 2`. Then we can see that perplexity is two to the power of the model loss.\n",
        "\n"
      ],
      "metadata": {
        "id": "BkzhevI2360G"
      }
    },
    {
      "cell_type": "code",
      "source": [
        "# plt.plot(epochs,[2**i[0] for i in  plot_cache])      "
      ],
      "metadata": {
        "id": "vIxVRBxnCn5r"
      },
      "execution_count": null,
      "outputs": []
    },
    {
      "cell_type": "code",
      "source": [
        "import matplotlib.pyplot as plt\n",
        "import numpy\n",
        "\n",
        "epochs = numpy.array(list(range(len(plot_cache))))\n",
        "plt.plot(epochs, [2**(i[0]/numpy.log(2)) for i in plot_cache], label='Train ppl')\n",
        "plt.plot(epochs, [2**(i[1]/numpy.log(2)) for i in plot_cache], label='Valid ppl')\n",
        "\n",
        "plt.legend()\n",
        "plt.title('PPL curves')\n",
        "plt.show()"
      ],
      "metadata": {
        "id": "3Z-x9rGMCe6u",
        "colab": {
          "base_uri": "https://localhost:8080/",
          "height": 281
        },
        "outputId": "57fe12fc-ed02-43a7-af00-09666462b734"
      },
      "execution_count": null,
      "outputs": [
        {
          "output_type": "display_data",
          "data": {
            "text/plain": [
              "<Figure size 432x288 with 1 Axes>"
            ],
            "image/png": "[encoded data removed]"
          },
          "metadata": {
            "needs_background": "light"
          }
        }
      ]
    },
    {
      "cell_type": "code",
      "source": [
        "import numpy as np"
      ],
      "metadata": {
        "id": "HysDDZ2UD1aU"
      },
      "execution_count": null,
      "outputs": []
    },
    {
      "cell_type": "code",
      "source": [
        "val_ppl = np.min([2**(i[1]/numpy.log(2)) for i in plot_cache])\n",
        "k = np.argmin([2**(i[1]/numpy.log(2)) for i in plot_cache])\n",
        "train_ppl = 2**(plot_cache[k][0]/numpy.log(2))\n",
        "\n",
        "val_df = val_df.append({'model': 'ffnn (n=4)', 'ppl': val_ppl}, ignore_index=True)\n",
        "train_df = train_df.append({'model': 'ffnn (n=4)', 'ppl': train_ppl}, ignore_index=True)\n",
        "\n",
        "print('===== Train ======')\n",
        "print(train_df)\n",
        "print('==== Validation ======')\n",
        "print(val_df)"
      ],
      "metadata": {
        "colab": {
          "base_uri": "https://localhost:8080/"
        },
        "id": "K3GGt3pqxATC",
        "outputId": "1f630c24-2850-44b4-9f4c-b6d8a1a19bf7"
      },
      "execution_count": null,
      "outputs": [
        {
          "output_type": "stream",
          "name": "stdout",
          "text": [
            "===== Train ======\n",
            "         model        ppl\n",
            "0  kenlm (n=2)  39.924842\n",
            "1  kenlm (n=3)  15.462037\n",
            "2  kenlm (n=4)   8.919611\n",
            "3   ffnn (n=4)  29.426679\n",
            "==== Validation ======\n",
            "         model        ppl\n",
            "0  kenlm (n=2)  59.187973\n",
            "1  kenlm (n=3)  44.977117\n",
            "2  kenlm (n=4)  43.218831\n",
            "3   ffnn (n=4)  43.649380\n"
          ]
        }
      ]
    },
    {
      "cell_type": "markdown",
      "source": [
        "#### Conditional probability queries\n",
        "We can now query the model for conditional probabilities:\n",
        "\n",
        "\\begin{align}\n",
        "\\large p(x_t|x_{t-1},x_{t-2},x_{t-3}) \n",
        "\\end{align} "
      ],
      "metadata": {
        "id": "Mzd_4LKLCi-G"
      }
    },
    {
      "cell_type": "code",
      "source": [
        "import torch\n",
        "\n",
        "def next_token_probabilities(prefix, token):\n",
        "    inp = dictionary.encode_token_seq(prefix.split(' '))\n",
        "    with torch.no_grad():\n",
        "        model.eval()\n",
        "        logits = model(\n",
        "            torch.tensor([inp], dtype=torch.long).to(current_device)\n",
        "        )\n",
        "    token_id = dictionary.get_id(token)\n",
        "    p_next_token = torch.softmax(logits, dim=-1)\n",
        "    return p_next_token[0, token_id]\n",
        "\n",
        "prefix = '<bos> my pet'\n",
        "\n",
        "for w in ['dog', 'zebra', 'lion', 'donut', 'velociraptor']:\n",
        "    prob = next_token_probabilities(prefix, w)\n",
        "    print('p( %s  | %s )\\t= %.3E' % (w, prefix, prob))\n",
        "    "
      ],
      "metadata": {
        "id": "sdHKl2SQCjvZ",
        "colab": {
          "base_uri": "https://localhost:8080/"
        },
        "outputId": "2f4c3ada-cfee-4f82-c537-a0f0eda6fa87"
      },
      "execution_count": null,
      "outputs": [
        {
          "output_type": "stream",
          "name": "stdout",
          "text": [
            "p( dog  | <bos> my pet )\t= 9.364E-03\n",
            "p( zebra  | <bos> my pet )\t= 7.752E-03\n",
            "p( lion  | <bos> my pet )\t= 9.483E-06\n",
            "p( donut  | <bos> my pet )\t= 1.429E-07\n",
            "p( velociraptor  | <bos> my pet )\t= 1.200E-07\n"
          ]
        }
      ]
    },
    {
      "cell_type": "markdown",
      "source": [
        "\n",
        "\n",
        "And sort by the highest probability next-tokens:\n",
        "\n",
        "$\\large \\texttt{sort}(p(\\cdot|\\underbrace{x_{<t}}_{\\text{prefix}}))$"
      ],
      "metadata": {
        "id": "iFrEGdX1Cl5C"
      }
    },
    {
      "cell_type": "code",
      "source": [
        "def get_top_token_given_prefix(prefix, top=10):\n",
        "    inp = dictionary.encode_token_seq(prefix.split(' '))\n",
        "    with torch.no_grad():\n",
        "        model.eval()\n",
        "        logits = model(\n",
        "            torch.tensor([inp], dtype=torch.long).to(current_device)\n",
        "        )\n",
        "        \n",
        "    p_next_token = torch.softmax(logits, dim=-1)\n",
        "    sorted_probs, sorted_token_ids = torch.topk(p_next_token[0], top)\n",
        "\n",
        "    for i in range(sorted_token_ids.size(0)):\n",
        "        print('p( %s  | %s )\\t= %.5f' % \n",
        "              (dictionary.decode_idx_seq([sorted_token_ids[i]])[0], \n",
        "               prefix, \n",
        "               sorted_probs[i])\n",
        "        )\n",
        "\n",
        "get_top_token_given_prefix('<bos> my pet')  # 'the weather is'  '<bos> <bos> hello'"
      ],
      "metadata": {
        "id": "AHjowIckCoNr",
        "colab": {
          "base_uri": "https://localhost:8080/"
        },
        "outputId": "4967edf4-7d2f-496e-c924-917162ec33a5"
      },
      "execution_count": null,
      "outputs": [
        {
          "output_type": "stream",
          "name": "stdout",
          "text": [
            "p( panda  | <bos> my pet )\t= 0.10494\n",
            "p( snake  | <bos> my pet )\t= 0.07481\n",
            "p( is  | <bos> my pet )\t= 0.06312\n",
            "p( lizard  | <bos> my pet )\t= 0.05560\n",
            "p( beta  | <bos> my pet )\t= 0.04612\n",
            "p( iguana  | <bos> my pet )\t= 0.03953\n",
            "p( cat  | <bos> my pet )\t= 0.03552\n",
            "p( skunk  | <bos> my pet )\t= 0.03324\n",
            "p( iguanas  | <bos> my pet )\t= 0.02227\n",
            "p( dogs  | <bos> my pet )\t= 0.01664\n"
          ]
        }
      ]
    },
    {
      "cell_type": "markdown",
      "metadata": {
        "id": "Eb9Va-p4bj96"
      },
      "source": [
        "# Recurrent neural network language model\n",
        "Recall that in **language modeling**, we want to model the probability of variable length sequences, $$p(x_1,\\ldots,x_T)=\\prod_{t=1}^T p(x_t|x_{<t}).$$\n",
        "\n",
        "*Unlike n-gram models*, we will now define a model that allows a **full history** $x_{<t}$.\n",
        "\n",
        "To do so, we will use a function called a **recurrent neural network** to compute each distribution $p(x_t|x_{<t})$:\n",
        "\\begin{align}\n",
        "h_t &= f^{\\text{RNN}}_{\\theta}(x_{t-1}, h_{t-1}) & \\mathbb{R}^d\\\\\n",
        "s_t &= Wh_t & \\mathbb{R}^{\\text{|vocab|}}\\\\\n",
        "p_{\\theta}(x_t|x_{<t}) &= \\text{softmax}(s_t) & [0,1]^{\\text{|vocab|}}\n",
        "\\end{align}\n",
        "\n",
        "where $h_t$ is an internal (hidden) state of the model at time step $t$, and $x_t$ is an input at time step $t$.\n",
        "\n",
        "<img src=\"https://i.stack.imgur.com/SjnTl.png\" style=\"width:20%\">"
      ]
    },
    {
      "cell_type": "markdown",
      "metadata": {
        "id": "tKflqMtfEMEW"
      },
      "source": [
        "\n",
        "In the simplest form used in practice, $f_{\\theta}^{\\text{RNN}}$ is defined as:\n",
        " $$f_{\\theta}^{\\text{RNN}}(x_{t-1}, h_{t-1}) = \\text{tanh}(a_t)\\\\ a_t = b + W \\cdot h_{t-1} + U \\cdot x_{t-1},$$\n",
        " \n",
        "but there are other variants (e.g. [GRU](https://arxiv.org/pdf/1406.1078.pdf), [LSTM](https://www.bioinf.jku.at/publications/older/2604.pdf)).\n",
        "\n",
        "Similar to the n-gram neural network above, the goal at time $t$ is to **predict the next token $x_t$**."
      ]
    },
    {
      "cell_type": "markdown",
      "metadata": {
        "id": "gQAwYSOMEMEY"
      },
      "source": [
        "### Pytorch implementation: `RNNCell`"
      ]
    },
    {
      "cell_type": "code",
      "metadata": {
        "id": "z9tYnhzWEMEY"
      },
      "source": [
        "import torch\n",
        "from torch.nn import RNNCell"
      ],
      "execution_count": null,
      "outputs": []
    },
    {
      "cell_type": "code",
      "metadata": {
        "id": "MkhWUxAFEMEZ"
      },
      "source": [
        "hidden_size = 16\n",
        "embedding_dim = 8\n",
        "\n",
        "rnn_cell = RNNCell(embedding_dim, hidden_size)"
      ],
      "execution_count": null,
      "outputs": []
    },
    {
      "cell_type": "code",
      "metadata": {
        "colab": {
          "base_uri": "https://localhost:8080/"
        },
        "outputId": "49f02ea5-5ae2-4ec7-8527-158d200a4067",
        "id": "1exsiXy5EMEZ"
      },
      "source": [
        "hidden = torch.zeros(1, hidden_size)\n",
        "print(hidden)\n",
        "print(hidden.size())"
      ],
      "execution_count": null,
      "outputs": [
        {
          "output_type": "stream",
          "name": "stdout",
          "text": [
            "tensor([[0., 0., 0., 0., 0., 0., 0., 0., 0., 0., 0., 0., 0., 0., 0., 0.]])\n",
            "torch.Size([1, 16])\n"
          ]
        }
      ]
    },
    {
      "cell_type": "code",
      "metadata": {
        "colab": {
          "base_uri": "https://localhost:8080/"
        },
        "outputId": "b00496a0-356a-43e3-8a90-7132539d8395",
        "id": "8KeouUvVEMEb"
      },
      "source": [
        "random_input = torch.rand(1, embedding_dim)\n",
        "print(random_input)\n",
        "print(random_input.size())"
      ],
      "execution_count": null,
      "outputs": [
        {
          "output_type": "stream",
          "name": "stdout",
          "text": [
            "tensor([[0.0385, 0.8675, 0.8499, 0.7433, 0.1418, 0.7487, 0.7757, 0.5932]])\n",
            "torch.Size([1, 8])\n"
          ]
        }
      ]
    },
    {
      "cell_type": "code",
      "metadata": {
        "colab": {
          "base_uri": "https://localhost:8080/"
        },
        "outputId": "ae3b905c-88b0-4e25-8de7-60dbc5ba08b9",
        "id": "Yu66uSOEEMEc"
      },
      "source": [
        "hidden = rnn_cell(random_input, hidden)\n",
        "print(hidden)\n",
        "print(hidden.size())"
      ],
      "execution_count": null,
      "outputs": [
        {
          "output_type": "stream",
          "name": "stdout",
          "text": [
            "tensor([[ 0.0258, -0.4581, -0.2640, -0.3707, -0.4010,  0.0898, -0.2330, -0.4072,\n",
            "         -0.0855, -0.0678, -0.3161, -0.0085, -0.0994,  0.5357,  0.2008, -0.0230]],\n",
            "       grad_fn=<TanhBackward0>)\n",
            "torch.Size([1, 16])\n"
          ]
        }
      ]
    },
    {
      "cell_type": "markdown",
      "metadata": {
        "id": "L4QaNlS2bj-O"
      },
      "source": [
        "### Pytorch implementation: `RNN`\n",
        "\n",
        "`RNNCell` is a building block of an RNN model. The Pytorch `RNN` model supports multi-layer networks by creating separate `RNNCell`s for every layer. \n",
        "\n",
        "`RNN` can also process a whole sequence of data by iteratively applying `RNNCell`."
      ]
    },
    {
      "cell_type": "code",
      "metadata": {
        "id": "FCvackw4bj-O"
      },
      "source": [
        "from torch.nn import RNNBase, RNN"
      ],
      "execution_count": null,
      "outputs": []
    },
    {
      "cell_type": "markdown",
      "metadata": {
        "id": "LHqYjtCYbj--"
      },
      "source": [
        "### 1. Define the model"
      ]
    },
    {
      "cell_type": "code",
      "metadata": {
        "id": "IdlUbyiybj_A"
      },
      "source": [
        "import torch.nn as nn\n",
        "\n",
        "class RNNLanguageModel(nn.Module):\n",
        "    def __init__(self, options):\n",
        "        super().__init__()\n",
        "        \n",
        "        self.lookup = nn.Embedding(\n",
        "            num_embeddings=options['num_embeddings'], \n",
        "            embedding_dim=options['embedding_dim'], \n",
        "            padding_idx=options['padding_idx']\n",
        "        )\n",
        "        self.rnn = nn.RNN(\n",
        "            options['input_size'], \n",
        "            options['hidden_size'], \n",
        "            options['num_layers'], \n",
        "            dropout=options['rnn_dropout'], \n",
        "            batch_first=True\n",
        "        )\n",
        "        self.projection = nn.Linear(\n",
        "            options['hidden_size'], \n",
        "            options['num_embeddings']\n",
        "        )\n",
        "        \n",
        "    def forward(self, token_ids):\n",
        "        embeddings = self.lookup(token_ids)\n",
        "        output, hidden = self.rnn(embeddings)\n",
        "        logits = self.projection(output) \n",
        "        return logits"
      ],
      "execution_count": null,
      "outputs": []
    },
    {
      "cell_type": "markdown",
      "metadata": {
        "id": "dNa76QS89rKd"
      },
      "source": [
        "### 2. Prepare the data"
      ]
    },
    {
      "cell_type": "markdown",
      "metadata": {
        "id": "lto4BASI9rKd"
      },
      "source": [
        "#### Dataset and Dataloader\n",
        "\n",
        "See `data_utils.py` for the implementation. "
      ]
    },
    {
      "cell_type": "code",
      "metadata": {
        "colab": {
          "base_uri": "https://localhost:8080/"
        },
        "id": "lFvJKaJn9rKe",
        "outputId": "caf4b704-024d-48a9-a248-15dbcaf0dc1f"
      },
      "source": [
        "datasets_ = data_utils.load_personachat('./')\n",
        "dictionary = data_utils.Dictionary(datasets_, include_valid=True)\n",
        "datasets_ = data_utils.tokenize_dataset(datasets_, dictionary)\n",
        "\n",
        "datasets = {}\n",
        "for split, dataset in datasets_.items():\n",
        "    datasets[split] = data_utils.TensoredDataset(dataset, dictionary.get_id('<pad>'))"
      ],
      "execution_count": null,
      "outputs": [
        {
          "output_type": "stream",
          "name": "stderr",
          "text": [
            "100%|██████████| 133176/133176 [00:22<00:00, 5893.82it/s]\n",
            "100%|██████████| 16181/16181 [00:03<00:00, 4360.13it/s]\n"
          ]
        }
      ]
    },
    {
      "cell_type": "markdown",
      "metadata": {
        "id": "uBfyzGrds2oo"
      },
      "source": [
        "\n",
        "Remember that for model, we want to tackle the following prediction problem:\n",
        "\n",
        "- The **input** is now a **full sequence**.\n",
        "- The **output** is the **next token** for each position of the input:\n",
        "\n"
      ]
    },
    {
      "cell_type": "markdown",
      "metadata": {
        "id": "cppZ7lr0vVte"
      },
      "source": [
        "![image.png](data:image/png;base64,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)"
      ]
    },
    {
      "cell_type": "markdown",
      "metadata": {
        "id": "73knpjdqvXgJ"
      },
      "source": [
        "We see that language modeling has a nice property where the labels are simply a 1-shifted version of our input. As long as we ensure that the model has no way of cheating and making use of future labels, it will not be an issue.\n",
        "\n",
        "In the case of RNNs, there is no cheating because the inputs are processed sequentially. We will see in the case of later models like Transformers that we will need special handling to prevent this."
      ]
    },
    {
      "cell_type": "code",
      "metadata": {
        "colab": {
          "base_uri": "https://localhost:8080/"
        },
        "id": "H-DNzuTa9rKe",
        "outputId": "33dfa4f6-9a00-40fe-bdf6-59af79db37c7"
      },
      "source": [
        "inp, out = datasets['train'][0]\n",
        "\n",
        "print(\"Input: \\n\\t%s\\n\\t(%s)\" %\n",
        "      (inp.data[0], dictionary.decode_idx_seq(inp.data[0])))\n",
        "\n",
        "print(\"Output: \\n\\t%s\\n\\t(%s)\" %\n",
        "      (out.data[0], dictionary.decode_idx_seq(out.data[0])))"
      ],
      "execution_count": null,
      "outputs": [
        {
          "output_type": "stream",
          "name": "stdout",
          "text": [
            "Input: \n",
            "\ttensor([ 0,  4,  5,  6,  7,  8,  9, 10, 11, 12])\n",
            "\t(['<bos>', 'i', 'am', 'doing', 'great', 'except', 'for', 'the', 'allergies', '.'])\n",
            "Output: \n",
            "\ttensor([ 4,  5,  6,  7,  8,  9, 10, 11, 12,  1])\n",
            "\t(['i', 'am', 'doing', 'great', 'except', 'for', 'the', 'allergies', '.', '<eos>'])\n"
          ]
        }
      ]
    },
    {
      "cell_type": "markdown",
      "metadata": {
        "id": "hCr4299Y9rKe"
      },
      "source": [
        "#### Pytorch dataloader"
      ]
    },
    {
      "cell_type": "code",
      "metadata": {
        "id": "du7DfjTR9rKe"
      },
      "source": [
        "dataloaders = {}\n",
        "batch_size = 128\n",
        "\n",
        "for split, dataset in datasets.items():\n",
        "    dataloaders[split] = DataLoader(\n",
        "        dataset, \n",
        "        batch_size=batch_size, \n",
        "        shuffle=True, \n",
        "        collate_fn=dataset.pad_collate_fn  # pads the sequences in the batch\n",
        "    )"
      ],
      "execution_count": null,
      "outputs": []
    },
    {
      "cell_type": "markdown",
      "metadata": {
        "id": "kftuYCqE9rKe"
      },
      "source": [
        "#### Padding to handle variable sequence lengths:"
      ]
    },
    {
      "cell_type": "code",
      "metadata": {
        "colab": {
          "base_uri": "https://localhost:8080/"
        },
        "id": "gitvpXaE9rKe",
        "outputId": "4b7b02e3-8479-45ac-de56-f5917ea3a323"
      },
      "source": [
        "inp, target = next(dataloaders['train'].__iter__())\n",
        "\n",
        "print(\"Batch size %s\" % str(inp.shape))\n",
        "print(\"Batch element 1: \\n\\t%s\\n\\t(%s)\" %\n",
        "      (inp.data[0], ' '.join(dictionary.decode_idx_seq(inp.data[0]))))\n",
        "print(\"Batch element 2: \\n\\t%s\\n\\t(%s)\" %\n",
        "      (inp.data[1], ' '.join(dictionary.decode_idx_seq(inp.data[1]))))"
      ],
      "execution_count": null,
      "outputs": [
        {
          "output_type": "stream",
          "name": "stdout",
          "text": [
            "Batch size torch.Size([128, 22])\n",
            "Batch element 1: \n",
            "\ttensor([   0,  179,   43,    4,    5,   13, 5354,   52,  818,  295,   43,   72,\n",
            "          35,  308,   17,   12,    2,    2,    2,    2,    2,    2])\n",
            "\t(<bos> hello , i am a surfer with blue hair , nice to meet you . <pad> <pad> <pad> <pad> <pad> <pad>)\n",
            "Batch element 2: \n",
            "\ttensor([   0,  261,  182,   43,   66,   39,   17,   24,    4,  877,  750,    9,\n",
            "          13,  467, 1188,  509,   78,    4,  224,    7,   12,    2])\n",
            "\t(<bos> good morning , how are you ? i came back for a 2 mile hike and i feel great . <pad>)\n"
          ]
        }
      ]
    },
    {
      "cell_type": "markdown",
      "metadata": {
        "id": "8OUW5bVw9rKf"
      },
      "source": [
        "### 3. Train the model\n",
        "\n",
        "#### Initializing model, criterion, and optimizer (similar to the feedforward model)"
      ]
    },
    {
      "cell_type": "code",
      "metadata": {
        "id": "zQB-RbIhbj_B"
      },
      "source": [
        "import torch\n",
        "import torch.nn as nn\n",
        "import torch.optim as optim\n",
        "\n",
        "load_pretrained = True # option of working with a pretrained model\n",
        "\n",
        "num_gpus = torch.cuda.device_count()\n",
        "if num_gpus > 0:\n",
        "    current_device = 'cuda'\n",
        "else:\n",
        "    current_device = 'cpu'\n",
        "\n",
        "if load_pretrained:\n",
        "    if not os.path.exists('personachat_rnn_lm.pt'):\n",
        "        raise EOFError('Download pretrained model!')\n",
        "    model_dict = torch.load(\n",
        "        'personachat_rnn_lm.pt',\n",
        "        map_location=torch.device(current_device)\n",
        "    )\n",
        "    \n",
        "    options = model_dict['options']\n",
        "    model = RNNLanguageModel(options).to(current_device)\n",
        "    model.load_state_dict(model_dict['model_dict'])\n",
        "    \n",
        "else:\n",
        "    embedding_size = 256\n",
        "    hidden_size = 512\n",
        "    num_layers = 3\n",
        "    rnn_dropout = 0.3\n",
        "\n",
        "    options = {\n",
        "        'num_embeddings': len(dictionary),\n",
        "        'embedding_dim': embedding_size,\n",
        "        'padding_idx': dictionary.get_id('<pad>'),\n",
        "        'input_size': embedding_size,\n",
        "        'hidden_size': hidden_size,\n",
        "        'num_layers': num_layers,\n",
        "        'rnn_dropout': rnn_dropout,\n",
        "    }\n",
        "    model = RNNLanguageModel(options).to(current_device)\n",
        "    \n",
        "\n",
        "criterion = nn.CrossEntropyLoss(\n",
        "    ignore_index=dictionary.get_id('<pad>'), #ignore padding indices \n",
        "    reduction='sum'\n",
        ")\n",
        "\n",
        "model_parameters = [p for p in model.parameters() if p.requires_grad]\n",
        "optimizer = optim.SGD(model_parameters, lr=0.001, momentum=0.999)"
      ],
      "execution_count": null,
      "outputs": []
    },
    {
      "cell_type": "code",
      "metadata": {
        "colab": {
          "base_uri": "https://localhost:8080/"
        },
        "id": "qmMLIrhjbj_D",
        "outputId": "43da28f0-2ab1-4e35-d9f2-1699aa4936ee"
      },
      "source": [
        "model"
      ],
      "execution_count": null,
      "outputs": [
        {
          "output_type": "execute_result",
          "data": {
            "text/plain": [
              "RNNLanguageModel(\n",
              "  (lookup): Embedding(20089, 256, padding_idx=2)\n",
              "  (rnn): RNN(256, 512, num_layers=3, batch_first=True, dropout=0.3)\n",
              "  (projection): Linear(in_features=512, out_features=20089, bias=True)\n",
              ")"
            ]
          },
          "metadata": {},
          "execution_count": 100
        }
      ]
    },
    {
      "cell_type": "code",
      "metadata": {
        "id": "qwBqO3z7bj_L"
      },
      "source": [
        "#### Training loop (same as the feedforward model)"
      ],
      "execution_count": null,
      "outputs": []
    },
    {
      "cell_type": "code",
      "metadata": {
        "id": "Fw28_6qXbj_M"
      },
      "source": [
        "plot_cache = []\n",
        "\n",
        "if not load_pretrained:\n",
        "    for epoch_number in range(100):\n",
        "        avg_loss = 0\n",
        "        model.train()\n",
        "\n",
        "        train_loss_cache = 0\n",
        "        train_non_pad_tokens_cache = 0\n",
        "\n",
        "        for i, (inp, target) in enumerate(dataloaders['train']):\n",
        "            optimizer.zero_grad()\n",
        "            inp = inp.to(current_device)\n",
        "            target = target.to(current_device)\n",
        "            logits = model(inp)\n",
        "\n",
        "            loss = criterion(logits.view(-1, logits.size(-1)), target.view(-1))\n",
        "            train_loss_cache += loss.item()  # still sum here\n",
        "\n",
        "            non_pad_tokens = target.view(-1).ne(dictionary.get_id('<pad>')).sum().item()            \n",
        "            train_non_pad_tokens_cache += non_pad_tokens\n",
        "\n",
        "            loss /= non_pad_tokens \n",
        "\n",
        "            loss.backward()\n",
        "            optimizer.step()\n",
        "\n",
        "            if i % 100 == 0:\n",
        "                avg_loss = train_loss_cache / train_non_pad_tokens_cache\n",
        "                print('Step {} avg train loss = {:.{prec}f}'.format(i, avg_loss, prec=4))\n",
        "                train_log_cache = []\n",
        "\n",
        "        valid_loss_cache = 0\n",
        "        valid_non_pad_tokens_cache = 0\n",
        "\n",
        "        model.eval()\n",
        "        with torch.no_grad():\n",
        "            for i, (inp, target) in enumerate(dataloaders['valid']):\n",
        "                inp = inp.to(current_device)\n",
        "                target = target.to(current_device)\n",
        "                logits = model(inp)\n",
        "\n",
        "                loss = criterion(logits.view(-1, logits.size(-1)), target.view(-1))\n",
        "                valid_loss_cache += loss.item()  # still sum here\n",
        "                non_pad_tokens = target.view(-1).ne(dictionary.get_id('<pad>')).sum().item()\n",
        "\n",
        "                valid_non_pad_tokens_cache += non_pad_tokens\n",
        "\n",
        "            avg_val_loss = valid_loss_cache / valid_non_pad_tokens_cache\n",
        "\n",
        "            print('Validation loss after {} epoch = {:.{prec}f}'.format(epoch_number, avg_val_loss, prec=4))\n",
        "\n",
        "        plot_cache.append((avg_loss, avg_val_loss))\n"
      ],
      "execution_count": null,
      "outputs": []
    },
    {
      "cell_type": "code",
      "metadata": {
        "id": "KAV_hzMvbj_O"
      },
      "source": [
        "if load_pretrained:\n",
        "    plot_cache = model_dict['loss_cache']"
      ],
      "execution_count": null,
      "outputs": []
    },
    {
      "cell_type": "markdown",
      "metadata": {
        "id": "ESfQXpXm9rKf"
      },
      "source": [
        "### 4. Evaluation"
      ]
    },
    {
      "cell_type": "code",
      "metadata": {
        "colab": {
          "base_uri": "https://localhost:8080/",
          "height": 281
        },
        "id": "fhTtmqBfufyE",
        "outputId": "d9d360e8-9b3f-4f3c-b08f-f537d75d5679"
      },
      "source": [
        "import matplotlib.pyplot as plt\n",
        "import numpy\n",
        "\n",
        "epochs = numpy.array(list(range(len(plot_cache))))\n",
        "plt.plot(epochs, [i[0] for i in plot_cache], label='Train loss')\n",
        "plt.plot(epochs, [i[1] for i in plot_cache], label='Valid loss')\n",
        "\n",
        "plt.legend()\n",
        "plt.title('Loss curves')\n",
        "plt.show()"
      ],
      "execution_count": null,
      "outputs": [
        {
          "output_type": "display_data",
          "data": {
            "text/plain": [
              "<Figure size 432x288 with 1 Axes>"
            ],
            "image/png": "[encoded data removed]"
          },
          "metadata": {
            "needs_background": "light"
          }
        }
      ]
    },
    {
      "cell_type": "code",
      "metadata": {
        "colab": {
          "base_uri": "https://localhost:8080/",
          "height": 281
        },
        "id": "R_A4w1QFufyN",
        "outputId": "a67cf162-5201-4143-a52a-736d961f917b"
      },
      "source": [
        "import matplotlib.pyplot as plt\n",
        "import numpy\n",
        "\n",
        "epochs = numpy.array(list(range(len(plot_cache))))\n",
        "plt.plot(epochs, [2**(i[0]/numpy.log(2)) for i in plot_cache], label='Train ppl')\n",
        "plt.plot(epochs, [2**(i[1]/numpy.log(2)) for i in plot_cache], label='Valid ppl')\n",
        "\n",
        "plt.legend()\n",
        "plt.title('PPL curves')\n",
        "plt.show()"
      ],
      "execution_count": null,
      "outputs": [
        {
          "output_type": "display_data",
          "data": {
            "text/plain": [
              "<Figure size 432x288 with 1 Axes>"
            ],
            "image/png": "[encoded data removed]"
          },
          "metadata": {
            "needs_background": "light"
          }
        }
      ]
    },
    {
      "cell_type": "code",
      "source": [
        "val_ppl = np.min([2**(i[1]/numpy.log(2)) for i in plot_cache])\n",
        "k = np.argmin([2**(i[1]/numpy.log(2)) for i in plot_cache])\n",
        "train_ppl = 2**(plot_cache[k][0]/numpy.log(2))\n",
        "\n",
        "val_df = val_df.append({'model': 'rnn ', 'ppl': val_ppl}, ignore_index=True)\n",
        "train_df = train_df.append({'model': 'rnn ', 'ppl': train_ppl}, ignore_index=True)\n",
        "\n",
        "print('===== Train ======')\n",
        "print(train_df)\n",
        "print('==== Validation ======')\n",
        "print(val_df)"
      ],
      "metadata": {
        "colab": {
          "base_uri": "https://localhost:8080/"
        },
        "id": "aqpJr19oz4PO",
        "outputId": "4b9ead72-ea1b-4469-990d-4a1b6f352c04"
      },
      "execution_count": null,
      "outputs": [
        {
          "output_type": "stream",
          "name": "stdout",
          "text": [
            "===== Train ======\n",
            "         model        ppl\n",
            "0  kenlm (n=2)  39.924842\n",
            "1  kenlm (n=3)  15.462037\n",
            "2  kenlm (n=4)   8.919611\n",
            "3   ffnn (n=4)  29.426679\n",
            "4         rnn   29.582432\n",
            "==== Validation ======\n",
            "         model        ppl\n",
            "0  kenlm (n=2)  59.187973\n",
            "1  kenlm (n=3)  44.977117\n",
            "2  kenlm (n=4)  43.218831\n",
            "3   ffnn (n=4)  43.649380\n",
            "4         rnn   38.204541\n"
          ]
        }
      ]
    },
    {
      "cell_type": "markdown",
      "metadata": {
        "id": "zAvP_FXgbj_W"
      },
      "source": [
        "### Conditional probability queries\n",
        "\n",
        "We can query different probabilities:\n",
        "\n",
        "$\\large p(\\underbrace{x_t}_{\\text{token}}|\\underbrace{x_{<t}}_{\\text{prefix}})$"
      ]
    },
    {
      "cell_type": "code",
      "metadata": {
        "colab": {
          "base_uri": "https://localhost:8080/"
        },
        "id": "TMG0r9zwbj_X",
        "outputId": "2d1d5a63-4ab7-4b81-b4bc-a78eb0ed41c1"
      },
      "source": [
        "import torch\n",
        "\n",
        "def next_token_probabilities(prefix, token):\n",
        "    inp = dictionary.encode_token_seq(prefix.split(' '))\n",
        "    with torch.no_grad():\n",
        "        model.eval()\n",
        "        logits = model(\n",
        "            torch.tensor([inp], dtype=torch.long).to(current_device)\n",
        "        )\n",
        "        \n",
        "    token_id = dictionary.get_id(token)\n",
        "    p_next_token = torch.softmax(logits[0, -1], dim=-1)\n",
        "    return p_next_token[token_id]\n",
        "\n",
        "prefix = '<bos> i have a pet dog cat and' #length of sequence not limited to n-gram\n",
        "\n",
        "for w in ['dog', 'zebra', 'donut', 'velociraptor']:\n",
        "    prob = next_token_probabilities(prefix, w)\n",
        "    print('p( %s  | %s )\\t= %.3E' % (w, prefix, prob))\n",
        "    "
      ],
      "execution_count": null,
      "outputs": [
        {
          "output_type": "stream",
          "name": "stdout",
          "text": [
            "p( dog  | <bos> i have a pet dog cat and )\t= 3.826E-03\n",
            "p( zebra  | <bos> i have a pet dog cat and )\t= 8.641E-06\n",
            "p( donut  | <bos> i have a pet dog cat and )\t= 1.925E-06\n",
            "p( velociraptor  | <bos> i have a pet dog cat and )\t= 2.298E-07\n"
          ]
        }
      ]
    },
    {
      "cell_type": "markdown",
      "metadata": {
        "id": "8OSlmrRx9rKg"
      },
      "source": [
        "\n",
        "\n",
        "And sort by the highest probability next-tokens:\n",
        "\n",
        "$\\large \\texttt{sort}(p(\\cdot|\\underbrace{x_{<t}}_{\\text{prefix}}))$"
      ]
    },
    {
      "cell_type": "code",
      "metadata": {
        "colab": {
          "base_uri": "https://localhost:8080/"
        },
        "id": "rcPkhI4z9rKg",
        "outputId": "7a88bb85-9ce6-40c9-a43c-797ab8be06be"
      },
      "source": [
        "def get_top_token_given_prefix(prefix, top=10):\n",
        "    inp = dictionary.encode_token_seq(prefix.split(' '))\n",
        "    with torch.no_grad():\n",
        "        model.eval()\n",
        "        logits = model(\n",
        "            torch.tensor([inp], dtype=torch.long).to(current_device)\n",
        "        )\n",
        "        \n",
        "    p_next_token = torch.softmax(logits[0, -1], dim=-1)\n",
        "    sorted_probs, sorted_token_ids = torch.topk(p_next_token, top)\n",
        "\n",
        "    for i in range(sorted_token_ids.size(0)):\n",
        "        print('p( %s  | %s )\\t= %.5f' % \n",
        "              (dictionary.decode_idx_seq([sorted_token_ids[i]])[0], \n",
        "               prefix, \n",
        "               sorted_probs[i])\n",
        "        )\n",
        "\n",
        "get_top_token_given_prefix('<bos> the weather is')"
      ],
      "execution_count": null,
      "outputs": [
        {
          "output_type": "stream",
          "name": "stdout",
          "text": [
            "p( great  | <bos> the weather is )\t= 0.09953\n",
            "p( nice  | <bos> the weather is )\t= 0.07859\n",
            "p( beautiful  | <bos> the weather is )\t= 0.06185\n",
            "p( fun  | <bos> the weather is )\t= 0.05039\n",
            "p( good  | <bos> the weather is )\t= 0.04573\n",
            "p( awesome  | <bos> the weather is )\t= 0.04308\n",
            "p( cool  | <bos> the weather is )\t= 0.04212\n",
            "p( my  | <bos> the weather is )\t= 0.03604\n",
            "p( a  | <bos> the weather is )\t= 0.02892\n",
            "p( so  | <bos> the weather is )\t= 0.02230\n"
          ]
        }
      ]
    },
    {
      "cell_type": "markdown",
      "metadata": {
        "id": "px0qqnMc9rKh"
      },
      "source": [
        "### Generation (Sampling)\n",
        "\n",
        "Finally, we can generate sentences using the model's conditional distribution:\n",
        "\n",
        "            context = [<bos>]\n",
        "            until <eos> is generated:\n",
        "                wt ~ p(wt | context)\n",
        "                context += [wt]\n",
        "                \n",
        "                \n",
        "Here, the `~` symbol stands for sampling from a categorical distribution. "
      ]
    },
    {
      "cell_type": "code",
      "metadata": {
        "colab": {
          "base_uri": "https://localhost:8080/"
        },
        "id": "Qk0-uRZa9rKh",
        "outputId": "c775ce55-be42-4e0d-881a-0ab9bc49fc7f"
      },
      "source": [
        "import torch\n",
        "\n",
        "def sample(model, prefix, num_samples, temperature=1.0, max_len=50):\n",
        "    inp = torch.tensor([\n",
        "        dictionary.encode_token_seq(prefix.split(' '))\n",
        "    ], dtype=torch.long).to(current_device).repeat([num_samples, 1])\n",
        "\n",
        "    sampled = [prefix.split(' ') for _ in range(num_samples)]\n",
        "    done = torch.tensor([False for _ in range(num_samples)])\n",
        "    hidden = None\n",
        "    \n",
        "    with torch.no_grad():\n",
        "        model.eval()\n",
        "        for t in range(max_len):\n",
        "            logits, hidden = step(model, inp, hidden)\n",
        "            logits_ = (logits[:, -1, :] / temperature)\n",
        "            inp = logits_.softmax(-1).multinomial(1)            \n",
        "            for i in range(num_samples):\n",
        "                tok_ti = dictionary.get_token(inp[i, 0].item())\n",
        "                if tok_ti == '<eos>' and not done[i]:\n",
        "                    done[i] = True\n",
        "                    sampled[i].append(tok_ti)\n",
        "                elif not done[i]:\n",
        "                    sampled[i].append(tok_ti)\n",
        "                else:\n",
        "                    pass\n",
        "            if done.sum() == num_samples:\n",
        "                break\n",
        "        \n",
        "    return sampled\n",
        "\n",
        "def step(rnn, token_ids, hidden):\n",
        "    embeddings = rnn.lookup(token_ids)\n",
        "    output, hidden = rnn.rnn(embeddings, hidden)\n",
        "    logits = rnn.projection(output) \n",
        "    return logits, hidden\n",
        "\n",
        "\n",
        "prefix = '<bos> i have a'\n",
        "\n",
        "for temp in [1.0, 0.5, 0.1]:\n",
        "    print(\"Temperature %.2f\" % temp)\n",
        "    samples = sample(model, prefix, 5, temperature=temp)\n",
        "    for s in samples:\n",
        "        print(' '.join(s))\n",
        "    print()\n",
        "\n",
        "# trick to change model's distribution"
      ],
      "execution_count": null,
      "outputs": [
        {
          "output_type": "stream",
          "name": "stdout",
          "text": [
            "Temperature 1.00\n",
            "<bos> i have a thing for the spelling my dog and this western . <eos>\n",
            "<bos> i have a part time job . <eos>\n",
            "<bos> i have a 4 year old . we could make some cash cars , its why i mean . <eos>\n",
            "<bos> i have a cat named radar and two sisters . <eos>\n",
            "<bos> i have a blue car that is tofu . <eos>\n",
            "\n",
            "Temperature 0.50\n",
            "<bos> i have a cat named cow . <eos>\n",
            "<bos> i have a cat named color , she is my best friend . <eos>\n",
            "<bos> i have a dog and a cat . <eos>\n",
            "<bos> i have a dog . he is my best friend . <eos>\n",
            "<bos> i have a cat named who is my favorite band . <eos>\n",
            "\n",
            "Temperature 0.10\n",
            "<bos> i have a cat named cow . <eos>\n",
            "<bos> i have a dog named toto . <eos>\n",
            "<bos> i have a cat named cow . <eos>\n",
            "<bos> i have a lot of friends . <eos>\n",
            "<bos> i have a dog named toto . <eos>\n",
            "\n"
          ]
        }
      ]
    },
    {
      "cell_type": "code",
      "metadata": {
        "id": "uzGqlrKhbj_g"
      },
      "source": [
        "# Saving the model\n",
        "if False:\n",
        "    torch.save({\n",
        "        'options': options,\n",
        "        'loss_cache': plot_cache,\n",
        "        'model_dict': model.state_dict()\n",
        "    }, './persona_rnn_lm.pt')"
      ],
      "execution_count": null,
      "outputs": []
    },
    {
      "cell_type": "markdown",
      "metadata": {
        "id": "PNwDlMsL9rKh"
      },
      "source": [
        "# Large-scale Language Modeling.\n",
        "\n",
        "The language model above is relatively small in terms of the number of parameters, and is trained on a (very) small dataset.\n",
        "\n",
        "Recently, researchers have trained **large-scale language models** on **large amounts of data**, resulting in improved language modeling and generation ability. \n",
        "\n",
        "We take one from FAIR's recently published Open Pretrained Transformers (OPT) [[paper]([[paper](https://arxiv.org/pdf/2205.01068.pdf)] as an example here. OPT is a suite of decoder-only pre-trained transformers ranging from 125M to 175B parameters. We won't currently discuss the details of this model, but we can easily **use a pre-trained version to generate text**,"
      ]
    },
    {
      "cell_type": "markdown",
      "source": [
        "### [facebook/opt-350m](https://huggingface.co/facebook/opt-350m)"
      ],
      "metadata": {
        "id": "FifYNm9XUbZ2"
      }
    },
    {
      "cell_type": "code",
      "metadata": {
        "colab": {
          "base_uri": "https://localhost:8080/"
        },
        "id": "Bsh0TBqd9rKh",
        "outputId": "1227a6a0-b753-4b94-fe38-5bc06e9539ad"
      },
      "source": [
        "!pip install transformers"
      ],
      "execution_count": null,
      "outputs": [
        {
          "output_type": "stream",
          "name": "stdout",
          "text": [
            "Looking in indexes: https://pypi.org/simple, https://us-python.pkg.dev/colab-wheels/public/simple/\n",
            "Collecting transformers\n",
            "  Downloading transformers-4.19.2-py3-none-any.whl (4.2 MB)\n",
            "\u001b[K     |████████████████████████████████| 4.2 MB 6.9 MB/s \n",
            "\u001b[?25hCollecting huggingface-hub<1.0,>=0.1.0\n",
            "  Downloading huggingface_hub-0.7.0-py3-none-any.whl (86 kB)\n",
            "\u001b[K     |████████████████████████████████| 86 kB 6.0 MB/s \n",
            "\u001b[?25hRequirement already satisfied: requests in /usr/local/lib/python3.7/dist-packages (from transformers) (2.23.0)\n",
            "Requirement already satisfied: filelock in /usr/local/lib/python3.7/dist-packages (from transformers) (3.7.0)\n",
            "Requirement already satisfied: regex!=2019.12.17 in /usr/local/lib/python3.7/dist-packages (from transformers) (2019.12.20)\n",
            "Requirement already satisfied: tqdm>=4.27 in /usr/local/lib/python3.7/dist-packages (from transformers) (4.64.0)\n",
            "Requirement already satisfied: numpy>=1.17 in /usr/local/lib/python3.7/dist-packages (from transformers) (1.21.6)\n",
            "Requirement already satisfied: packaging>=20.0 in /usr/local/lib/python3.7/dist-packages (from transformers) (21.3)\n",
            "Requirement already satisfied: importlib-metadata in /usr/local/lib/python3.7/dist-packages (from transformers) (4.11.3)\n",
            "Collecting tokenizers!=0.11.3,<0.13,>=0.11.1\n",
            "  Downloading tokenizers-0.12.1-cp37-cp37m-manylinux_2_12_x86_64.manylinux2010_x86_64.whl (6.6 MB)\n",
            "\u001b[K     |████████████████████████████████| 6.6 MB 28.2 MB/s \n",
            "\u001b[?25hCollecting pyyaml>=5.1\n",
            "  Downloading PyYAML-6.0-cp37-cp37m-manylinux_2_5_x86_64.manylinux1_x86_64.manylinux_2_12_x86_64.manylinux2010_x86_64.whl (596 kB)\n",
            "\u001b[K     |████████████████████████████████| 596 kB 66.8 MB/s \n",
            "\u001b[?25hRequirement already satisfied: typing-extensions>=3.7.4.3 in /usr/local/lib/python3.7/dist-packages (from huggingface-hub<1.0,>=0.1.0->transformers) (4.2.0)\n",
            "Requirement already satisfied: pyparsing!=3.0.5,>=2.0.2 in /usr/local/lib/python3.7/dist-packages (from packaging>=20.0->transformers) (3.0.9)\n",
            "Requirement already satisfied: zipp>=0.5 in /usr/local/lib/python3.7/dist-packages (from importlib-metadata->transformers) (3.8.0)\n",
            "Requirement already satisfied: chardet<4,>=3.0.2 in /usr/local/lib/python3.7/dist-packages (from requests->transformers) (3.0.4)\n",
            "Requirement already satisfied: urllib3!=1.25.0,!=1.25.1,<1.26,>=1.21.1 in /usr/local/lib/python3.7/dist-packages (from requests->transformers) (1.24.3)\n",
            "Requirement already satisfied: idna<3,>=2.5 in /usr/local/lib/python3.7/dist-packages (from requests->transformers) (2.10)\n",
            "Requirement already satisfied: certifi>=2017.4.17 in /usr/local/lib/python3.7/dist-packages (from requests->transformers) (2022.5.18.1)\n",
            "Installing collected packages: pyyaml, tokenizers, huggingface-hub, transformers\n",
            "  Attempting uninstall: pyyaml\n",
            "    Found existing installation: PyYAML 3.13\n",
            "    Uninstalling PyYAML-3.13:\n",
            "      Successfully uninstalled PyYAML-3.13\n",
            "Successfully installed huggingface-hub-0.7.0 pyyaml-6.0 tokenizers-0.12.1 transformers-4.19.2\n"
          ]
        }
      ]
    },
    {
      "cell_type": "code",
      "source": [
        "from transformers import pipeline, set_seed\n",
        "\n",
        "set_seed(32)\n",
        "generator = pipeline('text-generation', \n",
        "                     model=\"facebook/opt-350m\", \n",
        "                     do_sample=True, \n",
        "                     num_return_sequences=5, max_length = 50)\n",
        "generator(\"My love story\")"
      ],
      "metadata": {
        "colab": {
          "base_uri": "https://localhost:8080/"
        },
        "id": "dprAK8ZZNwvR",
        "outputId": "99e59b2b-d55e-4e68-fb6d-d1daf1d82b23"
      },
      "execution_count": null,
      "outputs": [
        {
          "output_type": "execute_result",
          "data": {
            "text/plain": [
              "[{'generated_text': \"My love story with a woman,  I don't want to say it a lot but the story is great. Like... I don't think I could ever imagine love with a person, not even if I were to marry them 😦\\nI\"},\n",
              " {'generated_text': \"My love story with my ex.\\nThat's an interesting story, huh?\\nActually, not but thank you! :p\"},\n",
              " {'generated_text': 'My love story with my SO! There\\'s just no other way for me to express it without saying \"he\\'s such a sweet and nice guy...\"  I don\\'t know, if someone has already told you this about your SO, maybe you should'},\n",
              " {'generated_text': \"My love story with my first boyfriend.\\nAwwwwwwwwwwwwwwwwwwwwwwww\\nHaha it feels so good to know that everything I would have wanted in a boyfriend has come true.\\nI'd say that's\"},\n",
              " {'generated_text': 'My love story\\n\\nThe story of the love of my life, her heart, her mind and her heart. There was a whole spectrum of emotions. Being the most kind soul in the world could be daunting. There was fear and guilt. There'}]"
            ]
          },
          "metadata": {},
          "execution_count": 118
        }
      ]
    },
    {
      "cell_type": "markdown",
      "source": [
        "### [facebook/opt-2.7b](https://huggingface.co/facebook/opt-2.7b)"
      ],
      "metadata": {
        "id": "WLAr9in1Uo6p"
      }
    },
    {
      "cell_type": "markdown",
      "source": [
        "We can also load even very large checkpoints by leveraging the dispatching utility in colab. This should handle up to 11B in Colab Free, and 30B in colab Pro. We will demonstrate how to load the **facebook/opt-2.7b** checkpoint here.\n",
        "\n",
        "\n",
        "Ref: https://colab.research.google.com/drive/14wnxMvD9zsiBQo2FtTpxn6w2cpXCcb-7#scrollTo=R94R2YaeQMQS&uniqifier=1"
      ],
      "metadata": {
        "id": "a0PHVvqPS1Ou"
      }
    },
    {
      "cell_type": "code",
      "source": [
        "! pip install transformers accelerate"
      ],
      "metadata": {
        "id": "zSn6mDbqM5O4",
        "colab": {
          "base_uri": "https://localhost:8080/"
        },
        "outputId": "6af975d7-52ae-4a0e-f274-9a26d6d7e5a9"
      },
      "execution_count": null,
      "outputs": [
        {
          "output_type": "stream",
          "name": "stdout",
          "text": [
            "Looking in indexes: https://pypi.org/simple, https://us-python.pkg.dev/colab-wheels/public/simple/\n",
            "Requirement already satisfied: transformers in /usr/local/lib/python3.7/dist-packages (4.19.2)\n",
            "Collecting accelerate\n",
            "  Downloading accelerate-0.9.0-py3-none-any.whl (106 kB)\n",
            "\u001b[K     |████████████████████████████████| 106 kB 8.3 MB/s \n",
            "\u001b[?25hRequirement already satisfied: importlib-metadata in /usr/local/lib/python3.7/dist-packages (from transformers) (4.11.3)\n",
            "Requirement already satisfied: numpy>=1.17 in /usr/local/lib/python3.7/dist-packages (from transformers) (1.21.6)\n",
            "Requirement already satisfied: tqdm>=4.27 in /usr/local/lib/python3.7/dist-packages (from transformers) (4.64.0)\n",
            "Requirement already satisfied: filelock in /usr/local/lib/python3.7/dist-packages (from transformers) (3.7.0)\n",
            "Requirement already satisfied: tokenizers!=0.11.3,<0.13,>=0.11.1 in /usr/local/lib/python3.7/dist-packages (from transformers) (0.12.1)\n",
            "Requirement already satisfied: regex!=2019.12.17 in /usr/local/lib/python3.7/dist-packages (from transformers) (2019.12.20)\n",
            "Requirement already satisfied: huggingface-hub<1.0,>=0.1.0 in /usr/local/lib/python3.7/dist-packages (from transformers) (0.7.0)\n",
            "Requirement already satisfied: requests in /usr/local/lib/python3.7/dist-packages (from transformers) (2.23.0)\n",
            "Requirement already satisfied: packaging>=20.0 in /usr/local/lib/python3.7/dist-packages (from transformers) (21.3)\n",
            "Requirement already satisfied: pyyaml>=5.1 in /usr/local/lib/python3.7/dist-packages (from transformers) (6.0)\n",
            "Requirement already satisfied: typing-extensions>=3.7.4.3 in /usr/local/lib/python3.7/dist-packages (from huggingface-hub<1.0,>=0.1.0->transformers) (4.2.0)\n",
            "Requirement already satisfied: pyparsing!=3.0.5,>=2.0.2 in /usr/local/lib/python3.7/dist-packages (from packaging>=20.0->transformers) (3.0.9)\n",
            "Requirement already satisfied: torch>=1.4.0 in /usr/local/lib/python3.7/dist-packages (from accelerate) (1.11.0+cu113)\n",
            "Requirement already satisfied: zipp>=0.5 in /usr/local/lib/python3.7/dist-packages (from importlib-metadata->transformers) (3.8.0)\n",
            "Requirement already satisfied: urllib3!=1.25.0,!=1.25.1,<1.26,>=1.21.1 in /usr/local/lib/python3.7/dist-packages (from requests->transformers) (1.24.3)\n",
            "Requirement already satisfied: certifi>=2017.4.17 in /usr/local/lib/python3.7/dist-packages (from requests->transformers) (2022.5.18.1)\n",
            "Requirement already satisfied: chardet<4,>=3.0.2 in /usr/local/lib/python3.7/dist-packages (from requests->transformers) (3.0.4)\n",
            "Requirement already satisfied: idna<3,>=2.5 in /usr/local/lib/python3.7/dist-packages (from requests->transformers) (2.10)\n",
            "Installing collected packages: accelerate\n",
            "Successfully installed accelerate-0.9.0\n"
          ]
        }
      ]
    },
    {
      "cell_type": "code",
      "source": [
        "from huggingface_hub import snapshot_download\n",
        "\n",
        "checkpoint = 'facebook/opt-2.7b'\n",
        "weights_path = snapshot_download(checkpoint)\n",
        "\n",
        "# If the folder contains a checkpoint that isn't sharded, it needs to point to the state dict directly\n",
        "# otherwise point to the directory containing the shard\n",
        "import os\n",
        "files = os.listdir(weights_path)\n",
        "weights_path = os.path.join(weights_path, 'pytorch_model.bin') if 'pytorch_model.bin' in files else weights_path"
      ],
      "metadata": {
        "colab": {
          "base_uri": "https://localhost:8080/",
          "height": 273,
          "referenced_widgets": [
            "764d98af2eef41698234e4a24f2e85b2",
            "f3dd3032358a4ae2bf1700dd587974cd",
            "cd0e700ceb9740f0b13f7dda5ba82443",
            "0e70783a9e97488fa32145180067289c",
            "e33f2b84b79d4546b971e4eaee81fa3a",
            "c8402592957447b4946edcfcce293d39",
            "df7fbd69989c4e898463b9b9e02287e5",
            "6420d1cd2afd407c8dab6b347f1159a3",
            "67d81b5ec71e4963ab532549aad3370d",
            "5a4afb40fb544df1ac3396078e05fba2",
            "ab5ea21dde9b46e68aacf2955b87962d",
            "ece1e018b97d456890e0bb758e205e9d",
            "aea6c0cb6c96439fbf3c48e860c3d96d",
            "ba61fa87081943ed97ae82260158427c",
            "d9159c86b5414a1ba9faef52a6c18329",
            "e0c4f93742b54f4783f9aea9dc9479cd",
            "69ac68db5b844aaaba0f6996dc355cb5",
            "24fcdbb3f060456bb2b3fd4ef773b45c",
            "922efc89c92e46c4b16c15b3ec86d43f",
            "3d356ac4f57840fc92551d31d92cefa4",
            "57db7a43139e4535af682cfb8f674052",
            "ce3cc286f3854f89bc7aec05f5a04e29",
            "54333c121f7c46da8f1aa01928492483",
            "045b1adcb2134b24b963bbb500de212f",
            "5ad581ce4c794eeb92c6b49871c955ee",
            "f68d087fb0014e0fac432cea9d713d36",
            "f91ac592d1714d4f86a983c261e0d101",
            "d0e356bff74a45b393c12e8c652bc891",
            "aa2ba6e4ecb54cb981bd08744bfb64da",
            "3393b554b13b401aaaa888e0f5f52789",
            "9f1300d272cc4508aadd3cee65c12a96",
            "e2fdd682880e49b2a2a55fec47232fc3",
            "65c0c77eb5d147749cdf147a0b09f465",
            "a00591f6d5ea4093b906daefa3096aab",
            "ef316ac596ad4ee0ba52d73a9d30b268",
            "68780ba4f94a4fa080d74780268e3537",
            "d96c40150128471795ca453fe0813b87",
            "617603ddbc2745ccaf3a302fe729274a",
            "f338f307da7f40d0af6028b916d87ed1",
            "c389fe83cd634bd1bde382f9834381e3",
            "f3da839a6cfc481e9bdb7ca4e5d276c1",
            "75af18d080254bbc92c3a254c724b26c",
            "6c3ecc8a1bc04d34a1f895741a3f7df9",
            "4c90845bbb154b1ba746fbe768345423",
            "3d9a87ed8f9041f58a1ef600582868fd",
            "a7b7f8cc607e4067ac29557186ab933a",
            "ffea496258844d6b8d8e270273cf7f6e",
            "4297c98f518747f9a0ce1b91684939e3",
            "75827421cb654f60b46dbad2626bdf4e",
            "4c3ace129fea46a8b45888451cf10143",
            "42478695ad7b4a9a87609bdb3f409be5",
            "d1183ffead2a4140a03699ead1906b7d",
            "84f4e47dae8a47549b33baccc74eb3e6",
            "40c731330d9742da99e3af0449cd28d2",
            "6d710ee81b094df7957a5c10392a314a",
            "71f9eda96db14e608d841b4ab08f300a",
            "773792377bc841578ae8eeebcb626697",
            "49ec1e83d9ed4129bf39d22d6a448454",
            "ff4bd3145730401b9c979d099e5c772d",
            "7ae17e24f13b44aa9eaa10e4ee1ac169",
            "d8f3980062004be0bc6697260f2e3928",
            "53a3a1e092f84e94846c54d59015ab8b",
            "a71a101d91084ae281ba0094cac8041c",
            "4ad1d8e32533448f84110fa283b943de",
            "f4ee7e2608fb49399fb2b0e2cd4bdf0b",
            "ea8637f930a947ecb63fdd49a2a845da",
            "a3064a3c73484572ba0a0d86318816f2",
            "cf109a14c81d49c89a306f1d6212cc07",
            "8c108fa9bbd74974b2e272dfe67c71ca",
            "ec980b44bd754365be03a3f972d540e8",
            "80f28218d2064b14a52ce8341b72a16b",
            "624a97e859fd4de1b2f8f2597e69e949",
            "7c458783263e4e26873e836080a35b4c",
            "3302cee5f9be4fa0919321298199916f",
            "4f5e74bfe90347fea0ae68e22d556804",
            "6c8ad88ea286427f8523335c237c3f99",
            "df8d2eefd43e42f0a6bda001317730ea",
            "11aeb85615ce432b8b343cbd40fbe241",
            "7a8401eb61784cbcb5b953346829a99e",
            "95c7cc866c35421fb20b6c37ce70b543",
            "e008417f683e468699c3553a9efb296b",
            "858090c4983d437bb5f97eedd1ed71dc",
            "a10d6392b7f74645888bb667e2a8a990",
            "ca55836a96b64c9b8b690d88b09495b0",
            "64db98fbf9f340aeb81a7dae899bcc8a",
            "9ce027adbb874031bcddd7efa674f96e",
            "c7adf04242e64c68b154aba1086f1b1e",
            "8999be2f564d44838a95cbc065038473"
          ]
        },
        "id": "mm7yttuNTMZo",
        "outputId": "6def1a71-fb67-45d4-e5fe-53070a135558"
      },
      "execution_count": null,
      "outputs": [
        {
          "output_type": "display_data",
          "data": {
            "text/plain": [
              "Downloading:   0%|          | 0.00/1.17k [00:00<?, ?B/s]"
            ],
            "application/vnd.jupyter.widget-view+json": {
              "version_major": 2,
              "version_minor": 0,
              "model_id": "764d98af2eef41698234e4a24f2e85b2"
            }
          },
          "metadata": {}
        },
        {
          "output_type": "display_data",
          "data": {
            "text/plain": [
              "Downloading:   0%|          | 0.00/9.06k [00:00<?, ?B/s]"
            ],
            "application/vnd.jupyter.widget-view+json": {
              "version_major": 2,
              "version_minor": 0,
              "model_id": "ece1e018b97d456890e0bb758e205e9d"
            }
          },
          "metadata": {}
        },
        {
          "output_type": "display_data",
          "data": {
            "text/plain": [
              "Downloading:   0%|          | 0.00/614 [00:00<?, ?B/s]"
            ],
            "application/vnd.jupyter.widget-view+json": {
              "version_major": 2,
              "version_minor": 0,
              "model_id": "54333c121f7c46da8f1aa01928492483"
            }
          },
          "metadata": {}
        },
        {
          "output_type": "display_data",
          "data": {
            "text/plain": [
              "Downloading:   0%|          | 0.00/456k [00:00<?, ?B/s]"
            ],
            "application/vnd.jupyter.widget-view+json": {
              "version_major": 2,
              "version_minor": 0,
              "model_id": "a00591f6d5ea4093b906daefa3096aab"
            }
          },
          "metadata": {}
        },
        {
          "output_type": "display_data",
          "data": {
            "text/plain": [
              "Downloading:   0%|          | 0.00/5.30G [00:00<?, ?B/s]"
            ],
            "application/vnd.jupyter.widget-view+json": {
              "version_major": 2,
              "version_minor": 0,
              "model_id": "3d9a87ed8f9041f58a1ef600582868fd"
            }
          },
          "metadata": {}
        },
        {
          "output_type": "display_data",
          "data": {
            "text/plain": [
              "Downloading:   0%|          | 0.00/441 [00:00<?, ?B/s]"
            ],
            "application/vnd.jupyter.widget-view+json": {
              "version_major": 2,
              "version_minor": 0,
              "model_id": "71f9eda96db14e608d841b4ab08f300a"
            }
          },
          "metadata": {}
        },
        {
          "output_type": "display_data",
          "data": {
            "text/plain": [
              "Downloading:   0%|          | 0.00/685 [00:00<?, ?B/s]"
            ],
            "application/vnd.jupyter.widget-view+json": {
              "version_major": 2,
              "version_minor": 0,
              "model_id": "a3064a3c73484572ba0a0d86318816f2"
            }
          },
          "metadata": {}
        },
        {
          "output_type": "display_data",
          "data": {
            "text/plain": [
              "Downloading:   0%|          | 0.00/899k [00:00<?, ?B/s]"
            ],
            "application/vnd.jupyter.widget-view+json": {
              "version_major": 2,
              "version_minor": 0,
              "model_id": "11aeb85615ce432b8b343cbd40fbe241"
            }
          },
          "metadata": {}
        }
      ]
    },
    {
      "cell_type": "markdown",
      "metadata": {
        "id": "kWdYkXxblJLh"
      },
      "source": [
        "We then instantiate a configuration, and we load the model from the config inside the `init_empty_weights` decorator. \n",
        "\n",
        "This decorate instantiates an empty shell with the model. This does not actually load or instantiate any weight, only the shapes.\n",
        "\n",
        "This unties the weights, so we manually retie the weights afterwards."
      ]
    },
    {
      "cell_type": "code",
      "execution_count": null,
      "metadata": {
        "colab": {
          "base_uri": "https://localhost:8080/",
          "height": 49,
          "referenced_widgets": [
            "de44d434d4714309a5ea46a5da7146f8",
            "10031aa0ae854691ac53b877004bac8d",
            "b24af1d7db774fb0b6cdf935a2bebc67",
            "bb2321fbc8e74e03be34cab2f5deb953",
            "54458619e5b648bea41756c5cf0207e5",
            "7e98ec59061141df8d0ae389018a54d9",
            "5b1f6b3ffbb94d65ae8e022c90557978",
            "09437138c676453ea71890b8476716f5",
            "12305794560b4ae3b2a6a5d89030fc9d",
            "ef4ac270b8b74956ae21d797ae55ab50",
            "c5365399334b49f5868e3985d30d7510"
          ]
        },
        "id": "y8Ne7jJdaF9F",
        "outputId": "3d0c79e2-7109-41c6-f7ae-f6a6e3d15cc3"
      },
      "outputs": [
        {
          "output_type": "display_data",
          "data": {
            "text/plain": [
              "Downloading:   0%|          | 0.00/614 [00:00<?, ?B/s]"
            ],
            "application/vnd.jupyter.widget-view+json": {
              "version_major": 2,
              "version_minor": 0,
              "model_id": "de44d434d4714309a5ea46a5da7146f8"
            }
          },
          "metadata": {}
        }
      ],
      "source": [
        "from accelerate import init_empty_weights, dispatch_model, infer_auto_device_map, load_checkpoint_and_dispatch\n",
        "from transformers import AutoConfig, AutoModelForCausalLM, AutoTokenizer, AutoModelForSeq2SeqLM\n",
        "\n",
        "config = AutoConfig.from_pretrained(checkpoint)\n",
        "\n",
        "# Initializes an empty shell with the model. This is instant and does not take any RAM.\n",
        "with init_empty_weights():\n",
        "    model = AutoModelForCausalLM.from_config(config)\n",
        "# Initialize the model under the previous context manager breaks the tied weights.\n",
        "model.tie_weights()"
      ]
    },
    {
      "cell_type": "markdown",
      "metadata": {
        "id": "c4vNLf02lbKZ"
      },
      "source": [
        "Finally, we infer an a device map automatically from the model. It will place all the layers to disk, CPU RAM and GPU ram according to the available memory in each device."
      ]
    },
    {
      "cell_type": "code",
      "execution_count": null,
      "metadata": {
        "id": "1ltXPR7-izUX",
        "colab": {
          "base_uri": "https://localhost:8080/"
        },
        "outputId": "4764aaa7-813b-45c1-d4ac-5cd0419fffb9"
      },
      "outputs": [
        {
          "output_type": "execute_result",
          "data": {
            "text/plain": [
              "{'decoder': 0}"
            ]
          },
          "metadata": {},
          "execution_count": 122
        }
      ],
      "source": [
        "# Infer device map automatically\n",
        "device_map = infer_auto_device_map(model.model, no_split_module_classes=[\"OPTDecoderLayer\"], dtype='float16')\n",
        "\n",
        "if any([k == 'disk' for k in device_map.values()]):\n",
        "    offload_folder = 'offload_folder'\n",
        "else:\n",
        "    offload_folder = None\n",
        "\n",
        "device_map"
      ]
    },
    {
      "cell_type": "markdown",
      "metadata": {
        "id": "0OujQRPal_jJ"
      },
      "source": [
        "We load the checkpoint that is saved on disk and we dispatch it to the devices. At no point is the checkpoint fully loaded in RAM; only parts of it to be dispatched to each device.\n",
        "\n",
        "We load it as float16 so that we may load more layers at a time on each device for a faster execution time.\n",
        "\n",
        "\n",
        "\n",
        "\n"
      ]
    },
    {
      "cell_type": "code",
      "execution_count": null,
      "metadata": {
        "id": "ZeA_LQJ3cGbL"
      },
      "outputs": [],
      "source": [
        "load_checkpoint_and_dispatch(\n",
        "    model.model, \n",
        "    weights_path, \n",
        "    device_map=device_map, \n",
        "    offload_folder=offload_folder, \n",
        "    dtype='float16', \n",
        "    offload_state_dict=True\n",
        ")\n",
        "model.tie_weights()"
      ]
    },
    {
      "cell_type": "markdown",
      "metadata": {
        "id": "MoGXqv_lmVhN"
      },
      "source": [
        "Finally, we create a prompt to generate from and we generate a text from it."
      ]
    },
    {
      "cell_type": "code",
      "execution_count": null,
      "metadata": {
        "id": "3ysaqGruhbf2"
      },
      "outputs": [],
      "source": [
        "tokenizer = AutoTokenizer.from_pretrained('facebook/opt-6.7b')\n",
        "inputs = tokenizer(\"what is machine learning\", return_tensors=\"pt\")\n",
        "\n",
        "output = model.generate(inputs[\"input_ids\"].to(0), \n",
        "                        num_return_sequences=5, \n",
        "                        max_length = 30, \n",
        "                        do_sample=True)\n"
      ]
    },
    {
      "cell_type": "code",
      "execution_count": null,
      "metadata": {
        "id": "SGS9OW5qnaUH",
        "colab": {
          "base_uri": "https://localhost:8080/"
        },
        "outputId": "ce22f6fd-1bf2-4247-d784-c559e0ee639d"
      },
      "outputs": [
        {
          "output_type": "stream",
          "name": "stdout",
          "text": [
            "</s>what is machine learning?\n",
            "Machine Learning refers to Artificial Intelligence techniques applied to solve problems traditionally solved by humans. Machine Learning algorithms utilize Artificial Neural Networks\n",
            "</s>what is machine learning?\n",
            "Machine Learning is basically Artificial Intelligence applied to solving problems humans struggle with. Basically computers solving problems humans struggle with efficiently without\n",
            "</s>what is machine learning?\n",
            "Machine Learning is basically learning algorithms that automate tasks like classification tasks like recognizing patterns etc., whereas statistical algorithms automate regression tasks\n",
            "</s>what is machine learning?\n",
            "Machine learning is basically artificial intelligence applied to data science. Essentially computers analyse data sets and produce predictions based on patterns observed\n",
            "</s>what is machine learning? Machine learning refers to algorithms designed to analyze data sets automatically without requiring human intervention. Machine learning algorithms analyze data sets by identifying\n"
          ]
        }
      ],
      "source": [
        "for out in output:\n",
        "  print(tokenizer.decode(out.tolist()))"
      ]
    },
    {
      "cell_type": "code",
      "source": [
        ""
      ],
      "metadata": {
        "id": "Qw-cqXzIZwuk"
      },
      "execution_count": null,
      "outputs": []
    }
  ]
}